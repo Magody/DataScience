{
 "cells": [
  {
   "cell_type": "code",
   "execution_count": 1,
   "metadata": {},
   "outputs": [],
   "source": [
    "import numpy as np\n",
    "import pandas as pd\n",
    "import textwrap\n",
    "import nltk\n",
    "from nltk import word_tokenize\n",
    "from nltk.tokenize.treebank import TreebankWordDetokenizer"
   ]
  },
  {
   "cell_type": "code",
   "execution_count": 2,
   "metadata": {},
   "outputs": [
    {
     "name": "stderr",
     "output_type": "stream",
     "text": [
      "[nltk_data] Downloading package punkt to /home/magody/nltk_data...\n",
      "[nltk_data]   Package punkt is already up-to-date!\n"
     ]
    },
    {
     "data": {
      "text/plain": [
       "True"
      ]
     },
     "execution_count": 2,
     "metadata": {},
     "output_type": "execute_result"
    }
   ],
   "source": [
    "nltk.download('punkt')"
   ]
  },
  {
   "cell_type": "code",
   "execution_count": 3,
   "metadata": {},
   "outputs": [
    {
     "data": {
      "text/html": [
       "<div>\n",
       "<style scoped>\n",
       "    .dataframe tbody tr th:only-of-type {\n",
       "        vertical-align: middle;\n",
       "    }\n",
       "\n",
       "    .dataframe tbody tr th {\n",
       "        vertical-align: top;\n",
       "    }\n",
       "\n",
       "    .dataframe thead th {\n",
       "        text-align: right;\n",
       "    }\n",
       "</style>\n",
       "<table border=\"1\" class=\"dataframe\">\n",
       "  <thead>\n",
       "    <tr style=\"text-align: right;\">\n",
       "      <th></th>\n",
       "      <th>text</th>\n",
       "      <th>labels</th>\n",
       "    </tr>\n",
       "  </thead>\n",
       "  <tbody>\n",
       "    <tr>\n",
       "      <th>0</th>\n",
       "      <td>Ad sales boost Time Warner profit\\n\\nQuarterly...</td>\n",
       "      <td>business</td>\n",
       "    </tr>\n",
       "    <tr>\n",
       "      <th>1</th>\n",
       "      <td>Dollar gains on Greenspan speech\\n\\nThe dollar...</td>\n",
       "      <td>business</td>\n",
       "    </tr>\n",
       "    <tr>\n",
       "      <th>2</th>\n",
       "      <td>Yukos unit buyer faces loan claim\\n\\nThe owner...</td>\n",
       "      <td>business</td>\n",
       "    </tr>\n",
       "    <tr>\n",
       "      <th>3</th>\n",
       "      <td>High fuel prices hit BA's profits\\n\\nBritish A...</td>\n",
       "      <td>business</td>\n",
       "    </tr>\n",
       "    <tr>\n",
       "      <th>4</th>\n",
       "      <td>Pernod takeover talk lifts Domecq\\n\\nShares in...</td>\n",
       "      <td>business</td>\n",
       "    </tr>\n",
       "  </tbody>\n",
       "</table>\n",
       "</div>"
      ],
      "text/plain": [
       "                                                text    labels\n",
       "0  Ad sales boost Time Warner profit\\n\\nQuarterly...  business\n",
       "1  Dollar gains on Greenspan speech\\n\\nThe dollar...  business\n",
       "2  Yukos unit buyer faces loan claim\\n\\nThe owner...  business\n",
       "3  High fuel prices hit BA's profits\\n\\nBritish A...  business\n",
       "4  Pernod takeover talk lifts Domecq\\n\\nShares in...  business"
      ]
     },
     "execution_count": 3,
     "metadata": {},
     "output_type": "execute_result"
    }
   ],
   "source": [
    "df = pd.read_csv('/home/magody/programming/python/data_science/data/documents_class/bbc_text_cls.csv')\n",
    "df.head()"
   ]
  },
  {
   "cell_type": "code",
   "execution_count": 4,
   "metadata": {},
   "outputs": [
    {
     "data": {
      "text/plain": [
       "0    Ad sales boost Time Warner profit\\n\\nQuarterly...\n",
       "1    Dollar gains on Greenspan speech\\n\\nThe dollar...\n",
       "2    Yukos unit buyer faces loan claim\\n\\nThe owner...\n",
       "3    High fuel prices hit BA's profits\\n\\nBritish A...\n",
       "4    Pernod takeover talk lifts Domecq\\n\\nShares in...\n",
       "Name: text, dtype: object"
      ]
     },
     "execution_count": 4,
     "metadata": {},
     "output_type": "execute_result"
    }
   ],
   "source": [
    "labels = set(df['labels'])\n",
    "# Pick a label whose data we want to train from\n",
    "label = 'business'\n",
    "texts = df[df['labels'] == label]['text']\n",
    "texts.head()"
   ]
  },
  {
   "cell_type": "code",
   "execution_count": 5,
   "metadata": {},
   "outputs": [],
   "source": [
    "# collect counts\n",
    "probs = {} # key: (w(t-1), w(t+1)), value: {w(t): count(w(t))}\n",
    "\n",
    "for doc in texts:\n",
    "  lines = doc.split(\"\\n\")\n",
    "  for line in lines:\n",
    "    tokens = word_tokenize(line)\n",
    "    for i in range(len(tokens) - 2):\n",
    "      t_0 = tokens[i]\n",
    "      t_1 = tokens[i + 1]\n",
    "      t_2 = tokens[i + 2]\n",
    "      key = (t_0, t_2)\n",
    "      if key not in probs:\n",
    "        probs[key] = {}\n",
    "      \n",
    "      # add count for middle token\n",
    "      if t_1 not in probs[key]:\n",
    "        probs[key][t_1] = 1\n",
    "      else:\n",
    "        probs[key][t_1] += 1"
   ]
  },
  {
   "cell_type": "code",
   "execution_count": 6,
   "metadata": {},
   "outputs": [],
   "source": [
    "# normalize probabilities\n",
    "for key, d in probs.items():\n",
    "  # d should represent a distribution\n",
    "  total = sum(d.values())\n",
    "  for k, v in d.items():\n",
    "    d[k] = v / total"
   ]
  },
  {
   "cell_type": "code",
   "execution_count": 7,
   "metadata": {},
   "outputs": [
    {
     "data": {
      "text/plain": [
       "['Ad sales boost Time Warner profit',\n",
       " '',\n",
       " 'Quarterly profits at US media giant TimeWarner jumped 76% to $1.13bn (£600m) for the three months to December, from $639m year-earlier.',\n",
       " '',\n",
       " 'The firm, which is now one of the biggest investors in Google, benefited from sales of high-speed internet connections and higher advert sales. TimeWarner said fourth quarter sales rose 2% to $11.1bn from $10.9bn. Its profits were buoyed by one-off gains which offset a profit dip at Warner Bros, and less users for AOL.',\n",
       " '',\n",
       " \"Time Warner said on Friday that it now owns 8% of search-engine Google. But its own internet business, AOL, had has mixed fortunes. It lost 464,000 subscribers in the fourth quarter profits were lower than in the preceding three quarters. However, the company said AOL's underlying profit before exceptional items rose 8% on the back of stronger internet advertising revenues. It hopes to increase subscribers by offering the online service free to TimeWarner internet customers and will try to sign up AOL's existing customers for high-speed broadband. TimeWarner also has to restate 2000 and 2003 results following a probe by the US Securities Exchange Commission (SEC), which is close to concluding.\",\n",
       " '',\n",
       " 'Time Warner\\'s fourth quarter profits were slightly better than analysts\\' expectations. But its film division saw profits slump 27% to $284m, helped by box-office flops Alexander and Catwoman, a sharp contrast to year-earlier, when the third and final film in the Lord of the Rings trilogy boosted results. For the full-year, TimeWarner posted a profit of $3.36bn, up 27% from its 2003 performance, while revenues grew 6.4% to $42.09bn. \"Our financial performance was strong, meeting or exceeding all of our full-year objectives and greatly enhancing our flexibility,\" chairman and chief executive Richard Parsons said. For 2005, TimeWarner is projecting operating earnings growth of around 5%, and also expects higher revenue and wider profit margins.',\n",
       " '',\n",
       " \"TimeWarner is to restate its accounts as part of efforts to resolve an inquiry into AOL by US market regulators. It has already offered to pay $300m to settle charges, in a deal that is under review by the SEC. The company said it was unable to estimate the amount it needed to set aside for legal reserves, which it previously set at $500m. It intends to adjust the way it accounts for a deal with German music publisher Bertelsmann's purchase of a stake in AOL Europe, which it had reported as advertising revenue. It will now book the sale of its stake in AOL Europe as a loss on the value of that stake.\"]"
      ]
     },
     "execution_count": 7,
     "metadata": {},
     "output_type": "execute_result"
    }
   ],
   "source": [
    "texts.iloc[0].split(\"\\n\")"
   ]
  },
  {
   "cell_type": "code",
   "execution_count": 9,
   "metadata": {},
   "outputs": [],
   "source": [
    "def spin_document(doc):\n",
    "  # split the document into lines (paragraphs)\n",
    "  lines = doc.split(\"\\n\")\n",
    "  output = []\n",
    "  for line in lines:\n",
    "    if line:\n",
    "      new_line = spin_line(line)\n",
    "    else:\n",
    "      new_line = line\n",
    "    output.append(new_line)\n",
    "  return \"\\n\".join(output)\n",
    "\n",
    "def sample_word(d):\n",
    "  p0 = np.random.random()\n",
    "  cumulative = 0\n",
    "  for t, p in d.items():\n",
    "    cumulative += p\n",
    "    if p0 < cumulative:\n",
    "      return t\n",
    "  assert(False) # should never get here\n",
    "\n",
    "def spin_line(line):\n",
    "  tokens = word_tokenize(line)\n",
    "  i = 0\n",
    "  output = [tokens[0]]\n",
    "  while i < (len(tokens) - 2):\n",
    "    t_0 = tokens[i]\n",
    "    t_1 = tokens[i + 1]\n",
    "    t_2 = tokens[i + 2]\n",
    "    key = (t_0, t_2)\n",
    "    p_dist = probs[key]\n",
    "    if len(p_dist) > 1 and np.random.random() < 0.3:\n",
    "      # let's replace the middle word\n",
    "      middle = sample_word(p_dist)\n",
    "      output.append(t_1)\n",
    "      output.append(\"<\" + middle + \">\")\n",
    "      output.append(t_2)\n",
    "\n",
    "      # we won't replace the 3rd token since the middle\n",
    "      # token was dependent on it\n",
    "      # instead, skip ahead 2 steps\n",
    "      i += 2\n",
    "    else:\n",
    "      # we won't replace this middle word\n",
    "      output.append(t_1)\n",
    "      i += 1\n",
    "  # append the final token - only if there was no replacement\n",
    "  if i == len(tokens) - 2:\n",
    "    output.append(tokens[-1])\n",
    "  return detokenizer.detokenize(output)"
   ]
  },
  {
   "cell_type": "code",
   "execution_count": 8,
   "metadata": {},
   "outputs": [
    {
     "data": {
      "text/plain": [
       "'Quarterly profits at US media giant TimeWarner jumped 76% to $1.13bn (£600m) for the three months to December, from $639m year-earlier.'"
      ]
     },
     "execution_count": 8,
     "metadata": {},
     "output_type": "execute_result"
    }
   ],
   "source": [
    "detokenizer = TreebankWordDetokenizer()\n",
    "detokenizer.detokenize(word_tokenize(texts.iloc[0].split(\"\\n\")[2]))"
   ]
  },
  {
   "cell_type": "code",
   "execution_count": 10,
   "metadata": {},
   "outputs": [
    {
     "name": "stdout",
     "output_type": "stream",
     "text": [
      "Bombardier chief to leave company\n",
      "\n",
      "Shares in train and plane-making\n",
      "giant Bombardier have fallen to <to> a 10-year low following <against>\n",
      "the departure <hands> of its chief executive and two members of the\n",
      "<key> board.\n",
      "\n",
      "Paul Tellier, who <which> was also Bombardier's\n",
      "president <epicentre>, left the company amid an ongoing <£80m>\n",
      "restructuring . Laurent Beaudoin, part of the family that controls the\n",
      "Montreal-based firm, will take on <over> the role of CEO under a newly\n",
      "created management structure . Analysts said <believe> the\n",
      "resignations seem to have stemmed from a boardroom dispute . Under Mr\n",
      "Tellier's tenure at the company <subsidy>, which began in January\n",
      "<July> 2003, plans <according> to cut the worldwide workforce of\n",
      "75,000 by almost <signing> a third <movement> by 2006 were announced .\n",
      "The firm's snowmobile <auto> division and defence services unit were\n",
      "also sold and Bombardier started the development <future> of a new\n",
      "aircraft seating 110 to 135 passengers.\n",
      "\n",
      "Mr Tellier had indicated he\n",
      "wanted to stay <expand> at the world <industry>'s top train maker and\n",
      "third largest manufacturer of civil aircraft until the restructuring\n",
      "was complete . But Bombardier has been faced <charged> with a\n",
      "declining share price and profits . Earlier this month the firm\n",
      "<government> said it earned $10m <100m> (£19.2m) in <for> the third\n",
      "<third> quarter, down from <from> a profit <bid> of $133m a year\n",
      "<year> ago .``I understand the board <UK>'s concern that I would not\n",
      "be there for the <the> long-term and the need to develop and execute\n",
      "strategies, and <''> the need to reshape the management <career>\n",
      "structure at this time ,\"<''> Mr Tellier said in a statement <meeting>\n",
      "on Monday <agriculture>. Bombardier said restructuring plans drawn up\n",
      "by Mr Tellier's would continue to be implemented . Shares in\n",
      "Bombardier lost 65 Canadian cents or 25% on <In> the news to 1.90\n",
      "Canadian dollars before rallying to 2.20 <2.20> Canadian dollars\n",
      "<dollar>.\n"
     ]
    }
   ],
   "source": [
    "np.random.seed(1234)\n",
    "i = np.random.choice(texts.shape[0])\n",
    "doc = texts.iloc[i]\n",
    "new_doc = spin_document(doc)\n",
    "print(textwrap.fill(new_doc, replace_whitespace=False, fix_sentence_endings=True))"
   ]
  },
  {
   "cell_type": "code",
   "execution_count": null,
   "metadata": {},
   "outputs": [],
   "source": []
  },
  {
   "cell_type": "code",
   "execution_count": null,
   "metadata": {},
   "outputs": [],
   "source": []
  }
 ],
 "metadata": {
  "interpreter": {
   "hash": "a3c2402a762b1da2b664ca9cbb9344946d41b73132102685c4db1aa6c02b5b44"
  },
  "kernelspec": {
   "display_name": "Python 3.8.5 64-bit ('base': conda)",
   "language": "python",
   "name": "python3"
  },
  "language_info": {
   "codemirror_mode": {
    "name": "ipython",
    "version": 3
   },
   "file_extension": ".py",
   "mimetype": "text/x-python",
   "name": "python",
   "nbconvert_exporter": "python",
   "pygments_lexer": "ipython3",
   "version": "3.8.5"
  },
  "orig_nbformat": 4
 },
 "nbformat": 4,
 "nbformat_minor": 2
}

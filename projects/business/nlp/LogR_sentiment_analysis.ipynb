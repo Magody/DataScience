{
 "cells": [
  {
   "cell_type": "code",
   "execution_count": 1,
   "metadata": {},
   "outputs": [],
   "source": [
    "import numpy as np\n",
    "import pandas as pd\n",
    "import seaborn as sn\n",
    "import matplotlib.pyplot as plt\n",
    "\n",
    "np.random.seed(1)\n",
    "\n",
    "from sklearn.feature_extraction.text import CountVectorizer, TfidfVectorizer\n",
    "from sklearn.linear_model import LogisticRegression\n",
    "from sklearn.metrics import roc_auc_score, f1_score, confusion_matrix\n",
    "from sklearn.model_selection import train_test_split"
   ]
  },
  {
   "cell_type": "code",
   "execution_count": 5,
   "metadata": {},
   "outputs": [
    {
     "data": {
      "text/html": [
       "<div>\n",
       "<style scoped>\n",
       "    .dataframe tbody tr th:only-of-type {\n",
       "        vertical-align: middle;\n",
       "    }\n",
       "\n",
       "    .dataframe tbody tr th {\n",
       "        vertical-align: top;\n",
       "    }\n",
       "\n",
       "    .dataframe thead th {\n",
       "        text-align: right;\n",
       "    }\n",
       "</style>\n",
       "<table border=\"1\" class=\"dataframe\">\n",
       "  <thead>\n",
       "    <tr style=\"text-align: right;\">\n",
       "      <th></th>\n",
       "      <th>airline_sentiment</th>\n",
       "      <th>text</th>\n",
       "      <th>target</th>\n",
       "    </tr>\n",
       "  </thead>\n",
       "  <tbody>\n",
       "    <tr>\n",
       "      <th>0</th>\n",
       "      <td>neutral</td>\n",
       "      <td>@VirginAmerica What @dhepburn said.</td>\n",
       "      <td>2</td>\n",
       "    </tr>\n",
       "    <tr>\n",
       "      <th>1</th>\n",
       "      <td>positive</td>\n",
       "      <td>@VirginAmerica plus you've added commercials t...</td>\n",
       "      <td>1</td>\n",
       "    </tr>\n",
       "    <tr>\n",
       "      <th>2</th>\n",
       "      <td>neutral</td>\n",
       "      <td>@VirginAmerica I didn't today... Must mean I n...</td>\n",
       "      <td>2</td>\n",
       "    </tr>\n",
       "    <tr>\n",
       "      <th>3</th>\n",
       "      <td>negative</td>\n",
       "      <td>@VirginAmerica it's really aggressive to blast...</td>\n",
       "      <td>0</td>\n",
       "    </tr>\n",
       "    <tr>\n",
       "      <th>4</th>\n",
       "      <td>negative</td>\n",
       "      <td>@VirginAmerica and it's a really big bad thing...</td>\n",
       "      <td>0</td>\n",
       "    </tr>\n",
       "  </tbody>\n",
       "</table>\n",
       "</div>"
      ],
      "text/plain": [
       "  airline_sentiment                                               text  target\n",
       "0           neutral                @VirginAmerica What @dhepburn said.       2\n",
       "1          positive  @VirginAmerica plus you've added commercials t...       1\n",
       "2           neutral  @VirginAmerica I didn't today... Must mean I n...       2\n",
       "3          negative  @VirginAmerica it's really aggressive to blast...       0\n",
       "4          negative  @VirginAmerica and it's a really big bad thing...       0"
      ]
     },
     "execution_count": 5,
     "metadata": {},
     "output_type": "execute_result"
    }
   ],
   "source": [
    "df_ = pd.read_csv('/home/magody/programming/python/data_science/data/sentiments/AirlineTweets.csv')\n",
    "df = df_[['airline_sentiment', 'text']].copy()\n",
    "target_map = {'positive': 1, 'negative': 0, 'neutral': 2}\n",
    "df['target'] = df['airline_sentiment'].map(target_map)\n",
    "df.head()"
   ]
  },
  {
   "cell_type": "code",
   "execution_count": 4,
   "metadata": {},
   "outputs": [
    {
     "data": {
      "text/plain": [
       "<AxesSubplot:>"
      ]
     },
     "execution_count": 4,
     "metadata": {},
     "output_type": "execute_result"
    },
    {
     "data": {
      "image/png": "[encoded data removed]",
      "text/plain": [
       "<Figure size 432x288 with 1 Axes>"
      ]
     },
     "metadata": {
      "needs_background": "light"
     },
     "output_type": "display_data"
    }
   ],
   "source": [
    "df['airline_sentiment'].hist()"
   ]
  },
  {
   "cell_type": "code",
   "execution_count": 6,
   "metadata": {},
   "outputs": [],
   "source": [
    "df_train, df_test = train_test_split(df)\n",
    "vectorizer = TfidfVectorizer(max_features=2000)\n",
    "X_train = vectorizer.fit_transform(df_train['text'])\n",
    "X_test = vectorizer.transform(df_test['text'])\n",
    "Y_train = df_train['target']\n",
    "Y_test = df_test['target']"
   ]
  },
  {
   "cell_type": "code",
   "execution_count": 7,
   "metadata": {},
   "outputs": [
    {
     "name": "stdout",
     "output_type": "stream",
     "text": [
      "Train acc: 0.8548269581056467\n",
      "Test acc: 0.7991803278688525\n"
     ]
    }
   ],
   "source": [
    "model = LogisticRegression(max_iter=500)\n",
    "model.fit(X_train, Y_train)\n",
    "print(\"Train acc:\", model.score(X_train, Y_train))\n",
    "print(\"Test acc:\", model.score(X_test, Y_test))"
   ]
  },
  {
   "cell_type": "code",
   "execution_count": 9,
   "metadata": {},
   "outputs": [
    {
     "name": "stdout",
     "output_type": "stream",
     "text": [
      "Train AUC: 0.9430926330679194\n",
      "Test AUC: 0.8953993165959516\n"
     ]
    }
   ],
   "source": [
    "Pr_train = model.predict_proba(X_train)#[:, 1]\n",
    "Pr_test = model.predict_proba(X_test)#[:, 1]\n",
    "print(\"Train AUC:\", roc_auc_score(Y_train, Pr_train, multi_class='ovo'))\n",
    "print(\"Test AUC:\", roc_auc_score(Y_test, Pr_test, multi_class='ovo'))\n",
    "P_train = model.predict(X_train)\n",
    "P_test = model.predict(X_test)\n"
   ]
  },
  {
   "cell_type": "code",
   "execution_count": 10,
   "metadata": {},
   "outputs": [
    {
     "data": {
      "image/png": "[encoded data removed]",
      "text/plain": [
       "<Figure size 432x288 with 2 Axes>"
      ]
     },
     "metadata": {
      "needs_background": "light"
     },
     "output_type": "display_data"
    }
   ],
   "source": [
    "# Scikit-Learn is transitioning to V1 but it's not available on Colab\n",
    "# The changes modify how confusion matrices are plotted\n",
    "def plot_cm(cm):\n",
    "  classes = ['negative', 'positive', 'neutral']\n",
    "  df_cm = pd.DataFrame(cm, index=classes, columns=classes)\n",
    "  ax = sn.heatmap(df_cm, annot=True, fmt='g')\n",
    "  ax.set_xlabel(\"Predicted\")\n",
    "  ax.set_ylabel(\"Target\")\n",
    "\n",
    "\n",
    "\n",
    "cm = confusion_matrix(Y_train, P_train, normalize='true')\n",
    "plot_cm(cm)"
   ]
  },
  {
   "cell_type": "code",
   "execution_count": 11,
   "metadata": {},
   "outputs": [
    {
     "data": {
      "image/png": "[encoded data removed]",
      "text/plain": [
       "<Figure size 432x288 with 2 Axes>"
      ]
     },
     "metadata": {
      "needs_background": "light"
     },
     "output_type": "display_data"
    }
   ],
   "source": [
    "\n",
    "cm_test = confusion_matrix(Y_test, P_test, normalize='true')\n",
    "plot_cm(cm_test)"
   ]
  },
  {
   "cell_type": "code",
   "execution_count": 13,
   "metadata": {},
   "outputs": [
    {
     "name": "stdout",
     "output_type": "stream",
     "text": [
      "Train acc: 0.9300982091276718\n",
      "Test acc: 0.9147609147609148\n"
     ]
    }
   ],
   "source": [
    "binary_target_list = [target_map['positive'], target_map['negative']]\n",
    "df_b_train = df_train[df_train['target'].isin(binary_target_list)]\n",
    "df_b_test = df_test[df_test['target'].isin(binary_target_list)]\n",
    "X_train = vectorizer.fit_transform(df_b_train['text'])\n",
    "X_test = vectorizer.transform(df_b_test['text'])\n",
    "Y_train = df_b_train['target']\n",
    "Y_test = df_b_test['target']\n",
    "model = LogisticRegression(max_iter=500)\n",
    "model.fit(X_train, Y_train)\n",
    "print(\"Train acc:\", model.score(X_train, Y_train))\n",
    "print(\"Test acc:\", model.score(X_test, Y_test))\n"
   ]
  },
  {
   "cell_type": "code",
   "execution_count": 14,
   "metadata": {},
   "outputs": [
    {
     "name": "stdout",
     "output_type": "stream",
     "text": [
      "Train AUC: 0.9790315809115082\n",
      "Test AUC: 0.9533010061292087\n"
     ]
    },
    {
     "data": {
      "image/png": "[encoded data removed]",
      "text/plain": [
       "<Figure size 432x288 with 1 Axes>"
      ]
     },
     "metadata": {
      "needs_background": "light"
     },
     "output_type": "display_data"
    }
   ],
   "source": [
    "Pr_train = model.predict_proba(X_train)[:, 1]\n",
    "Pr_test = model.predict_proba(X_test)[:, 1]\n",
    "print(\"Train AUC:\", roc_auc_score(Y_train, Pr_train))\n",
    "print(\"Test AUC:\", roc_auc_score(Y_test, Pr_test))\n",
    "plt.hist(model.coef_[0], bins=30);"
   ]
  },
  {
   "cell_type": "code",
   "execution_count": 15,
   "metadata": {},
   "outputs": [
    {
     "name": "stdout",
     "output_type": "stream",
     "text": [
      "Most positive words:\n",
      "southwestair 2.860075665821313\n",
      "thank 8.070503978065155\n",
      "great 5.208733896653555\n",
      "best 3.6368642824846105\n",
      "virginamerica 3.2284047964512568\n",
      "thx 2.808325088170174\n",
      "jetblue 3.021616301804928\n",
      "good 3.2615369142180777\n",
      "thanks 8.157945496165814\n",
      "love 4.405152711145106\n",
      "appreciate 2.9299264513982246\n",
      "awesome 4.054714104363999\n",
      "cool 2.0881519342424273\n",
      "kudos 2.6141836313842286\n",
      "amazing 4.194647955735236\n",
      "worries 2.7116513035089165\n",
      "wonderful 2.1204124373569844\n",
      "Most negative words:\n",
      "hours -3.180120172892713\n",
      "not -4.237871164989555\n",
      "delayed -2.7045270961885732\n",
      "hour -2.069684629978255\n",
      "but -2.2210484580160723\n",
      "cancelled -2.6770621926840525\n",
      "nothing -2.0768244798540643\n",
      "what -2.014376186157958\n",
      "no -3.970836170289741\n",
      "worst -3.190035509773291\n",
      "hold -2.790231540715889\n",
      "why -2.2269879895519185\n",
      "luggage -2.1625444978608566\n"
     ]
    }
   ],
   "source": [
    "word_index_map = vectorizer.vocabulary_\n",
    "# let's look at the weights for each word\n",
    "# try it with different threshold values!\n",
    "threshold = 2\n",
    "\n",
    "print(\"Most positive words:\")\n",
    "for word, index in word_index_map.items():\n",
    "    weight = model.coef_[0][index]\n",
    "    if weight > threshold:\n",
    "        print(word, weight)\n",
    "\n",
    "print(\"Most negative words:\")\n",
    "for word, index in word_index_map.items():\n",
    "    weight = model.coef_[0][index]\n",
    "    if weight < -threshold:\n",
    "        print(word, weight)"
   ]
  },
  {
   "cell_type": "code",
   "execution_count": null,
   "metadata": {},
   "outputs": [],
   "source": []
  },
  {
   "cell_type": "code",
   "execution_count": null,
   "metadata": {},
   "outputs": [],
   "source": []
  },
  {
   "cell_type": "code",
   "execution_count": null,
   "metadata": {},
   "outputs": [],
   "source": []
  }
 ],
 "metadata": {
  "interpreter": {
   "hash": "a3c2402a762b1da2b664ca9cbb9344946d41b73132102685c4db1aa6c02b5b44"
  },
  "kernelspec": {
   "display_name": "Python 3.8.5 64-bit ('base': conda)",
   "language": "python",
   "name": "python3"
  },
  "language_info": {
   "codemirror_mode": {
    "name": "ipython",
    "version": 3
   },
   "file_extension": ".py",
   "mimetype": "text/x-python",
   "name": "python",
   "nbconvert_exporter": "python",
   "pygments_lexer": "ipython3",
   "version": "3.8.5"
  },
  "orig_nbformat": 4
 },
 "nbformat": 4,
 "nbformat_minor": 2
}

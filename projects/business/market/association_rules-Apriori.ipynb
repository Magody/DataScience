{
 "cells": [
  {
   "cell_type": "code",
   "execution_count": 1,
   "metadata": {},
   "outputs": [],
   "source": [
    "import csv\n",
    "from itertools import combinations"
   ]
  },
  {
   "cell_type": "code",
   "execution_count": 2,
   "metadata": {},
   "outputs": [],
   "source": [
    "\n",
    "def read_data(file_loc):\n",
    "    trans = dict()\n",
    "    with open(file_loc) as f:\n",
    "        filedata = csv.reader(f, delimiter=',')\n",
    "        count = 0\n",
    "        for line in filedata:\n",
    "            count += 1\n",
    "            trans[count] = list(set(line))\n",
    "    return trans\n",
    "    \n",
    "\n",
    "def frequence(items_lst, trans, check=False):\n",
    "    items_counts = dict()\n",
    "    for i in items_lst:\n",
    "        temp_i = {i}\n",
    "        if check:\n",
    "            temp_i = set(i)\n",
    "        for j in trans.items():\n",
    "            if temp_i.issubset(set(j[1])):\n",
    "                if i in items_counts:\n",
    "                    items_counts[i] += 1\n",
    "                else:\n",
    "                    items_counts[i] = 1\n",
    "    return items_counts\n",
    "    \n",
    "\n",
    "def support(items_counts, trans):\n",
    "    support = dict()\n",
    "    total_trans = len(trans)\n",
    "    for i in items_counts:\n",
    "        support[i] = items_counts[i]/total_trans\n",
    "    return support\n",
    "    \n",
    "def association_rules(items_grater_then_min_support):\n",
    "    rules = []\n",
    "    dict_rules = {}\n",
    "    for i in items_grater_then_min_support:\n",
    "        dict_rules = {}\n",
    "        if type(i) != type(str()):\n",
    "            i = list(i)\n",
    "            temp_i = i[:]\n",
    "            for j in range(len(i)):\n",
    "                k = temp_i[j]\n",
    "                del temp_i[j]\n",
    "                dict_rules[k] = temp_i\n",
    "                temp_i = i[:]\n",
    "        rules.append(dict_rules)\n",
    "    temp = []\n",
    "    for i in rules:\n",
    "        for j in i.items():\n",
    "            if type(j[1]) != type(str()):\n",
    "                temp.append({tuple(j[1])[0]: j[0]})\n",
    "            else:\n",
    "                temp.append({j[1]: j[0]})\n",
    "    rules.extend(temp)\n",
    "    return rules\n",
    "\n",
    "def confidence(associations, d, min_confidence):\n",
    "    ans = {}\n",
    "    for i in associations:\n",
    "        for j in i.items():\n",
    "            if type(j[0]) == type(str()):\n",
    "                left = {j[0]}\n",
    "            else:\n",
    "                left = set(j[0])\n",
    "            if type(j[1]) == type(str()):\n",
    "                right = {j[1]}\n",
    "            else:\n",
    "                right = set(j[1])\n",
    "            for k in d:\n",
    "                if type(k) != type(str()):\n",
    "                    if left.union(right) - set(k) == set():\n",
    "                        up = d[k]\n",
    "                    if len(right) == len(set(k)) and right - set(k) == set():\n",
    "                            down = d[k]\n",
    "                else:\n",
    "                    if len(right) >= len({k}):\n",
    "                        if right - {k} == set():\n",
    "                            down = d[k]\n",
    "                    elif len(right) <= len({k}):\n",
    "                        if {k} - right == set():\n",
    "                            down = d[k]\n",
    "            if up/down >= min_confidence:\n",
    "                ans[tuple(left)[0]] = right, up/down, up, down\n",
    "    print(ans)    "
   ]
  },
  {
   "cell_type": "code",
   "execution_count": 6,
   "metadata": {},
   "outputs": [
    {
     "name": "stdout",
     "output_type": "stream",
     "text": [
      "20\n",
      "['MILK', 'TEA', 'MAGGI', 'BOURNVITA', 'COCK', 'JAM', 'COFFEE', 'SUGER', 'BREAD', 'CORNFLAKES', 'BISCUIT']\n",
      "{'MILK': 5, 'TEA': 7, 'MAGGI': 5, 'BOURNVITA': 4, 'COCK': 3, 'JAM': 2, 'COFFEE': 8, 'SUGER': 6, 'BREAD': 13, 'CORNFLAKES': 6, 'BISCUIT': 7}\n",
      "[{'MILK': 0.25, 'TEA': 0.35, 'MAGGI': 0.25, 'BOURNVITA': 0.2, 'COCK': 0.15, 'JAM': 0.1, 'COFFEE': 0.4, 'SUGER': 0.3, 'BREAD': 0.65, 'CORNFLAKES': 0.3, 'BISCUIT': 0.35}]\n"
     ]
    }
   ],
   "source": [
    "min_support = 0.01\n",
    "min_confidence = 0.7\n",
    "trans = read_data(\"/home/magody/programming/python/data_science/data/transactions/grocery_store.csv\")\n",
    "number_of_trans = [len(i) for i in trans.values()]\n",
    "items_lst = set()\n",
    "\n",
    "itemcount_track = list()    \n",
    "\n",
    "for i in trans.values():\n",
    "    for j in i:\n",
    "        items_lst.add(j)\n",
    "\n",
    "store_item_lst = list(items_lst)[:]\n",
    "items_grater_then_min_support = list()\n",
    "items_counts = frequence(items_lst, trans)\n",
    "print(len(trans))\n",
    "print(store_item_lst)\n",
    "print(items_counts)\n",
    "itemcount_track.append(items_counts)\n",
    "items_grater_then_min_support.append({j[0]:j[1] for j in support(items_counts, trans).items() if j[1]>min_support})\n",
    "print(items_grater_then_min_support)\n"
   ]
  },
  {
   "cell_type": "code",
   "execution_count": 10,
   "metadata": {},
   "outputs": [
    {
     "name": "stdout",
     "output_type": "stream",
     "text": [
      "{'MILK': ({'BREAD', 'CORNFLAKES', 'BISCUIT'}, 1.0, 1, 1), 'TEA': ({'BREAD', 'MAGGI', 'BISCUIT'}, 1.0, 1, 1), 'COFFEE': ({'CORNFLAKES', 'COCK', 'BISCUIT'}, 1.0, 2, 2), 'CORNFLAKES': ({'BISCUIT', 'COCK', 'COFFEE'}, 1.0, 2, 2), 'MAGGI': ({'TEA', 'BREAD', 'BISCUIT'}, 1.0, 1, 1), 'JAM': ({'BREAD', 'MAGGI', 'MILK'}, 1.0, 1, 1), 'BREAD': ({'JAM', 'TEA', 'MAGGI'}, 1.0, 1, 1), 'BISCUIT': ({'CORNFLAKES', 'COCK', 'COFFEE'}, 1.0, 2, 2), 'COCK': ({'BISCUIT', 'CORNFLAKES', 'COFFEE'}, 1.0, 2, 2)}\n",
      "[{'MILK': ['TEA', 'COFFEE', 'CORNFLAKES'], 'TEA': ['MILK', 'COFFEE', 'CORNFLAKES'], 'COFFEE': ['MILK', 'TEA', 'CORNFLAKES'], 'CORNFLAKES': ['MILK', 'TEA', 'COFFEE']}, {'MILK': ['MAGGI', 'JAM', 'BREAD'], 'MAGGI': ['MILK', 'JAM', 'BREAD'], 'JAM': ['MILK', 'MAGGI', 'BREAD'], 'BREAD': ['MILK', 'MAGGI', 'JAM']}, {'MILK': ['BREAD', 'CORNFLAKES', 'BISCUIT'], 'BREAD': ['MILK', 'CORNFLAKES', 'BISCUIT'], 'CORNFLAKES': ['MILK', 'BREAD', 'BISCUIT'], 'BISCUIT': ['MILK', 'BREAD', 'CORNFLAKES']}, {'TEA': ['MAGGI', 'JAM', 'BREAD'], 'MAGGI': ['TEA', 'JAM', 'BREAD'], 'JAM': ['TEA', 'MAGGI', 'BREAD'], 'BREAD': ['TEA', 'MAGGI', 'JAM']}, {'TEA': ['MAGGI', 'BREAD', 'BISCUIT'], 'MAGGI': ['TEA', 'BREAD', 'BISCUIT'], 'BREAD': ['TEA', 'MAGGI', 'BISCUIT'], 'BISCUIT': ['TEA', 'MAGGI', 'BREAD']}, {'COCK': ['COFFEE', 'CORNFLAKES', 'BISCUIT'], 'COFFEE': ['COCK', 'CORNFLAKES', 'BISCUIT'], 'CORNFLAKES': ['COCK', 'COFFEE', 'BISCUIT'], 'BISCUIT': ['COCK', 'COFFEE', 'CORNFLAKES']}, {'TEA': 'MILK'}, {'MILK': 'TEA'}, {'MILK': 'COFFEE'}, {'MILK': 'CORNFLAKES'}, {'MAGGI': 'MILK'}, {'MILK': 'MAGGI'}, {'MILK': 'JAM'}, {'MILK': 'BREAD'}, {'BREAD': 'MILK'}, {'MILK': 'BREAD'}, {'MILK': 'CORNFLAKES'}, {'MILK': 'BISCUIT'}, {'MAGGI': 'TEA'}, {'TEA': 'MAGGI'}, {'TEA': 'JAM'}, {'TEA': 'BREAD'}, {'MAGGI': 'TEA'}, {'TEA': 'MAGGI'}, {'TEA': 'BREAD'}, {'TEA': 'BISCUIT'}, {'COFFEE': 'COCK'}, {'COCK': 'COFFEE'}, {'COCK': 'CORNFLAKES'}, {'COCK': 'BISCUIT'}]\n"
     ]
    }
   ],
   "source": [
    "for i in range(2, max(number_of_trans)+1):\n",
    "    item_list = combinations(items_lst, i)\n",
    "    items_counts = frequence(item_list, trans, check=True)\n",
    "    itemcount_track.append(items_counts)\n",
    "    if list({j[0]:j[1] for j in support(items_counts, trans).items() if j[1]>min_support}.keys()) != []:\n",
    "        items_grater_then_min_support.append({j[0]:j[1] for j in support(items_counts, trans).items() if j[1]>min_support})\n",
    "    \n",
    "d = {}\n",
    "{d.update(i) for i in itemcount_track}\n",
    "associations = association_rules(items_grater_then_min_support[len(items_grater_then_min_support)-1])\n",
    "associations_grater_then_confidene = confidence(associations, d, min_confidence)\n",
    "print(associations)"
   ]
  },
  {
   "cell_type": "code",
   "execution_count": null,
   "metadata": {},
   "outputs": [],
   "source": []
  }
 ],
 "metadata": {
  "interpreter": {
   "hash": "a3c2402a762b1da2b664ca9cbb9344946d41b73132102685c4db1aa6c02b5b44"
  },
  "kernelspec": {
   "display_name": "Python 3.8.5 ('base')",
   "language": "python",
   "name": "python3"
  },
  "language_info": {
   "codemirror_mode": {
    "name": "ipython",
    "version": 3
   },
   "file_extension": ".py",
   "mimetype": "text/x-python",
   "name": "python",
   "nbconvert_exporter": "python",
   "pygments_lexer": "ipython3",
   "version": "3.8.5"
  },
  "orig_nbformat": 4
 },
 "nbformat": 4,
 "nbformat_minor": 2
}

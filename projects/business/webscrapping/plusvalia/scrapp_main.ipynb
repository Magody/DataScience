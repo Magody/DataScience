{
 "cells": [
  {
   "cell_type": "code",
   "execution_count": 89,
   "metadata": {},
   "outputs": [],
   "source": [
    "# relevant packages & modules\n",
    "import re\n",
    "from selenium import webdriver\n",
    "from selenium.webdriver.common.keys import Keys\n",
    "from selenium.webdriver.common.by import By\n",
    "from selenium.webdriver.chrome.options import Options\n",
    "import time\n",
    "import requests\n",
    "import urllib.request\n",
    "import json\n",
    "from tqdm import tqdm\n",
    "# from tqdm.notebook import tqdm_notebook as tqdm\n",
    "import undetected_chromedriver.v2 as uc\n",
    "\n",
    "\n",
    "# Have powerfull bot protection, so we need undetected_chrome\n",
    "class ScrapperPlusvalia:\n",
    "    \n",
    "    driver = None\n",
    "\n",
    "    \n",
    "    logged_in = False\n",
    "    \n",
    "    def __init__(self):\n",
    "        \n",
    "        self.driver = uc.Chrome(version_main=95)\n",
    "        self.root = \"https://www.plusvalia.com/inmuebles-ordenado-por-fechaonline-descendente\"\n",
    "        self.base = f\"{self.root}-pagina-\"\n",
    "        self.driver.get(f\"{self.base}1.html\")\n",
    "\n",
    "    def wait(self, t):\n",
    "        time.sleep(t)\n",
    "        \n",
    "    def check_requisites(self):     \n",
    "        return True\n",
    "    \n",
    "    def collect_urls(self,page_from,page_to,waiting_time=2)->list:\n",
    "        \n",
    "        if not self.check_requisites():\n",
    "            return []\n",
    "\n",
    "        urls = []\n",
    "        repeated = []\n",
    "\n",
    "\n",
    "        url = f\"{self.base}{page_from}.html\"\n",
    "        self.driver.get(url)\n",
    "\n",
    "        with open(\"urls.txt\",\"a\") as f:\n",
    "\n",
    "            for page_i in tqdm(range(page_from, page_to+1)):\n",
    "                \n",
    "                chunk = self.driver.find_elements(By.XPATH, '//div[contains(@class,\"list-card-container\")]/div')\n",
    "                \n",
    "                for c in chunk:\n",
    "                    if str(c.get_attribute(\"class\")) != \"ads-container\":\n",
    "\n",
    "                        url_item = str(c.get_attribute(\"data-to-posting\"))\n",
    "                        if url_item:\n",
    "                            if url_item not in urls:\n",
    "                                urls.append(url_item)\n",
    "                            else:\n",
    "                                repeated.append(f\"Repeated inmuebles-ordenado-por-fechaonline-descendente-{page_i}.html:{url_item}\")\n",
    "\n",
    "                f.write(\"\\n\".join(map(lambda s: f\"https://www.plusvalia.com{s}\", urls)))\n",
    "                urls = []\n",
    "\n",
    "                current_url = self.driver.current_url\n",
    "\n",
    "\n",
    "                if current_url == f\"{self.root}.html\":\n",
    "                    page = 1\n",
    "                else:\n",
    "                    page = int(re.match(r\"^https\\:\\/\\/www\\.plusvalia\\.com\\/[A-z\\-]*(\\d+)\\.html$\", current_url).groups()[0])\n",
    "\n",
    "                if page == page_to:\n",
    "                    break\n",
    "                \n",
    "                next = self.driver.find_elements(By.CSS_SELECTOR, 'li.pag-go-next > a')[0]\n",
    "                next.click()\n",
    "                self.wait(waiting_time)\n",
    "\n",
    "        return urls, repeated\n",
    "    \n",
    "    def close(self):\n",
    "        if self.driver:\n",
    "            self.driver.close()\n",
    "            \n",
    "    def __del__(self):\n",
    "        print(\"Closing...\")\n",
    "        self.close()"
   ]
  },
  {
   "cell_type": "code",
   "execution_count": 90,
   "metadata": {},
   "outputs": [
    {
     "name": "stderr",
     "output_type": "stream",
     "text": [
      "Exception ignored in: <function ScrapperPlusvalia.__del__ at 0x7f86cccec280>\n",
      "Traceback (most recent call last):\n",
      "  File \"/tmp/ipykernel_29198/515809178.py\", line 90, in __del__\n",
      "  File \"/tmp/ipykernel_29198/515809178.py\", line 86, in close\n",
      "  File \"/home/magody/anaconda3/lib/python3.8/site-packages/selenium/webdriver/remote/webdriver.py\", line 937, in close\n",
      "    self.execute(Command.CLOSE)\n",
      "  File \"/home/magody/anaconda3/lib/python3.8/site-packages/selenium/webdriver/remote/webdriver.py\", line 424, in execute\n",
      "    self.error_handler.check_response(response)\n",
      "  File \"/home/magody/anaconda3/lib/python3.8/site-packages/selenium/webdriver/remote/errorhandler.py\", line 247, in check_response\n",
      "    raise exception_class(message, screen, stacktrace)\n",
      "selenium.common.exceptions.WebDriverException: Message: chrome not reachable\n",
      "  (Session info: chrome=96.0.4664.110)\n",
      "Stacktrace:\n",
      "#0 0x5568fb81c463 (/home/magody/.local/share/undetected_chromedriver/chromedriver (deleted)+0xffffffffff720462)\n",
      "#1 0x5568fb2f450f (/home/magody/.local/share/undetected_chromedriver/chromedriver (deleted)+0xffffffffff1f850e)\n",
      "#2 0x5568fb2e34c4 (/home/magody/.local/share/undetected_chromedriver/chromedriver (deleted)+0xffffffffff1e74c3)\n",
      "#3 0x5568fb2d4edd (/home/magody/.local/share/undetected_chromedriver/chromedriver (deleted)+0xffffffffff1d8edc)\n",
      "#4 0x5568fb34f25b (/home/magody/.local/share/undetected_chromedriver/chromedriver (deleted)+0xffffffffff25325a)\n",
      "#5 0x5568fb347758 (/home/magody/.local/share/undetected_chromedriver/chromedriver (deleted)+0xffffffffff24b757)\n",
      "#6 0x5568fb31db64 (/home/magody/.local/share/undetected_chromedriver/chromedriver (deleted)+0xffffffffff221b63)\n",
      "#7 0x5568fb31eb55 (/home/magody/.local/share/undetected_chromedriver/chromedriver (deleted)+0xffffffffff222b54)\n",
      "#8 0x5568fb84c0fe (/home/magody/.local/share/undetected_chromedriver/chromedriver (deleted)+0xffffffffff7500fd)\n",
      "#9 0x5568fb8619d0 (/home/magody/.local/share/undetected_chromedriver/chromedriver (deleted)+0xffffffffff7659cf)\n",
      "#10 0x5568fb84d055 (/home/magody/.local/share/undetected_chromedriver/chromedriver (deleted)+0xffffffffff751054)\n",
      "#11 0x5568fb862e18 (/home/magody/.local/share/undetected_chromedriver/chromedriver (deleted)+0xffffffffff766e17)\n",
      "#12 0x5568fb84182b (/home/magody/.local/share/undetected_chromedriver/chromedriver (deleted)+0xffffffffff74582a)\n",
      "#13 0x5568fb87df98 (/home/magody/.local/share/undetected_chromedriver/chromedriver (deleted)+0xffffffffff781f97)\n",
      "#14 0x5568fb87e118 (/home/magody/.local/share/undetected_chromedriver/chromedriver (deleted)+0xffffffffff782117)\n",
      "#15 0x5568fb89959d (/home/magody/.local/share/undetected_chromedriver/chromedriver (deleted)+0xffffffffff79d59c)\n",
      "#16 0x7f9c35e8e609 <unknown>\n",
      "\n"
     ]
    },
    {
     "name": "stdout",
     "output_type": "stream",
     "text": [
      "Closing...\n"
     ]
    }
   ],
   "source": [
    "scrapper = ScrapperPlusvalia()"
   ]
  },
  {
   "cell_type": "code",
   "execution_count": 92,
   "metadata": {},
   "outputs": [
    {
     "name": "stderr",
     "output_type": "stream",
     "text": [
      "  2%|▏         | 54/3468 [02:10<2:17:34,  2.42s/it]\n"
     ]
    },
    {
     "ename": "KeyboardInterrupt",
     "evalue": "",
     "output_type": "error",
     "traceback": [
      "\u001b[0;31m---------------------------------------------------------------------------\u001b[0m",
      "\u001b[0;31mKeyboardInterrupt\u001b[0m                         Traceback (most recent call last)",
      "\u001b[0;32m/tmp/ipykernel_29198/3362778190.py\u001b[0m in \u001b[0;36m<module>\u001b[0;34m\u001b[0m\n\u001b[0;32m----> 1\u001b[0;31m \u001b[0murls\u001b[0m\u001b[0;34m,\u001b[0m \u001b[0m_\u001b[0m \u001b[0;34m=\u001b[0m \u001b[0mscrapper\u001b[0m\u001b[0;34m.\u001b[0m\u001b[0mcollect_urls\u001b[0m\u001b[0;34m(\u001b[0m\u001b[0;36m1\u001b[0m\u001b[0;34m,\u001b[0m\u001b[0;36m3468\u001b[0m\u001b[0;34m,\u001b[0m\u001b[0;36m1.5\u001b[0m\u001b[0;34m)\u001b[0m  \u001b[0;31m# 3468\u001b[0m\u001b[0;34m\u001b[0m\u001b[0;34m\u001b[0m\u001b[0m\n\u001b[0m\u001b[1;32m      2\u001b[0m \u001b[0;34m\u001b[0m\u001b[0m\n\u001b[1;32m      3\u001b[0m \u001b[0;31m#with open(\"urls_repeated.txt\",\"w\") as f:\u001b[0m\u001b[0;34m\u001b[0m\u001b[0;34m\u001b[0m\u001b[0;34m\u001b[0m\u001b[0m\n\u001b[1;32m      4\u001b[0m \u001b[0;31m#    f.write(\"\\n\".join(repeated))\u001b[0m\u001b[0;34m\u001b[0m\u001b[0;34m\u001b[0m\u001b[0;34m\u001b[0m\u001b[0m\n",
      "\u001b[0;32m/tmp/ipykernel_29198/4143464107.py\u001b[0m in \u001b[0;36mcollect_urls\u001b[0;34m(self, page_from, page_to, waiting_time)\u001b[0m\n\u001b[1;32m     79\u001b[0m                 \u001b[0mnext\u001b[0m \u001b[0;34m=\u001b[0m \u001b[0mself\u001b[0m\u001b[0;34m.\u001b[0m\u001b[0mdriver\u001b[0m\u001b[0;34m.\u001b[0m\u001b[0mfind_elements\u001b[0m\u001b[0;34m(\u001b[0m\u001b[0mBy\u001b[0m\u001b[0;34m.\u001b[0m\u001b[0mCSS_SELECTOR\u001b[0m\u001b[0;34m,\u001b[0m \u001b[0;34m'li.pag-go-next > a'\u001b[0m\u001b[0;34m)\u001b[0m\u001b[0;34m[\u001b[0m\u001b[0;36m0\u001b[0m\u001b[0;34m]\u001b[0m\u001b[0;34m\u001b[0m\u001b[0;34m\u001b[0m\u001b[0m\n\u001b[1;32m     80\u001b[0m                 \u001b[0mnext\u001b[0m\u001b[0;34m.\u001b[0m\u001b[0mclick\u001b[0m\u001b[0;34m(\u001b[0m\u001b[0;34m)\u001b[0m\u001b[0;34m\u001b[0m\u001b[0;34m\u001b[0m\u001b[0m\n\u001b[0;32m---> 81\u001b[0;31m                 \u001b[0mself\u001b[0m\u001b[0;34m.\u001b[0m\u001b[0mwait\u001b[0m\u001b[0;34m(\u001b[0m\u001b[0mwaiting_time\u001b[0m\u001b[0;34m)\u001b[0m\u001b[0;34m\u001b[0m\u001b[0;34m\u001b[0m\u001b[0m\n\u001b[0m\u001b[1;32m     82\u001b[0m \u001b[0;34m\u001b[0m\u001b[0m\n\u001b[1;32m     83\u001b[0m         \u001b[0;32mreturn\u001b[0m \u001b[0murls\u001b[0m\u001b[0;34m,\u001b[0m \u001b[0mrepeated\u001b[0m\u001b[0;34m\u001b[0m\u001b[0;34m\u001b[0m\u001b[0m\n",
      "\u001b[0;32m/tmp/ipykernel_29198/4143464107.py\u001b[0m in \u001b[0;36mwait\u001b[0;34m(self, t)\u001b[0m\n\u001b[1;32m     30\u001b[0m \u001b[0;34m\u001b[0m\u001b[0m\n\u001b[1;32m     31\u001b[0m     \u001b[0;32mdef\u001b[0m \u001b[0mwait\u001b[0m\u001b[0;34m(\u001b[0m\u001b[0mself\u001b[0m\u001b[0;34m,\u001b[0m \u001b[0mt\u001b[0m\u001b[0;34m)\u001b[0m\u001b[0;34m:\u001b[0m\u001b[0;34m\u001b[0m\u001b[0;34m\u001b[0m\u001b[0m\n\u001b[0;32m---> 32\u001b[0;31m         \u001b[0mtime\u001b[0m\u001b[0;34m.\u001b[0m\u001b[0msleep\u001b[0m\u001b[0;34m(\u001b[0m\u001b[0mt\u001b[0m\u001b[0;34m)\u001b[0m\u001b[0;34m\u001b[0m\u001b[0;34m\u001b[0m\u001b[0m\n\u001b[0m\u001b[1;32m     33\u001b[0m \u001b[0;34m\u001b[0m\u001b[0m\n\u001b[1;32m     34\u001b[0m     \u001b[0;32mdef\u001b[0m \u001b[0mcheck_requisites\u001b[0m\u001b[0;34m(\u001b[0m\u001b[0mself\u001b[0m\u001b[0;34m)\u001b[0m\u001b[0;34m:\u001b[0m\u001b[0;34m\u001b[0m\u001b[0;34m\u001b[0m\u001b[0m\n",
      "\u001b[0;31mKeyboardInterrupt\u001b[0m: "
     ]
    }
   ],
   "source": [
    "urls, _ = scrapper.collect_urls(1,3468,1.5)  # 3468\n",
    "\n",
    "#with open(\"urls_repeated.txt\",\"w\") as f:\n",
    "#    f.write(\"\\n\".join(repeated))"
   ]
  },
  {
   "cell_type": "code",
   "execution_count": null,
   "metadata": {},
   "outputs": [],
   "source": []
  }
 ],
 "metadata": {
  "interpreter": {
   "hash": "a3c2402a762b1da2b664ca9cbb9344946d41b73132102685c4db1aa6c02b5b44"
  },
  "kernelspec": {
   "display_name": "Python 3.8.5 64-bit ('base': conda)",
   "language": "python",
   "name": "python3"
  },
  "language_info": {
   "codemirror_mode": {
    "name": "ipython",
    "version": 3
   },
   "file_extension": ".py",
   "mimetype": "text/x-python",
   "name": "python",
   "nbconvert_exporter": "python",
   "pygments_lexer": "ipython3",
   "version": "3.8.5"
  },
  "orig_nbformat": 4
 },
 "nbformat": 4,
 "nbformat_minor": 2
}

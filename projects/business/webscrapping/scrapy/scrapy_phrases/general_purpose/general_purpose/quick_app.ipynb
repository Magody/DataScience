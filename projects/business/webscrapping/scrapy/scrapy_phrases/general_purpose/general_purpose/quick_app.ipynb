{
 "cells": [
  {
   "cell_type": "code",
   "execution_count": 1,
   "metadata": {},
   "outputs": [],
   "source": [
    "import pandas as pd"
   ]
  },
  {
   "cell_type": "code",
   "execution_count": 2,
   "metadata": {},
   "outputs": [
    {
     "data": {
      "text/html": [
       "<div>\n",
       "<style scoped>\n",
       "    .dataframe tbody tr th:only-of-type {\n",
       "        vertical-align: middle;\n",
       "    }\n",
       "\n",
       "    .dataframe tbody tr th {\n",
       "        vertical-align: top;\n",
       "    }\n",
       "\n",
       "    .dataframe thead th {\n",
       "        text-align: right;\n",
       "    }\n",
       "</style>\n",
       "<table border=\"1\" class=\"dataframe\">\n",
       "  <thead>\n",
       "    <tr style=\"text-align: right;\">\n",
       "      <th></th>\n",
       "      <th>Author</th>\n",
       "      <th>Cite</th>\n",
       "    </tr>\n",
       "  </thead>\n",
       "  <tbody>\n",
       "    <tr>\n",
       "      <th>0</th>\n",
       "      <td>Tales de Mileto</td>\n",
       "      <td>La cosa más difícil es conocernos a nosotros m...</td>\n",
       "    </tr>\n",
       "    <tr>\n",
       "      <th>1</th>\n",
       "      <td>Sócrates</td>\n",
       "      <td>No puedo enseñar nada a nadie. Solo puedo hace...</td>\n",
       "    </tr>\n",
       "    <tr>\n",
       "      <th>2</th>\n",
       "      <td>Jean-Paul Sartre</td>\n",
       "      <td>No juzgamos a las personas que amamos</td>\n",
       "    </tr>\n",
       "    <tr>\n",
       "      <th>3</th>\n",
       "      <td>Francis Bacon</td>\n",
       "      <td>El conocimiento es poder</td>\n",
       "    </tr>\n",
       "    <tr>\n",
       "      <th>4</th>\n",
       "      <td>Erich Fromm</td>\n",
       "      <td>El amor inmaduro dice: “te amo porque te neces...</td>\n",
       "    </tr>\n",
       "  </tbody>\n",
       "</table>\n",
       "</div>"
      ],
      "text/plain": [
       "             Author                                               Cite\n",
       "0   Tales de Mileto  La cosa más difícil es conocernos a nosotros m...\n",
       "1          Sócrates  No puedo enseñar nada a nadie. Solo puedo hace...\n",
       "2  Jean-Paul Sartre              No juzgamos a las personas que amamos\n",
       "3     Francis Bacon                           El conocimiento es poder\n",
       "4       Erich Fromm  El amor inmaduro dice: “te amo porque te neces..."
      ]
     },
     "execution_count": 2,
     "metadata": {},
     "output_type": "execute_result"
    }
   ],
   "source": [
    "df = pd.read_csv(\"./out/spider_phrases_01.csv\")\n",
    "df.head()"
   ]
  },
  {
   "cell_type": "code",
   "execution_count": 3,
   "metadata": {},
   "outputs": [
    {
     "name": "stdout",
     "output_type": "stream",
     "text": [
      "           Author                                               Cite\n",
      "27     Adam Smith  Si abordas cada situación como asunto de vida ...\n",
      "151  Albert Camus  A pesar de las ilusiones racionalistas, e incl...\n",
      "122  Albert Camus  El hombre tiene dos caras: no puede amar sin a...\n",
      "126  Albert Camus  El éxito es fácil de obtener. Lo difícil es me...\n",
      "119  Albert Camus  En política son los medios los que deben justi...\n"
     ]
    }
   ],
   "source": [
    "df.sort_values([\"Author\",\"Cite\"],axis=0,ascending=True,inplace=True)\n",
    "print(df.head())"
   ]
  },
  {
   "cell_type": "code",
   "execution_count": 8,
   "metadata": {},
   "outputs": [],
   "source": [
    "df_grouped = df.groupby([\"Author\"])['Cite'].apply(lambda x: '\\n'.join(x)).reset_index()"
   ]
  },
  {
   "cell_type": "code",
   "execution_count": 11,
   "metadata": {},
   "outputs": [],
   "source": [
    "with open(\"./out/processed.txt\", \"w+\") as f_in:\n",
    "    for i in range(len(df_grouped[\"Author\"].values)):\n",
    "        author = df_grouped.iloc[i,0]\n",
    "        cites = df_grouped.iloc[i,1]\n",
    "        text = f\"{author}\\n{cites}\\n\\n\"\n",
    "        f_in.write(text)"
   ]
  },
  {
   "cell_type": "code",
   "execution_count": null,
   "metadata": {},
   "outputs": [],
   "source": []
  }
 ],
 "metadata": {
  "interpreter": {
   "hash": "a3c2402a762b1da2b664ca9cbb9344946d41b73132102685c4db1aa6c02b5b44"
  },
  "kernelspec": {
   "display_name": "Python 3.8.5 ('base')",
   "language": "python",
   "name": "python3"
  },
  "language_info": {
   "codemirror_mode": {
    "name": "ipython",
    "version": 3
   },
   "file_extension": ".py",
   "mimetype": "text/x-python",
   "name": "python",
   "nbconvert_exporter": "python",
   "pygments_lexer": "ipython3",
   "version": "3.8.5"
  },
  "orig_nbformat": 4
 },
 "nbformat": 4,
 "nbformat_minor": 2
}

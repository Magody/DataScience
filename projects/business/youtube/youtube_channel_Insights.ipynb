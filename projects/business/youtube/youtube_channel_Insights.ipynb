{
 "cells": [
  {
   "cell_type": "markdown",
   "metadata": {},
   "source": [
    "<a id='top'></a>\n",
    "<div class=\"list-group\" id=\"list-tab\" role=\"tablist\">\n",
    "<p style=\"background-color:#682F2F;font-family:newtimeroman;color:#FFF9ED;font-size:150%;text-align:center;border-radius:10px 10px;\">TABLE OF CONTENTS</p>\n",
    "\n",
    "* [0. OBJECTIVES and SCOPE](#0)\n",
    "* [1. IMPORTING LIBRARIES](#1)\n",
    "* [2. LOADING DATA](#2)    \n",
    "* [3. DATA PIPELINE](#3) (Maleable section)\n",
    "* [4. EXPLORATORY DATA ANALYSIS](#4)     \n",
    "* [5. MODELING](#5)\n",
    "* [6. EVALUATION](#6)\n",
    "* [7. DISCUSSION](#7)  \n",
    "* [8. DEPLOYMENT AND ENSEMBLES](#8)\n",
    "* [9. END](#9)"
   ]
  },
  {
   "cell_type": "markdown",
   "metadata": {},
   "source": [
    "<a id=\"0\"></a>\n",
    "# <p style=\"background-color:#682F2F;font-family:newtimeroman;color:#FFF9ED;font-size:150%;text-align:center;border-radius:10px 10px;\">OBJECTIVES and SCOPE</p>\n",
    "\n",
    "<span style=\"color:green\">Questions</span><br><br>\n",
    "Before performing EDA, we should have a clear objective. So we can make the right questions and the right visualizations.<br>\n",
    "* Q1: What types of video titles and thumbnails drive the most traffic?\n",
    "* Q2: What type of content are people engaging with the most or watching the longest? (avg watch time and avg view percentage)\n",
    "* Q3: What is the SEO applied and what it's the performance?\n",
    "* Q4: Who is the core audience and what are they interested in?\n",
    "* Q5: What types of videos have lead to the most growth and bad growth (subs removed)? \n",
    "* Q6: When the retention peaks happen? what did the youtuber for that peaks? (Important question for SEO-Frame techniques)\n",
    "* Q7: What are the keywords used? These answer to search intents?\n",
    "* Q8: What are the SEO techniques applied? Which give the best results?\n",
    "* Q9: What are the top positive/negative words/sentences in comments?\n",
    "* Q10: What videos produces more relative likes?\n",
    "* Q11: What videos produces more relative dislikes?\n",
    "* Q12: What videos produces more relative comments added?\n",
    "* Q13: What videos generates more social value? (shares)\n",
    "* Q14: What are the topics of the most liked comments? (clusters)\n",
    "\n",
    "<br><br>\n",
    "<span style=\"color:green\">Objectives</span><br>\n",
    "1) Increase video CTR.<br>\n",
    "- Related questions: Q1,Q3,Q4,Q5,Q6,Q7,Q8\n",
    "2) Increase Subscription Ratio.\n",
    "- Related questions: Q2,Q4,Q5,Q7,Q13.\n",
    "3) Increase average watch time and get plain retention [good average view %]. (We need more data from youtube studio, specifically relative retention by video) <br>\n",
    "- Related questions: Q2!,Q6.\n",
    "4) Find suggestions.\n",
    "- Related questions: Q5, Q9, Q10, Q11, Q14.\n",
    "5) Increase interaction:\n",
    "- Related questions: Q3, Q12, Q13.\n",
    "6) Extend the total youtube session time. (Note: this is probably the most important objective. The youtube DL algorithm rewards a lot increasing the total session time of a user).\n",
    "- Related questions: Q2!,Q6!,Q8.\n",
    "\n",
    "<br>\n",
    "Not covered (yet):\n",
    "* Increase revenue: increase RPM and improve CPM.\n",
    "- Related questions: Q2,Q6!\n",
    "\n",
    "X) Others:\n",
    "- Chatbot for address videos.\n",
    "- Pulling sentiment from thumbnails and titles and comparing that with performance.\n",
    "- Recommendation system for increase session time. (Chain interlinking)\n"
   ]
  },
  {
   "cell_type": "markdown",
   "metadata": {},
   "source": [
    "<a id=\"1\"></a>\n",
    "# <p style=\"background-color:#682F2F;font-family:newtimeroman;color:#FFF9ED;font-size:150%;text-align:center;border-radius:10px 10px;\">IMPORTING LIBRARIES</p>"
   ]
  },
  {
   "cell_type": "code",
   "execution_count": 1,
   "metadata": {},
   "outputs": [],
   "source": [
    "# Environment variables\n",
    "path_root = \"/home/magody/programming/python/data_science/\"\n",
    "path_data = f\"{path_root}data/kenjee_youtube/\"\n",
    "path_output = f\"{path_root}output/\""
   ]
  },
  {
   "cell_type": "code",
   "execution_count": 26,
   "metadata": {},
   "outputs": [],
   "source": [
    "# own libraries\n",
    "import sys\n",
    "sys.path.append(f\"{path_root}lib\")\n",
    "\n",
    "from insight import * # type: ignore\n",
    "from utils_math import * # type: ignore\n",
    "from utils_pandas import * # type: ignore\n",
    "\n",
    "# ORIGINAL CODE: https://www.kaggle.com/ashbellett/data-engineering/notebook\n",
    "# Thanks ASH BELLETT for the data cleaning code provided for this part\n",
    "# I modified the original code a little\n",
    "sys.path.append(f\"{path_root}projects/business/youtube\")\n",
    "from format import *\n",
    " "
   ]
  },
  {
   "cell_type": "code",
   "execution_count": 5,
   "metadata": {},
   "outputs": [],
   "source": [
    "#Importing the Libraries\n",
    "import numpy as np\n",
    "import pandas as pd\n",
    "import datetime\n",
    "import matplotlib.pyplot as plt\n",
    "import seaborn as sns\n",
    "\n",
    "from tqdm.notebook import tqdm\n",
    "\n",
    "from textwrap import wrap\n",
    "\n",
    "from PIL import Image\n",
    "import requests\n",
    "from sklearn.preprocessing import LabelEncoder\n",
    "from sklearn.preprocessing import StandardScaler\n",
    "from sklearn.decomposition import PCA\n",
    "from sklearn.cluster import KMeans\n",
    "import matplotlib.pyplot as plt\n",
    "from sklearn.cluster import AgglomerativeClustering # lets get crazy XD"
   ]
  },
  {
   "cell_type": "markdown",
   "metadata": {},
   "source": [
    "<a id=\"2\"></a>\n",
    "# <p style=\"background-color:#682F2F;font-family:newtimeroman;color:#FFF9ED;font-size:150%;text-align:center;border-radius:10px 10px;\">LOADING DATA</p>"
   ]
  },
  {
   "cell_type": "markdown",
   "metadata": {},
   "source": [
    "## Description\n",
    "1) Aggregated Metrics By Video - This has all the topline metrics from thre channel from its start (around 2015 to Jan 22 2022).\n",
    "2) Aggregated Metrics By Video with Country and Subscriber Status - This has the same data as aggregated metrics by video, but it includes dimensions for which country people are viewing from and if the viewers are subscribed to the channel or not.\n",
    "3) Video Performance Over Time - This has the daily data from each of my videos.\n",
    "4) All Comments - This is all of the comment data gathered from the YouTube API."
   ]
  },
  {
   "cell_type": "markdown",
   "metadata": {},
   "source": [
    "## Load"
   ]
  },
  {
   "cell_type": "code",
   "execution_count": 44,
   "metadata": {},
   "outputs": [],
   "source": [
    "#Loading the dataset\n",
    "data1_agg_country_suscriber: pd.DataFrame = pd.read_csv(f\"{path_data}Aggregated_Metrics_By_Country_And_Subscriber_Status.csv\")\n",
    "data2_agg_video: pd.DataFrame = pd.read_csv(f\"{path_data}Aggregated_Metrics_By_Video.csv\")\n",
    "data3_comments: pd.DataFrame = pd.read_csv(f\"{path_data}All_Comments_Final.csv\")\n",
    "data4_video_performance: pd.DataFrame = pd.read_csv(f\"{path_data}Video_Performance_Over_Time.csv\")\n",
    "\n",
    "for column in data1_agg_country_suscriber.columns:\n",
    "    data1_agg_country_suscriber[column] = typecast_column(\n",
    "        data1_agg_country_suscriber[column],\n",
    "        PERFORMANCE_SCHEMA_COUNTRY[column][\"data_type\"]\n",
    "    )\n",
    "\n",
    "for column in data2_agg_video.columns:\n",
    "    data2_agg_video[column] = typecast_column(\n",
    "        data2_agg_video[column],\n",
    "        METRICS_SCHEMA[column][\"data_type\"]\n",
    "    )\n",
    "    \n",
    "for column in data3_comments.columns:\n",
    "    data3_comments[column] = typecast_column(\n",
    "        data3_comments[column],\n",
    "        COMMENTS_SCHEMA[column][\"data_type\"]\n",
    "    )\n",
    "    \n",
    "for column in data4_video_performance.columns:\n",
    "    data4_video_performance[column] = typecast_column(\n",
    "        data4_video_performance[column],\n",
    "        PERFORMANCE_SCHEMA[column][\"data_type\"]\n",
    "    )\n",
    "\n",
    "data1_agg_country_suscriber.rename(columns=performance_country_column_map, inplace=True)\n",
    "data2_agg_video.rename(columns=metrics_column_map, inplace=True)\n",
    "data3_comments.rename(columns=comments_column_map, inplace=True)\n",
    "data4_video_performance.rename(columns=performance_column_map, inplace=True)\n"
   ]
  },
  {
   "cell_type": "markdown",
   "metadata": {},
   "source": [
    "## Eager explotarion"
   ]
  },
  {
   "cell_type": "code",
   "execution_count": 30,
   "metadata": {},
   "outputs": [
    {
     "name": "stdout",
     "output_type": "stream",
     "text": [
      "<class 'pandas.core.frame.DataFrame'>\n",
      "RangeIndex: 55292 entries, 0 to 55291\n",
      "Data columns (total 15 columns):\n",
      " #   Column              Non-Null Count  Dtype  \n",
      "---  ------              --------------  -----  \n",
      " 0   title               55292 non-null  object \n",
      " 1   video_id            55292 non-null  object \n",
      " 2   length              55292 non-null  int16  \n",
      " 3   thumbnail           55292 non-null  object \n",
      " 4   country             55292 non-null  object \n",
      " 5   is_subscribed       55292 non-null  bool   \n",
      " 6   view_count          55292 non-null  int16  \n",
      " 7   likes_added         55292 non-null  int16  \n",
      " 8   dislikes_added      55292 non-null  int16  \n",
      " 9   likes_removed       55292 non-null  int16  \n",
      " 10  subscribers_gained  55292 non-null  int16  \n",
      " 11  subscribers_lost    55292 non-null  int16  \n",
      " 12  average_view_ratio  53854 non-null  float16\n",
      " 13  average_watch_time  53854 non-null  float16\n",
      " 14  comments_added      55292 non-null  int16  \n",
      "dtypes: bool(1), float16(2), int16(8), object(4)\n",
      "memory usage: 2.8+ MB\n"
     ]
    },
    {
     "data": {
      "text/html": [
       "<div>\n",
       "<style scoped>\n",
       "    .dataframe tbody tr th:only-of-type {\n",
       "        vertical-align: middle;\n",
       "    }\n",
       "\n",
       "    .dataframe tbody tr th {\n",
       "        vertical-align: top;\n",
       "    }\n",
       "\n",
       "    .dataframe thead th {\n",
       "        text-align: right;\n",
       "    }\n",
       "</style>\n",
       "<table border=\"1\" class=\"dataframe\">\n",
       "  <thead>\n",
       "    <tr style=\"text-align: right;\">\n",
       "      <th></th>\n",
       "      <th>title</th>\n",
       "      <th>video_id</th>\n",
       "      <th>length</th>\n",
       "      <th>thumbnail</th>\n",
       "      <th>country</th>\n",
       "      <th>is_subscribed</th>\n",
       "      <th>view_count</th>\n",
       "      <th>likes_added</th>\n",
       "      <th>dislikes_added</th>\n",
       "      <th>likes_removed</th>\n",
       "      <th>subscribers_gained</th>\n",
       "      <th>subscribers_lost</th>\n",
       "      <th>average_view_ratio</th>\n",
       "      <th>average_watch_time</th>\n",
       "      <th>comments_added</th>\n",
       "    </tr>\n",
       "  </thead>\n",
       "  <tbody>\n",
       "    <tr>\n",
       "      <th>0</th>\n",
       "      <td>🌶 Hot Topics in Tech: Data Science Explained #...</td>\n",
       "      <td>OtqQYqRNDGI</td>\n",
       "      <td>59</td>\n",
       "      <td>https://i.ytimg.com/vi/OtqQYqRNDGI/hqdefault.jpg</td>\n",
       "      <td>HK</td>\n",
       "      <td>True</td>\n",
       "      <td>23</td>\n",
       "      <td>1</td>\n",
       "      <td>0</td>\n",
       "      <td>0</td>\n",
       "      <td>2</td>\n",
       "      <td>0</td>\n",
       "      <td>0.671875</td>\n",
       "      <td>39.62500</td>\n",
       "      <td>0</td>\n",
       "    </tr>\n",
       "    <tr>\n",
       "      <th>1</th>\n",
       "      <td>🌶 Hot Topics in Tech: Data Science Explained #...</td>\n",
       "      <td>OtqQYqRNDGI</td>\n",
       "      <td>59</td>\n",
       "      <td>https://i.ytimg.com/vi/OtqQYqRNDGI/hqdefault.jpg</td>\n",
       "      <td>ME</td>\n",
       "      <td>True</td>\n",
       "      <td>3</td>\n",
       "      <td>0</td>\n",
       "      <td>0</td>\n",
       "      <td>0</td>\n",
       "      <td>0</td>\n",
       "      <td>0</td>\n",
       "      <td>0.498779</td>\n",
       "      <td>29.43750</td>\n",
       "      <td>0</td>\n",
       "    </tr>\n",
       "    <tr>\n",
       "      <th>2</th>\n",
       "      <td>🌶 Hot Topics in Tech: Data Science Explained #...</td>\n",
       "      <td>OtqQYqRNDGI</td>\n",
       "      <td>59</td>\n",
       "      <td>https://i.ytimg.com/vi/OtqQYqRNDGI/hqdefault.jpg</td>\n",
       "      <td>RW</td>\n",
       "      <td>True</td>\n",
       "      <td>2</td>\n",
       "      <td>0</td>\n",
       "      <td>0</td>\n",
       "      <td>0</td>\n",
       "      <td>0</td>\n",
       "      <td>0</td>\n",
       "      <td>0.681641</td>\n",
       "      <td>40.21875</td>\n",
       "      <td>0</td>\n",
       "    </tr>\n",
       "    <tr>\n",
       "      <th>3</th>\n",
       "      <td>🌶 Hot Topics in Tech: Data Science Explained #...</td>\n",
       "      <td>OtqQYqRNDGI</td>\n",
       "      <td>59</td>\n",
       "      <td>https://i.ytimg.com/vi/OtqQYqRNDGI/hqdefault.jpg</td>\n",
       "      <td>US</td>\n",
       "      <td>True</td>\n",
       "      <td>979</td>\n",
       "      <td>81</td>\n",
       "      <td>6</td>\n",
       "      <td>8</td>\n",
       "      <td>16</td>\n",
       "      <td>4</td>\n",
       "      <td>0.694824</td>\n",
       "      <td>41.00000</td>\n",
       "      <td>0</td>\n",
       "    </tr>\n",
       "    <tr>\n",
       "      <th>4</th>\n",
       "      <td>🌶 Hot Topics in Tech: Data Science Explained #...</td>\n",
       "      <td>OtqQYqRNDGI</td>\n",
       "      <td>59</td>\n",
       "      <td>https://i.ytimg.com/vi/OtqQYqRNDGI/hqdefault.jpg</td>\n",
       "      <td>DE</td>\n",
       "      <td>False</td>\n",
       "      <td>75</td>\n",
       "      <td>3</td>\n",
       "      <td>0</td>\n",
       "      <td>1</td>\n",
       "      <td>0</td>\n",
       "      <td>0</td>\n",
       "      <td>0.661621</td>\n",
       "      <td>39.03125</td>\n",
       "      <td>0</td>\n",
       "    </tr>\n",
       "  </tbody>\n",
       "</table>\n",
       "</div>"
      ],
      "text/plain": [
       "                                               title     video_id  length  \\\n",
       "0  🌶 Hot Topics in Tech: Data Science Explained #...  OtqQYqRNDGI      59   \n",
       "1  🌶 Hot Topics in Tech: Data Science Explained #...  OtqQYqRNDGI      59   \n",
       "2  🌶 Hot Topics in Tech: Data Science Explained #...  OtqQYqRNDGI      59   \n",
       "3  🌶 Hot Topics in Tech: Data Science Explained #...  OtqQYqRNDGI      59   \n",
       "4  🌶 Hot Topics in Tech: Data Science Explained #...  OtqQYqRNDGI      59   \n",
       "\n",
       "                                          thumbnail country  is_subscribed  \\\n",
       "0  https://i.ytimg.com/vi/OtqQYqRNDGI/hqdefault.jpg      HK           True   \n",
       "1  https://i.ytimg.com/vi/OtqQYqRNDGI/hqdefault.jpg      ME           True   \n",
       "2  https://i.ytimg.com/vi/OtqQYqRNDGI/hqdefault.jpg      RW           True   \n",
       "3  https://i.ytimg.com/vi/OtqQYqRNDGI/hqdefault.jpg      US           True   \n",
       "4  https://i.ytimg.com/vi/OtqQYqRNDGI/hqdefault.jpg      DE          False   \n",
       "\n",
       "   view_count  likes_added  dislikes_added  likes_removed  subscribers_gained  \\\n",
       "0          23            1               0              0                   2   \n",
       "1           3            0               0              0                   0   \n",
       "2           2            0               0              0                   0   \n",
       "3         979           81               6              8                  16   \n",
       "4          75            3               0              1                   0   \n",
       "\n",
       "   subscribers_lost  average_view_ratio  average_watch_time  comments_added  \n",
       "0                 0            0.671875            39.62500               0  \n",
       "1                 0            0.498779            29.43750               0  \n",
       "2                 0            0.681641            40.21875               0  \n",
       "3                 4            0.694824            41.00000               0  \n",
       "4                 0            0.661621            39.03125               0  "
      ]
     },
     "execution_count": 30,
     "metadata": {},
     "output_type": "execute_result"
    }
   ],
   "source": [
    "data1_agg_country_suscriber.info()\n",
    "data1_agg_country_suscriber.head()"
   ]
  },
  {
   "cell_type": "code",
   "execution_count": 23,
   "metadata": {},
   "outputs": [
    {
     "name": "stdout",
     "output_type": "stream",
     "text": [
      "<class 'pandas.core.frame.DataFrame'>\n",
      "RangeIndex: 224 entries, 0 to 223\n",
      "Data columns (total 19 columns):\n",
      " #   Column                                Non-Null Count  Dtype         \n",
      "---  ------                                --------------  -----         \n",
      " 0   Video                                 224 non-null    object        \n",
      " 1   Video title                           224 non-null    object        \n",
      " 2   Video pub­lish time                   223 non-null    datetime64[ns]\n",
      " 3   Com­ments ad­ded                      224 non-null    int16         \n",
      " 4   Shares                                224 non-null    int16         \n",
      " 5   Dis­likes                             224 non-null    int16         \n",
      " 6   Likes                                 224 non-null    int16         \n",
      " 7   Sub­scribers lost                     224 non-null    int16         \n",
      " 8   Sub­scribers gained                   224 non-null    int16         \n",
      " 9   RPM (USD)                             224 non-null    float16       \n",
      " 10  CPM (USD)                             222 non-null    float16       \n",
      " 11  Av­er­age per­cent­age viewed (%)     224 non-null    float16       \n",
      " 12  Av­er­age view dur­a­tion             224 non-null    int64         \n",
      " 13  Views                                 224 non-null    int16         \n",
      " 14  Watch time (hours)                    224 non-null    float16       \n",
      " 15  Sub­scribers                          224 non-null    int16         \n",
      " 16  Your es­tim­ated rev­en­ue (USD)      224 non-null    float16       \n",
      " 17  Im­pres­sions                         224 non-null    int16         \n",
      " 18  Im­pres­sions click-through rate (%)  224 non-null    float16       \n",
      "dtypes: datetime64[ns](1), float16(6), int16(9), int64(1), object(2)\n",
      "memory usage: 13.7+ KB\n"
     ]
    },
    {
     "data": {
      "text/html": [
       "<div>\n",
       "<style scoped>\n",
       "    .dataframe tbody tr th:only-of-type {\n",
       "        vertical-align: middle;\n",
       "    }\n",
       "\n",
       "    .dataframe tbody tr th {\n",
       "        vertical-align: top;\n",
       "    }\n",
       "\n",
       "    .dataframe thead th {\n",
       "        text-align: right;\n",
       "    }\n",
       "</style>\n",
       "<table border=\"1\" class=\"dataframe\">\n",
       "  <thead>\n",
       "    <tr style=\"text-align: right;\">\n",
       "      <th></th>\n",
       "      <th>Video</th>\n",
       "      <th>Video title</th>\n",
       "      <th>Video pub­lish time</th>\n",
       "      <th>Com­ments ad­ded</th>\n",
       "      <th>Shares</th>\n",
       "      <th>Dis­likes</th>\n",
       "      <th>Likes</th>\n",
       "      <th>Sub­scribers lost</th>\n",
       "      <th>Sub­scribers gained</th>\n",
       "      <th>RPM (USD)</th>\n",
       "      <th>CPM (USD)</th>\n",
       "      <th>Av­er­age per­cent­age viewed (%)</th>\n",
       "      <th>Av­er­age view dur­a­tion</th>\n",
       "      <th>Views</th>\n",
       "      <th>Watch time (hours)</th>\n",
       "      <th>Sub­scribers</th>\n",
       "      <th>Your es­tim­ated rev­en­ue (USD)</th>\n",
       "      <th>Im­pres­sions</th>\n",
       "      <th>Im­pres­sions click-through rate (%)</th>\n",
       "    </tr>\n",
       "  </thead>\n",
       "  <tbody>\n",
       "    <tr>\n",
       "      <th>0</th>\n",
       "      <td>Total</td>\n",
       "      <td>nan</td>\n",
       "      <td>NaT</td>\n",
       "      <td>14197</td>\n",
       "      <td>-25896</td>\n",
       "      <td>3902</td>\n",
       "      <td>28413</td>\n",
       "      <td>-19746</td>\n",
       "      <td>32633</td>\n",
       "      <td>5.277344</td>\n",
       "      <td>11.992188</td>\n",
       "      <td>26.609375</td>\n",
       "      <td>205</td>\n",
       "      <td>-2073</td>\n",
       "      <td>inf</td>\n",
       "      <td>-13157</td>\n",
       "      <td>29072.000000</td>\n",
       "      <td>28624</td>\n",
       "      <td>3.160156</td>\n",
       "    </tr>\n",
       "    <tr>\n",
       "      <th>1</th>\n",
       "      <td>4OZip0cgOho</td>\n",
       "      <td>How I Would Learn Data Science (If I Had to St...</td>\n",
       "      <td>2020-05-08</td>\n",
       "      <td>907</td>\n",
       "      <td>9583</td>\n",
       "      <td>942</td>\n",
       "      <td>-18633</td>\n",
       "      <td>451</td>\n",
       "      <td>-18632</td>\n",
       "      <td>6.351562</td>\n",
       "      <td>12.835938</td>\n",
       "      <td>36.656250</td>\n",
       "      <td>189</td>\n",
       "      <td>8375</td>\n",
       "      <td>inf</td>\n",
       "      <td>-19083</td>\n",
       "      <td>7960.000000</td>\n",
       "      <td>22255</td>\n",
       "      <td>3.140625</td>\n",
       "    </tr>\n",
       "    <tr>\n",
       "      <th>2</th>\n",
       "      <td>78LjdAAw0wA</td>\n",
       "      <td>100K Channel Update + AMA Stream!</td>\n",
       "      <td>2020-11-12</td>\n",
       "      <td>412</td>\n",
       "      <td>4</td>\n",
       "      <td>4</td>\n",
       "      <td>130</td>\n",
       "      <td>15</td>\n",
       "      <td>12</td>\n",
       "      <td>2.667969</td>\n",
       "      <td>6.257812</td>\n",
       "      <td>6.261719</td>\n",
       "      <td>314</td>\n",
       "      <td>2291</td>\n",
       "      <td>200.25</td>\n",
       "      <td>-3</td>\n",
       "      <td>6.113281</td>\n",
       "      <td>-8290</td>\n",
       "      <td>0.720215</td>\n",
       "    </tr>\n",
       "    <tr>\n",
       "      <th>3</th>\n",
       "      <td>hO_YKK_0Qck</td>\n",
       "      <td>Uber Driver to Machine Learning Engineer in 9 ...</td>\n",
       "      <td>2020-07-16</td>\n",
       "      <td>402</td>\n",
       "      <td>152</td>\n",
       "      <td>15</td>\n",
       "      <td>881</td>\n",
       "      <td>9</td>\n",
       "      <td>198</td>\n",
       "      <td>9.515625</td>\n",
       "      <td>11.695312</td>\n",
       "      <td>15.117188</td>\n",
       "      <td>621</td>\n",
       "      <td>21350</td>\n",
       "      <td>3688.00</td>\n",
       "      <td>189</td>\n",
       "      <td>203.000000</td>\n",
       "      <td>-16418</td>\n",
       "      <td>2.529297</td>\n",
       "    </tr>\n",
       "    <tr>\n",
       "      <th>4</th>\n",
       "      <td>uXLnbdHMf8w</td>\n",
       "      <td>Why I'm Starting Data Science Over Again.</td>\n",
       "      <td>2020-08-29</td>\n",
       "      <td>375</td>\n",
       "      <td>367</td>\n",
       "      <td>22</td>\n",
       "      <td>2622</td>\n",
       "      <td>40</td>\n",
       "      <td>1957</td>\n",
       "      <td>3.142578</td>\n",
       "      <td>7.941406</td>\n",
       "      <td>33.406250</td>\n",
       "      <td>156</td>\n",
       "      <td>-15972</td>\n",
       "      <td>2148.00</td>\n",
       "      <td>1917</td>\n",
       "      <td>155.750000</td>\n",
       "      <td>-3103</td>\n",
       "      <td>4.011719</td>\n",
       "    </tr>\n",
       "  </tbody>\n",
       "</table>\n",
       "</div>"
      ],
      "text/plain": [
       "         Video                                        Video title  \\\n",
       "0        Total                                                nan   \n",
       "1  4OZip0cgOho  How I Would Learn Data Science (If I Had to St...   \n",
       "2  78LjdAAw0wA                  100K Channel Update + AMA Stream!   \n",
       "3  hO_YKK_0Qck  Uber Driver to Machine Learning Engineer in 9 ...   \n",
       "4  uXLnbdHMf8w          Why I'm Starting Data Science Over Again.   \n",
       "\n",
       "  Video pub­lish time  Com­ments ad­ded  Shares  Dis­likes  Likes  \\\n",
       "0                 NaT             14197  -25896       3902  28413   \n",
       "1          2020-05-08               907    9583        942 -18633   \n",
       "2          2020-11-12               412       4          4    130   \n",
       "3          2020-07-16               402     152         15    881   \n",
       "4          2020-08-29               375     367         22   2622   \n",
       "\n",
       "   Sub­scribers lost  Sub­scribers gained  RPM (USD)  CPM (USD)  \\\n",
       "0             -19746                32633   5.277344  11.992188   \n",
       "1                451               -18632   6.351562  12.835938   \n",
       "2                 15                   12   2.667969   6.257812   \n",
       "3                  9                  198   9.515625  11.695312   \n",
       "4                 40                 1957   3.142578   7.941406   \n",
       "\n",
       "   Av­er­age per­cent­age viewed (%)  Av­er­age view dur­a­tion  Views  \\\n",
       "0                          26.609375                        205  -2073   \n",
       "1                          36.656250                        189   8375   \n",
       "2                           6.261719                        314   2291   \n",
       "3                          15.117188                        621  21350   \n",
       "4                          33.406250                        156 -15972   \n",
       "\n",
       "   Watch time (hours)  Sub­scribers  Your es­tim­ated rev­en­ue (USD)  \\\n",
       "0                 inf        -13157                      29072.000000   \n",
       "1                 inf        -19083                       7960.000000   \n",
       "2              200.25            -3                          6.113281   \n",
       "3             3688.00           189                        203.000000   \n",
       "4             2148.00          1917                        155.750000   \n",
       "\n",
       "   Im­pres­sions  Im­pres­sions click-through rate (%)  \n",
       "0          28624                              3.160156  \n",
       "1          22255                              3.140625  \n",
       "2          -8290                              0.720215  \n",
       "3         -16418                              2.529297  \n",
       "4          -3103                              4.011719  "
      ]
     },
     "execution_count": 23,
     "metadata": {},
     "output_type": "execute_result"
    }
   ],
   "source": [
    "data2_agg_video.info()\n",
    "data2_agg_video.head()"
   ]
  },
  {
   "cell_type": "code",
   "execution_count": 24,
   "metadata": {},
   "outputs": [
    {
     "name": "stdout",
     "output_type": "stream",
     "text": [
      "<class 'pandas.core.frame.DataFrame'>\n",
      "RangeIndex: 10240 entries, 0 to 10239\n",
      "Data columns (total 7 columns):\n",
      " #   Column       Non-Null Count  Dtype              \n",
      "---  ------       --------------  -----              \n",
      " 0   Comments     10240 non-null  object             \n",
      " 1   Comment_ID   10240 non-null  object             \n",
      " 2   Reply_Count  10240 non-null  int16              \n",
      " 3   Like_Count   10240 non-null  int16              \n",
      " 4   Date         10240 non-null  datetime64[ns, UTC]\n",
      " 5   VidId        10240 non-null  object             \n",
      " 6   user_ID      10240 non-null  object             \n",
      "dtypes: datetime64[ns, UTC](1), int16(2), object(4)\n",
      "memory usage: 440.1+ KB\n"
     ]
    },
    {
     "data": {
      "text/html": [
       "<div>\n",
       "<style scoped>\n",
       "    .dataframe tbody tr th:only-of-type {\n",
       "        vertical-align: middle;\n",
       "    }\n",
       "\n",
       "    .dataframe tbody tr th {\n",
       "        vertical-align: top;\n",
       "    }\n",
       "\n",
       "    .dataframe thead th {\n",
       "        text-align: right;\n",
       "    }\n",
       "</style>\n",
       "<table border=\"1\" class=\"dataframe\">\n",
       "  <thead>\n",
       "    <tr style=\"text-align: right;\">\n",
       "      <th></th>\n",
       "      <th>Comments</th>\n",
       "      <th>Comment_ID</th>\n",
       "      <th>Reply_Count</th>\n",
       "      <th>Like_Count</th>\n",
       "      <th>Date</th>\n",
       "      <th>VidId</th>\n",
       "      <th>user_ID</th>\n",
       "    </tr>\n",
       "  </thead>\n",
       "  <tbody>\n",
       "    <tr>\n",
       "      <th>0</th>\n",
       "      <td>Thanks for this video Ken.\\n\\nI decided to go ...</td>\n",
       "      <td>UgxFZTIzC4UPyhhX_PZ4AaABAg</td>\n",
       "      <td>0</td>\n",
       "      <td>0</td>\n",
       "      <td>2022-01-22 08:13:29+00:00</td>\n",
       "      <td>xpIFS6jZbe8</td>\n",
       "      <td>user_981</td>\n",
       "    </tr>\n",
       "    <tr>\n",
       "      <th>1</th>\n",
       "      <td>Hello ken jee!!! I'm doing a graduation on Com...</td>\n",
       "      <td>Ugx3IYuAufhb932GYQx4AaABAg</td>\n",
       "      <td>0</td>\n",
       "      <td>0</td>\n",
       "      <td>2022-01-22 01:09:46+00:00</td>\n",
       "      <td>xpIFS6jZbe8</td>\n",
       "      <td>user_213</td>\n",
       "    </tr>\n",
       "    <tr>\n",
       "      <th>2</th>\n",
       "      <td>Thanks for this video, man. So useful. I'll me...</td>\n",
       "      <td>UgyhwwoK24arzRt1mud4AaABAg</td>\n",
       "      <td>0</td>\n",
       "      <td>0</td>\n",
       "      <td>2022-01-21 23:59:05+00:00</td>\n",
       "      <td>rEWPqw6rMGI</td>\n",
       "      <td>user_1065</td>\n",
       "    </tr>\n",
       "    <tr>\n",
       "      <th>3</th>\n",
       "      <td>Great video!!! I started learning Python 8 mon...</td>\n",
       "      <td>UgwrrI7nd3WClsotmHV4AaABAg</td>\n",
       "      <td>0</td>\n",
       "      <td>0</td>\n",
       "      <td>2022-01-21 23:00:37+00:00</td>\n",
       "      <td>xpIFS6jZbe8</td>\n",
       "      <td>user_3391</td>\n",
       "    </tr>\n",
       "    <tr>\n",
       "      <th>4</th>\n",
       "      <td>Been watching hours of your material (and Tina...</td>\n",
       "      <td>UgxlOrHO4MHKSwY9mUN4AaABAg</td>\n",
       "      <td>0</td>\n",
       "      <td>0</td>\n",
       "      <td>2022-01-21 20:24:20+00:00</td>\n",
       "      <td>sHRq-LshG3U</td>\n",
       "      <td>user_2816</td>\n",
       "    </tr>\n",
       "  </tbody>\n",
       "</table>\n",
       "</div>"
      ],
      "text/plain": [
       "                                            Comments  \\\n",
       "0  Thanks for this video Ken.\\n\\nI decided to go ...   \n",
       "1  Hello ken jee!!! I'm doing a graduation on Com...   \n",
       "2  Thanks for this video, man. So useful. I'll me...   \n",
       "3  Great video!!! I started learning Python 8 mon...   \n",
       "4  Been watching hours of your material (and Tina...   \n",
       "\n",
       "                   Comment_ID  Reply_Count  Like_Count  \\\n",
       "0  UgxFZTIzC4UPyhhX_PZ4AaABAg            0           0   \n",
       "1  Ugx3IYuAufhb932GYQx4AaABAg            0           0   \n",
       "2  UgyhwwoK24arzRt1mud4AaABAg            0           0   \n",
       "3  UgwrrI7nd3WClsotmHV4AaABAg            0           0   \n",
       "4  UgxlOrHO4MHKSwY9mUN4AaABAg            0           0   \n",
       "\n",
       "                       Date        VidId    user_ID  \n",
       "0 2022-01-22 08:13:29+00:00  xpIFS6jZbe8   user_981  \n",
       "1 2022-01-22 01:09:46+00:00  xpIFS6jZbe8   user_213  \n",
       "2 2022-01-21 23:59:05+00:00  rEWPqw6rMGI  user_1065  \n",
       "3 2022-01-21 23:00:37+00:00  xpIFS6jZbe8  user_3391  \n",
       "4 2022-01-21 20:24:20+00:00  sHRq-LshG3U  user_2816  "
      ]
     },
     "execution_count": 24,
     "metadata": {},
     "output_type": "execute_result"
    }
   ],
   "source": [
    "data3_comments.info()\n",
    "data3_comments.head()"
   ]
  },
  {
   "cell_type": "code",
   "execution_count": 25,
   "metadata": {},
   "outputs": [
    {
     "name": "stdout",
     "output_type": "stream",
     "text": [
      "<class 'pandas.core.frame.DataFrame'>\n",
      "RangeIndex: 111857 entries, 0 to 111856\n",
      "Data columns (total 14 columns):\n",
      " #   Column                      Non-Null Count   Dtype         \n",
      "---  ------                      --------------   -----         \n",
      " 0   Date                        111857 non-null  datetime64[ns]\n",
      " 1   Video Title                 111857 non-null  object        \n",
      " 2   External Video ID           111857 non-null  object        \n",
      " 3   Video Length                111857 non-null  int16         \n",
      " 4   Thumbnail link              111857 non-null  object        \n",
      " 5   Views                       111857 non-null  int16         \n",
      " 6   Video Likes Added           111857 non-null  int16         \n",
      " 7   Video Dislikes Added        111857 non-null  int16         \n",
      " 8   Video Likes Removed         111857 non-null  int16         \n",
      " 9   User Subscriptions Added    111857 non-null  int16         \n",
      " 10  User Subscriptions Removed  111857 non-null  int16         \n",
      " 11  Average View Percentage     110510 non-null  float16       \n",
      " 12  Average Watch Time          110510 non-null  float16       \n",
      " 13  User Comments Added         111857 non-null  int16         \n",
      "dtypes: datetime64[ns](1), float16(2), int16(8), object(3)\n",
      "memory usage: 5.5+ MB\n"
     ]
    },
    {
     "data": {
      "text/html": [
       "<div>\n",
       "<style scoped>\n",
       "    .dataframe tbody tr th:only-of-type {\n",
       "        vertical-align: middle;\n",
       "    }\n",
       "\n",
       "    .dataframe tbody tr th {\n",
       "        vertical-align: top;\n",
       "    }\n",
       "\n",
       "    .dataframe thead th {\n",
       "        text-align: right;\n",
       "    }\n",
       "</style>\n",
       "<table border=\"1\" class=\"dataframe\">\n",
       "  <thead>\n",
       "    <tr style=\"text-align: right;\">\n",
       "      <th></th>\n",
       "      <th>Date</th>\n",
       "      <th>Video Title</th>\n",
       "      <th>External Video ID</th>\n",
       "      <th>Video Length</th>\n",
       "      <th>Thumbnail link</th>\n",
       "      <th>Views</th>\n",
       "      <th>Video Likes Added</th>\n",
       "      <th>Video Dislikes Added</th>\n",
       "      <th>Video Likes Removed</th>\n",
       "      <th>User Subscriptions Added</th>\n",
       "      <th>User Subscriptions Removed</th>\n",
       "      <th>Average View Percentage</th>\n",
       "      <th>Average Watch Time</th>\n",
       "      <th>User Comments Added</th>\n",
       "    </tr>\n",
       "  </thead>\n",
       "  <tbody>\n",
       "    <tr>\n",
       "      <th>0</th>\n",
       "      <td>2022-01-19</td>\n",
       "      <td>Kaggle Project From Scratch - Part 2 (Explorat...</td>\n",
       "      <td>KQ80oD_boBM</td>\n",
       "      <td>2191</td>\n",
       "      <td>https://i.ytimg.com/vi/KQ80oD_boBM/hqdefault.jpg</td>\n",
       "      <td>13</td>\n",
       "      <td>0</td>\n",
       "      <td>0</td>\n",
       "      <td>0</td>\n",
       "      <td>0</td>\n",
       "      <td>0</td>\n",
       "      <td>0.069031</td>\n",
       "      <td>151.25000</td>\n",
       "      <td>0</td>\n",
       "    </tr>\n",
       "    <tr>\n",
       "      <th>1</th>\n",
       "      <td>2022-01-19</td>\n",
       "      <td>Welcome To My Channel | Ken Jee | Data Science</td>\n",
       "      <td>smeFkHwnM_k</td>\n",
       "      <td>51</td>\n",
       "      <td>https://i.ytimg.com/vi/smeFkHwnM_k/hqdefault.jpg</td>\n",
       "      <td>2</td>\n",
       "      <td>0</td>\n",
       "      <td>0</td>\n",
       "      <td>0</td>\n",
       "      <td>1</td>\n",
       "      <td>0</td>\n",
       "      <td>0.471191</td>\n",
       "      <td>24.03125</td>\n",
       "      <td>0</td>\n",
       "    </tr>\n",
       "    <tr>\n",
       "      <th>2</th>\n",
       "      <td>2022-01-19</td>\n",
       "      <td>How She Dominated the FAANG Data Science Inter...</td>\n",
       "      <td>vfV4nm004VQ</td>\n",
       "      <td>2686</td>\n",
       "      <td>https://i.ytimg.com/vi/vfV4nm004VQ/hqdefault.jpg</td>\n",
       "      <td>10</td>\n",
       "      <td>0</td>\n",
       "      <td>0</td>\n",
       "      <td>0</td>\n",
       "      <td>0</td>\n",
       "      <td>0</td>\n",
       "      <td>0.126099</td>\n",
       "      <td>338.50000</td>\n",
       "      <td>0</td>\n",
       "    </tr>\n",
       "    <tr>\n",
       "      <th>3</th>\n",
       "      <td>2022-01-19</td>\n",
       "      <td>The 9 Books That Changed My Perspective in 2019</td>\n",
       "      <td>3TrAYmrmA8o</td>\n",
       "      <td>980</td>\n",
       "      <td>https://i.ytimg.com/vi/3TrAYmrmA8o/hqdefault.jpg</td>\n",
       "      <td>1</td>\n",
       "      <td>0</td>\n",
       "      <td>0</td>\n",
       "      <td>0</td>\n",
       "      <td>0</td>\n",
       "      <td>0</td>\n",
       "      <td>0.011505</td>\n",
       "      <td>11.28125</td>\n",
       "      <td>0</td>\n",
       "    </tr>\n",
       "    <tr>\n",
       "      <th>4</th>\n",
       "      <td>2022-01-19</td>\n",
       "      <td>Interview with the Director of AI Research @ N...</td>\n",
       "      <td>Xgg7dIKys9E</td>\n",
       "      <td>2904</td>\n",
       "      <td>https://i.ytimg.com/vi/Xgg7dIKys9E/hqdefault.jpg</td>\n",
       "      <td>1</td>\n",
       "      <td>0</td>\n",
       "      <td>0</td>\n",
       "      <td>0</td>\n",
       "      <td>0</td>\n",
       "      <td>0</td>\n",
       "      <td>0.007542</td>\n",
       "      <td>21.90625</td>\n",
       "      <td>0</td>\n",
       "    </tr>\n",
       "  </tbody>\n",
       "</table>\n",
       "</div>"
      ],
      "text/plain": [
       "        Date                                        Video Title  \\\n",
       "0 2022-01-19  Kaggle Project From Scratch - Part 2 (Explorat...   \n",
       "1 2022-01-19     Welcome To My Channel | Ken Jee | Data Science   \n",
       "2 2022-01-19  How She Dominated the FAANG Data Science Inter...   \n",
       "3 2022-01-19    The 9 Books That Changed My Perspective in 2019   \n",
       "4 2022-01-19  Interview with the Director of AI Research @ N...   \n",
       "\n",
       "  External Video ID  Video Length  \\\n",
       "0       KQ80oD_boBM          2191   \n",
       "1       smeFkHwnM_k            51   \n",
       "2       vfV4nm004VQ          2686   \n",
       "3       3TrAYmrmA8o           980   \n",
       "4       Xgg7dIKys9E          2904   \n",
       "\n",
       "                                     Thumbnail link  Views  Video Likes Added  \\\n",
       "0  https://i.ytimg.com/vi/KQ80oD_boBM/hqdefault.jpg     13                  0   \n",
       "1  https://i.ytimg.com/vi/smeFkHwnM_k/hqdefault.jpg      2                  0   \n",
       "2  https://i.ytimg.com/vi/vfV4nm004VQ/hqdefault.jpg     10                  0   \n",
       "3  https://i.ytimg.com/vi/3TrAYmrmA8o/hqdefault.jpg      1                  0   \n",
       "4  https://i.ytimg.com/vi/Xgg7dIKys9E/hqdefault.jpg      1                  0   \n",
       "\n",
       "   Video Dislikes Added  Video Likes Removed  User Subscriptions Added  \\\n",
       "0                     0                    0                         0   \n",
       "1                     0                    0                         1   \n",
       "2                     0                    0                         0   \n",
       "3                     0                    0                         0   \n",
       "4                     0                    0                         0   \n",
       "\n",
       "   User Subscriptions Removed  Average View Percentage  Average Watch Time  \\\n",
       "0                           0                 0.069031           151.25000   \n",
       "1                           0                 0.471191            24.03125   \n",
       "2                           0                 0.126099           338.50000   \n",
       "3                           0                 0.011505            11.28125   \n",
       "4                           0                 0.007542            21.90625   \n",
       "\n",
       "   User Comments Added  \n",
       "0                    0  \n",
       "1                    0  \n",
       "2                    0  \n",
       "3                    0  \n",
       "4                    0  "
      ]
     },
     "execution_count": 25,
     "metadata": {},
     "output_type": "execute_result"
    }
   ],
   "source": [
    "data4_video_performance.info()\n",
    "data4_video_performance.head()"
   ]
  },
  {
   "cell_type": "markdown",
   "metadata": {},
   "source": [
    "<a id=\"3\"></a>\n",
    "# <p style=\"background-color:#682F2F;font-family:newtimeroman;color:#FFF9ED;font-size:150%;text-align:center;border-radius:10px 10px;\">DATA PIPELINE</p>\n",
    "- Special section: is used before and after by the following sections. Isn't in the common sequential flow.\n",
    "- Maleable section.\n",
    "- Here we define a pipeline for cleaning, preprocessing, dimensionality reduction, feature enginering, etc. That can be modified at any time for other following steps.\n",
    "- Commonly, we use the insights got in EDA for write this part."
   ]
  },
  {
   "cell_type": "code",
   "execution_count": 6,
   "metadata": {},
   "outputs": [],
   "source": [
    "from sklearn.preprocessing import StandardScaler\n",
    "from copy import deepcopy\n",
    "\n",
    "\n",
    "class PipelineModel:\n",
    "    \n",
    "    def __init__(self, dimension_reduction_to=3) -> None:\n",
    "        self.mask_importances = []\n",
    "        self.dimension_reduction_to = dimension_reduction_to\n",
    "\n",
    "    def processMissing(self, X_raw:pd.DataFrame, y=None):\n",
    "        return X_raw.dropna(), y\n",
    "\n",
    "    def processDuplicates(self, X_raw:pd.DataFrame, y=None):\n",
    "        return X_raw, y\n",
    "\n",
    "    def featureEngineering(self, X_raw:pd.DataFrame, y=None):\n",
    "        return X_raw, y\n",
    "\n",
    "    def processCategorical(self, X_raw:pd.DataFrame, y=None):\n",
    "        #Get list of categorical variables\n",
    "        return X_raw, y\n",
    "\n",
    "    def processOutliers(self, X_raw:pd.DataFrame, y=None):\n",
    "        # outliers by setting a cap on Age and income. \n",
    "        return X_raw, y\n",
    "\n",
    "    def scaleData(self, X_raw:pd.DataFrame, y=None):\n",
    "        #Scaling\n",
    "        \"\"\"\n",
    "        scaler = StandardScaler()\n",
    "        scaler.fit(X_raw)\n",
    "        X_raw = pd.DataFrame(scaler.transform(X_raw),columns= X_raw.columns)\n",
    "        \"\"\"\n",
    "        return X_raw, y\n",
    "\n",
    "\n",
    "    def reduceDimension(self, X_raw:pd.DataFrame, y=None):\n",
    "        # Usually PCA or feature importance with random forests\n",
    "\n",
    "        #Initiating PCA to reduce dimentions aka features to 3\n",
    "        pca = PCA(n_components=self.dimension_reduction_to)\n",
    "        pca.fit(X_raw)\n",
    "\n",
    "        columns = [f\"col{i}\" for i in range(1,self.dimension_reduction_to+1)]\n",
    "\n",
    "        PCA_ds = pd.DataFrame(pca.transform(X_raw), columns=(columns))\n",
    "        return PCA_ds, y\n",
    "\n",
    "    def processFinal(self, X_raw:pd.DataFrame, y=None):\n",
    "\n",
    "        return X_raw, y\n",
    "        \n",
    "    def transform(self, X_raw:pd.DataFrame, y=None, is_training=True):\n",
    "        \n",
    "        X_clean = X_raw.copy()\n",
    "\n",
    "        if y is not None:\n",
    "            y_clean = y.copy()\n",
    "        else:\n",
    "            y_clean = None\n",
    "\n",
    "        X_clean, y_clean = self.processMissing(X_clean, y_clean)\n",
    "        X_clean, y_clean = self.processDuplicates(X_clean, y_clean)\n",
    "        X_clean, y_clean = self.featureEngineering(X_clean, y_clean)\n",
    "        X_clean, y_clean = self.processCategorical(X_clean, y_clean)\n",
    "        X_clean, y_clean = self.processOutliers(X_clean, y_clean)\n",
    "        X_clean, y_clean = self.scaleData(X_clean, y_clean)\n",
    "        # X_clean, y_clean = self.reduceDimension(X_clean, y_clean)\n",
    "        # X_clean, y_clean = self.processFinal(X_clean, y_clean)\n",
    "\n",
    "        \n",
    "        \n",
    "        return X_clean, y_clean\n",
    "\n",
    "# Temporal initialization\n",
    "# df_analisis = exploreSurface(dataset_all)\n",
    "# columns_categories = categorizeColumns(dataset_all, df_analisis)\n",
    "pipeline = PipelineModel()\n",
    "\n",
    "# X_clean, _ = pipeline.transform(X_raw)\n",
    "# X_train, _ = pipeline.reduceDimension(X_clean) # processFinal\n",
    "# X_train.head()"
   ]
  },
  {
   "cell_type": "code",
   "execution_count": null,
   "metadata": {},
   "outputs": [],
   "source": [
    "X_clean.head()"
   ]
  },
  {
   "cell_type": "markdown",
   "metadata": {},
   "source": [
    "<a id=\"4\"></a>\n",
    "# <p style=\"background-color:#682F2F;font-family:newtimeroman;color:#FFF9ED;font-size:150%;text-align:center;border-radius:10px 10px;\">EXPLORATORY DATA ANALYSIS</p>"
   ]
  },
  {
   "cell_type": "markdown",
   "metadata": {},
   "source": [
    "# General"
   ]
  },
  {
   "cell_type": "code",
   "execution_count": 58,
   "metadata": {},
   "outputs": [
    {
     "data": {
      "text/html": [
       "<div>\n",
       "<style scoped>\n",
       "    .dataframe tbody tr th:only-of-type {\n",
       "        vertical-align: middle;\n",
       "    }\n",
       "\n",
       "    .dataframe tbody tr th {\n",
       "        vertical-align: top;\n",
       "    }\n",
       "\n",
       "    .dataframe thead th {\n",
       "        text-align: right;\n",
       "    }\n",
       "</style>\n",
       "<table border=\"1\" class=\"dataframe\">\n",
       "  <thead>\n",
       "    <tr style=\"text-align: right;\">\n",
       "      <th></th>\n",
       "      <th>comment_count</th>\n",
       "      <th>share_count</th>\n",
       "      <th>dislike_count</th>\n",
       "      <th>like_count</th>\n",
       "      <th>subscribers_lost</th>\n",
       "      <th>subscribers_gained</th>\n",
       "      <th>rpm</th>\n",
       "      <th>cpm</th>\n",
       "      <th>average_view_ratio</th>\n",
       "      <th>average_watch_time</th>\n",
       "      <th>view_count</th>\n",
       "      <th>total_watch_time</th>\n",
       "      <th>net_subscribers</th>\n",
       "      <th>estimated_revenue</th>\n",
       "      <th>impression_count</th>\n",
       "      <th>click_through_rate</th>\n",
       "    </tr>\n",
       "  </thead>\n",
       "  <tbody>\n",
       "    <tr>\n",
       "      <th>count</th>\n",
       "      <td>224.000000</td>\n",
       "      <td>224.000000</td>\n",
       "      <td>224.000000</td>\n",
       "      <td>224.000000</td>\n",
       "      <td>224.000000</td>\n",
       "      <td>224.000000</td>\n",
       "      <td>224.000000</td>\n",
       "      <td>222.000000</td>\n",
       "      <td>224.000000</td>\n",
       "      <td>224.000000</td>\n",
       "      <td>2.240000e+02</td>\n",
       "      <td>224.000000</td>\n",
       "      <td>224.000000</td>\n",
       "      <td>2.240000e+02</td>\n",
       "      <td>2.240000e+02</td>\n",
       "      <td>224.000000</td>\n",
       "    </tr>\n",
       "    <tr>\n",
       "      <th>mean</th>\n",
       "      <td>126.750000</td>\n",
       "      <td>353.924107</td>\n",
       "      <td>34.839286</td>\n",
       "      <td>2008.919643</td>\n",
       "      <td>217.620536</td>\n",
       "      <td>1608.084821</td>\n",
       "      <td>4.441406</td>\n",
       "      <td>11.445312</td>\n",
       "      <td>34.093750</td>\n",
       "      <td>200.678571</td>\n",
       "      <td>4.971645e+04</td>\n",
       "      <td>inf</td>\n",
       "      <td>1390.464286</td>\n",
       "      <td>2.595000e+02</td>\n",
       "      <td>9.013573e+05</td>\n",
       "      <td>3.083984</td>\n",
       "    </tr>\n",
       "    <tr>\n",
       "      <th>std</th>\n",
       "      <td>948.732371</td>\n",
       "      <td>2736.321694</td>\n",
       "      <td>268.668317</td>\n",
       "      <td>15387.274015</td>\n",
       "      <td>3058.766918</td>\n",
       "      <td>15628.834115</td>\n",
       "      <td>1.789062</td>\n",
       "      <td>3.335938</td>\n",
       "      <td>15.117188</td>\n",
       "      <td>94.437225</td>\n",
       "      <td>3.810302e+05</td>\n",
       "      <td>NaN</td>\n",
       "      <td>12647.246927</td>\n",
       "      <td>inf</td>\n",
       "      <td>6.967916e+06</td>\n",
       "      <td>1.669922</td>\n",
       "    </tr>\n",
       "    <tr>\n",
       "      <th>min</th>\n",
       "      <td>0.000000</td>\n",
       "      <td>0.000000</td>\n",
       "      <td>0.000000</td>\n",
       "      <td>1.000000</td>\n",
       "      <td>0.000000</td>\n",
       "      <td>0.000000</td>\n",
       "      <td>0.000000</td>\n",
       "      <td>5.437500</td>\n",
       "      <td>5.230469</td>\n",
       "      <td>25.000000</td>\n",
       "      <td>6.000000e+01</td>\n",
       "      <td>1.068359</td>\n",
       "      <td>-21.000000</td>\n",
       "      <td>0.000000e+00</td>\n",
       "      <td>3.650000e+02</td>\n",
       "      <td>0.489990</td>\n",
       "    </tr>\n",
       "    <tr>\n",
       "      <th>25%</th>\n",
       "      <td>18.000000</td>\n",
       "      <td>19.000000</td>\n",
       "      <td>1.000000</td>\n",
       "      <td>163.500000</td>\n",
       "      <td>2.000000</td>\n",
       "      <td>27.000000</td>\n",
       "      <td>3.221191</td>\n",
       "      <td>9.375000</td>\n",
       "      <td>23.601562</td>\n",
       "      <td>144.750000</td>\n",
       "      <td>3.940000e+03</td>\n",
       "      <td>177.062500</td>\n",
       "      <td>19.750000</td>\n",
       "      <td>1.221094e+01</td>\n",
       "      <td>9.947100e+04</td>\n",
       "      <td>1.924805</td>\n",
       "    </tr>\n",
       "    <tr>\n",
       "      <th>50%</th>\n",
       "      <td>37.000000</td>\n",
       "      <td>46.500000</td>\n",
       "      <td>4.000000</td>\n",
       "      <td>342.500000</td>\n",
       "      <td>7.000000</td>\n",
       "      <td>70.000000</td>\n",
       "      <td>4.335938</td>\n",
       "      <td>11.171875</td>\n",
       "      <td>35.109375</td>\n",
       "      <td>189.000000</td>\n",
       "      <td>8.347500e+03</td>\n",
       "      <td>397.875000</td>\n",
       "      <td>62.500000</td>\n",
       "      <td>3.259375e+01</td>\n",
       "      <td>1.541925e+05</td>\n",
       "      <td>2.895508</td>\n",
       "    </tr>\n",
       "    <tr>\n",
       "      <th>75%</th>\n",
       "      <td>66.250000</td>\n",
       "      <td>114.250000</td>\n",
       "      <td>11.000000</td>\n",
       "      <td>716.000000</td>\n",
       "      <td>14.000000</td>\n",
       "      <td>245.500000</td>\n",
       "      <td>5.373047</td>\n",
       "      <td>12.906250</td>\n",
       "      <td>43.460938</td>\n",
       "      <td>241.250000</td>\n",
       "      <td>1.836875e+04</td>\n",
       "      <td>1146.000000</td>\n",
       "      <td>230.500000</td>\n",
       "      <td>9.682812e+01</td>\n",
       "      <td>2.894885e+05</td>\n",
       "      <td>3.975586</td>\n",
       "    </tr>\n",
       "    <tr>\n",
       "      <th>max</th>\n",
       "      <td>14197.000000</td>\n",
       "      <td>39640.000000</td>\n",
       "      <td>3902.000000</td>\n",
       "      <td>225021.000000</td>\n",
       "      <td>45790.000000</td>\n",
       "      <td>229241.000000</td>\n",
       "      <td>10.390625</td>\n",
       "      <td>37.781250</td>\n",
       "      <td>76.625000</td>\n",
       "      <td>621.000000</td>\n",
       "      <td>5.568487e+06</td>\n",
       "      <td>inf</td>\n",
       "      <td>183451.000000</td>\n",
       "      <td>2.907200e+04</td>\n",
       "      <td>1.009541e+08</td>\n",
       "      <td>11.507812</td>\n",
       "    </tr>\n",
       "  </tbody>\n",
       "</table>\n",
       "</div>"
      ],
      "text/plain": [
       "       comment_count   share_count  dislike_count     like_count  \\\n",
       "count     224.000000    224.000000     224.000000     224.000000   \n",
       "mean      126.750000    353.924107      34.839286    2008.919643   \n",
       "std       948.732371   2736.321694     268.668317   15387.274015   \n",
       "min         0.000000      0.000000       0.000000       1.000000   \n",
       "25%        18.000000     19.000000       1.000000     163.500000   \n",
       "50%        37.000000     46.500000       4.000000     342.500000   \n",
       "75%        66.250000    114.250000      11.000000     716.000000   \n",
       "max     14197.000000  39640.000000    3902.000000  225021.000000   \n",
       "\n",
       "       subscribers_lost  subscribers_gained         rpm         cpm  \\\n",
       "count        224.000000          224.000000  224.000000  222.000000   \n",
       "mean         217.620536         1608.084821    4.441406   11.445312   \n",
       "std         3058.766918        15628.834115    1.789062    3.335938   \n",
       "min            0.000000            0.000000    0.000000    5.437500   \n",
       "25%            2.000000           27.000000    3.221191    9.375000   \n",
       "50%            7.000000           70.000000    4.335938   11.171875   \n",
       "75%           14.000000          245.500000    5.373047   12.906250   \n",
       "max        45790.000000       229241.000000   10.390625   37.781250   \n",
       "\n",
       "       average_view_ratio  average_watch_time    view_count  total_watch_time  \\\n",
       "count          224.000000          224.000000  2.240000e+02        224.000000   \n",
       "mean            34.093750          200.678571  4.971645e+04               inf   \n",
       "std             15.117188           94.437225  3.810302e+05               NaN   \n",
       "min              5.230469           25.000000  6.000000e+01          1.068359   \n",
       "25%             23.601562          144.750000  3.940000e+03        177.062500   \n",
       "50%             35.109375          189.000000  8.347500e+03        397.875000   \n",
       "75%             43.460938          241.250000  1.836875e+04       1146.000000   \n",
       "max             76.625000          621.000000  5.568487e+06               inf   \n",
       "\n",
       "       net_subscribers  estimated_revenue  impression_count  \\\n",
       "count       224.000000       2.240000e+02      2.240000e+02   \n",
       "mean       1390.464286       2.595000e+02      9.013573e+05   \n",
       "std       12647.246927                inf      6.967916e+06   \n",
       "min         -21.000000       0.000000e+00      3.650000e+02   \n",
       "25%          19.750000       1.221094e+01      9.947100e+04   \n",
       "50%          62.500000       3.259375e+01      1.541925e+05   \n",
       "75%         230.500000       9.682812e+01      2.894885e+05   \n",
       "max      183451.000000       2.907200e+04      1.009541e+08   \n",
       "\n",
       "       click_through_rate  \n",
       "count          224.000000  \n",
       "mean             3.083984  \n",
       "std              1.669922  \n",
       "min              0.489990  \n",
       "25%              1.924805  \n",
       "50%              2.895508  \n",
       "75%              3.975586  \n",
       "max             11.507812  "
      ]
     },
     "execution_count": 58,
     "metadata": {},
     "output_type": "execute_result"
    }
   ],
   "source": [
    "\n",
    "mean_ctr = data2_agg_video[\"click_through_rate\"].mean()\n",
    "# mean ctr: 3.08\n",
    "# mean views: 49716\n",
    "data2_agg_video.describe()"
   ]
  },
  {
   "cell_type": "markdown",
   "metadata": {},
   "source": [
    "# Questions"
   ]
  },
  {
   "cell_type": "markdown",
   "metadata": {},
   "source": [
    "## Q1: What types of video titles and thumbnails drive the most traffic?"
   ]
  },
  {
   "cell_type": "markdown",
   "metadata": {},
   "source": [
    "### Analysis"
   ]
  },
  {
   "cell_type": "markdown",
   "metadata": {},
   "source": [
    "Both depends on CTR, so we have to get the top videos with top CTR"
   ]
  },
  {
   "cell_type": "code",
   "execution_count": 109,
   "metadata": {},
   "outputs": [
    {
     "name": "stdout",
     "output_type": "stream",
     "text": [
      "30\n"
     ]
    }
   ],
   "source": [
    "\"\"\"\n",
    "naive assumptions:\n",
    "- everything above to the mean click_through_rate (+std) is good traffic\n",
    "- 1000 are enought data to take decision, use percentiles for more precision\n",
    "- sort by impressions is irrelevant if we use CTR\n",
    "\"\"\"\n",
    "mask1 = (data2_agg_video[\"view_count\"] > 1000) & (data2_agg_video[\"click_through_rate\"] > (mean_ctr + data2_agg_video[\"click_through_rate\"].std()))\n",
    "mask2 = (data2_agg_video[\"view_count\"] > 1000)\n",
    "\n",
    "q1_ctr_best = data2_agg_video[mask1].sort_values([\"click_through_rate\",\"view_count\"], axis=0, ascending=[False,False])\n",
    "len_q1_ctr_best = len(q1_ctr_best)\n",
    "q1_ctr_worst = data2_agg_video[mask2].sort_values([\"click_through_rate\",\"view_count\"], axis=0, ascending=[False,False]).tail(len_q1_ctr_best)\n",
    "\n",
    "print(len_q1_ctr_best)\n"
   ]
  },
  {
   "cell_type": "code",
   "execution_count": 111,
   "metadata": {},
   "outputs": [
    {
     "data": {
      "text/html": [
       "<div>\n",
       "<style scoped>\n",
       "    .dataframe tbody tr th:only-of-type {\n",
       "        vertical-align: middle;\n",
       "    }\n",
       "\n",
       "    .dataframe tbody tr th {\n",
       "        vertical-align: top;\n",
       "    }\n",
       "\n",
       "    .dataframe thead th {\n",
       "        text-align: right;\n",
       "    }\n",
       "</style>\n",
       "<table border=\"1\" class=\"dataframe\">\n",
       "  <thead>\n",
       "    <tr style=\"text-align: right;\">\n",
       "      <th></th>\n",
       "      <th>video_id</th>\n",
       "      <th>title</th>\n",
       "      <th>date</th>\n",
       "      <th>comment_count</th>\n",
       "      <th>share_count</th>\n",
       "      <th>dislike_count</th>\n",
       "      <th>like_count</th>\n",
       "      <th>subscribers_lost</th>\n",
       "      <th>subscribers_gained</th>\n",
       "      <th>rpm</th>\n",
       "      <th>cpm</th>\n",
       "      <th>average_view_ratio</th>\n",
       "      <th>average_watch_time</th>\n",
       "      <th>view_count</th>\n",
       "      <th>total_watch_time</th>\n",
       "      <th>net_subscribers</th>\n",
       "      <th>estimated_revenue</th>\n",
       "      <th>impression_count</th>\n",
       "      <th>click_through_rate</th>\n",
       "    </tr>\n",
       "  </thead>\n",
       "  <tbody>\n",
       "    <tr>\n",
       "      <th>20</th>\n",
       "      <td>SVtRsDhHlDk</td>\n",
       "      <td>Why I Quit Data Science</td>\n",
       "      <td>2021-02-12</td>\n",
       "      <td>165</td>\n",
       "      <td>197</td>\n",
       "      <td>159</td>\n",
       "      <td>2274</td>\n",
       "      <td>85</td>\n",
       "      <td>832</td>\n",
       "      <td>4.042969</td>\n",
       "      <td>9.851562</td>\n",
       "      <td>41.00000</td>\n",
       "      <td>136</td>\n",
       "      <td>98777</td>\n",
       "      <td>3756.0</td>\n",
       "      <td>747</td>\n",
       "      <td>399.25</td>\n",
       "      <td>659163</td>\n",
       "      <td>8.617188</td>\n",
       "    </tr>\n",
       "    <tr>\n",
       "      <th>75</th>\n",
       "      <td>RRSRKf9eQxc</td>\n",
       "      <td>Should You Get A Masters in Data Science?</td>\n",
       "      <td>2018-11-14</td>\n",
       "      <td>56</td>\n",
       "      <td>41</td>\n",
       "      <td>10</td>\n",
       "      <td>276</td>\n",
       "      <td>2</td>\n",
       "      <td>81</td>\n",
       "      <td>7.398438</td>\n",
       "      <td>15.203125</td>\n",
       "      <td>45.21875</td>\n",
       "      <td>152</td>\n",
       "      <td>18488</td>\n",
       "      <td>782.5</td>\n",
       "      <td>79</td>\n",
       "      <td>136.75</td>\n",
       "      <td>173610</td>\n",
       "      <td>8.398438</td>\n",
       "    </tr>\n",
       "  </tbody>\n",
       "</table>\n",
       "</div>"
      ],
      "text/plain": [
       "       video_id                                      title       date  \\\n",
       "20  SVtRsDhHlDk                    Why I Quit Data Science 2021-02-12   \n",
       "75  RRSRKf9eQxc  Should You Get A Masters in Data Science? 2018-11-14   \n",
       "\n",
       "    comment_count  share_count  dislike_count  like_count  subscribers_lost  \\\n",
       "20            165          197            159        2274                85   \n",
       "75             56           41             10         276                 2   \n",
       "\n",
       "    subscribers_gained       rpm        cpm  average_view_ratio  \\\n",
       "20                 832  4.042969   9.851562            41.00000   \n",
       "75                  81  7.398438  15.203125            45.21875   \n",
       "\n",
       "    average_watch_time  view_count  total_watch_time  net_subscribers  \\\n",
       "20                 136       98777            3756.0              747   \n",
       "75                 152       18488             782.5               79   \n",
       "\n",
       "    estimated_revenue  impression_count  click_through_rate  \n",
       "20             399.25            659163            8.617188  \n",
       "75             136.75            173610            8.398438  "
      ]
     },
     "execution_count": 111,
     "metadata": {},
     "output_type": "execute_result"
    },
    {
     "data": {
      "image/png": "[encoded data removed]",
      "text/plain": [
       "<Figure size 432x288 with 1 Axes>"
      ]
     },
     "metadata": {
      "needs_background": "light"
     },
     "output_type": "display_data"
    }
   ],
   "source": [
    "sns.histplot(q1_ctr_best['click_through_rate'], kde=True, linewidth=0)\n",
    "q1_ctr_best.head(2)"
   ]
  },
  {
   "cell_type": "code",
   "execution_count": 112,
   "metadata": {},
   "outputs": [
    {
     "data": {
      "text/html": [
       "<div>\n",
       "<style scoped>\n",
       "    .dataframe tbody tr th:only-of-type {\n",
       "        vertical-align: middle;\n",
       "    }\n",
       "\n",
       "    .dataframe tbody tr th {\n",
       "        vertical-align: top;\n",
       "    }\n",
       "\n",
       "    .dataframe thead th {\n",
       "        text-align: right;\n",
       "    }\n",
       "</style>\n",
       "<table border=\"1\" class=\"dataframe\">\n",
       "  <thead>\n",
       "    <tr style=\"text-align: right;\">\n",
       "      <th></th>\n",
       "      <th>video_id</th>\n",
       "      <th>title</th>\n",
       "      <th>date</th>\n",
       "      <th>comment_count</th>\n",
       "      <th>share_count</th>\n",
       "      <th>dislike_count</th>\n",
       "      <th>like_count</th>\n",
       "      <th>subscribers_lost</th>\n",
       "      <th>subscribers_gained</th>\n",
       "      <th>rpm</th>\n",
       "      <th>cpm</th>\n",
       "      <th>average_view_ratio</th>\n",
       "      <th>average_watch_time</th>\n",
       "      <th>view_count</th>\n",
       "      <th>total_watch_time</th>\n",
       "      <th>net_subscribers</th>\n",
       "      <th>estimated_revenue</th>\n",
       "      <th>impression_count</th>\n",
       "      <th>click_through_rate</th>\n",
       "    </tr>\n",
       "  </thead>\n",
       "  <tbody>\n",
       "    <tr>\n",
       "      <th>167</th>\n",
       "      <td>9D7GzskcyUk</td>\n",
       "      <td>5 Tips for Crushing the Work From Home Life</td>\n",
       "      <td>2020-04-20</td>\n",
       "      <td>18</td>\n",
       "      <td>32</td>\n",
       "      <td>14</td>\n",
       "      <td>200</td>\n",
       "      <td>2</td>\n",
       "      <td>50</td>\n",
       "      <td>9.476562</td>\n",
       "      <td>17.421875</td>\n",
       "      <td>34.968750</td>\n",
       "      <td>119</td>\n",
       "      <td>4934</td>\n",
       "      <td>164.5000</td>\n",
       "      <td>48</td>\n",
       "      <td>46.75</td>\n",
       "      <td>580788</td>\n",
       "      <td>0.509766</td>\n",
       "    </tr>\n",
       "    <tr>\n",
       "      <th>70</th>\n",
       "      <td>UcilY6HDuL8</td>\n",
       "      <td>10000 Subscriber and 100th Video Special (Data...</td>\n",
       "      <td>2020-05-13</td>\n",
       "      <td>58</td>\n",
       "      <td>12</td>\n",
       "      <td>4</td>\n",
       "      <td>149</td>\n",
       "      <td>2</td>\n",
       "      <td>53</td>\n",
       "      <td>0.000000</td>\n",
       "      <td>NaN</td>\n",
       "      <td>24.015625</td>\n",
       "      <td>41</td>\n",
       "      <td>3064</td>\n",
       "      <td>35.0625</td>\n",
       "      <td>51</td>\n",
       "      <td>0.00</td>\n",
       "      <td>400077</td>\n",
       "      <td>0.489990</td>\n",
       "    </tr>\n",
       "  </tbody>\n",
       "</table>\n",
       "</div>"
      ],
      "text/plain": [
       "        video_id                                              title  \\\n",
       "167  9D7GzskcyUk        5 Tips for Crushing the Work From Home Life   \n",
       "70   UcilY6HDuL8  10000 Subscriber and 100th Video Special (Data...   \n",
       "\n",
       "          date  comment_count  share_count  dislike_count  like_count  \\\n",
       "167 2020-04-20             18           32             14         200   \n",
       "70  2020-05-13             58           12              4         149   \n",
       "\n",
       "     subscribers_lost  subscribers_gained       rpm        cpm  \\\n",
       "167                 2                  50  9.476562  17.421875   \n",
       "70                  2                  53  0.000000        NaN   \n",
       "\n",
       "     average_view_ratio  average_watch_time  view_count  total_watch_time  \\\n",
       "167           34.968750                 119        4934          164.5000   \n",
       "70            24.015625                  41        3064           35.0625   \n",
       "\n",
       "     net_subscribers  estimated_revenue  impression_count  click_through_rate  \n",
       "167               48              46.75            580788            0.509766  \n",
       "70                51               0.00            400077            0.489990  "
      ]
     },
     "execution_count": 112,
     "metadata": {},
     "output_type": "execute_result"
    },
    {
     "data": {
      "image/png": "[encoded data removed]",
      "text/plain": [
       "<Figure size 432x288 with 1 Axes>"
      ]
     },
     "metadata": {
      "needs_background": "light"
     },
     "output_type": "display_data"
    }
   ],
   "source": [
    "sns.histplot(q1_ctr_worst['click_through_rate'], kde=True, linewidth=0)\n",
    "q1_ctr_worst.tail(2)"
   ]
  },
  {
   "cell_type": "code",
   "execution_count": 137,
   "metadata": {},
   "outputs": [],
   "source": [
    "def parse_q1(df):\n",
    "    q1_video_id = df[\"video_id\"].values\n",
    "    q1_titles = df[\"title\"].values\n",
    "    q1_thumbnails = []\n",
    "    for i in range(len(q1_video_id)):\n",
    "        thumbnail = data1_agg_country_suscriber[data1_agg_country_suscriber[\"video_id\"] == q1_video_id[i]].iloc[0][\"thumbnail\"]\n",
    "        q1_thumbnails.append(thumbnail)\n",
    "    q1_thumbnails = np.array(q1_thumbnails)\n",
    "\n",
    "    return q1_video_id, q1_titles, q1_thumbnails\n",
    "\n",
    "def request_url_image(url):\n",
    "    # Adding information about user agent\n",
    "    opener=urllib.request.build_opener()\n",
    "    opener.addheaders=[('User-Agent','Mozilla/5.0 (Windows NT 6.1; WOW64) AppleWebKit/537.36 (KHTML, like Gecko) Chrome/36.0.1941.0 Safari/537.36')]\n",
    "    urllib.request.install_opener(opener)    \n",
    "    # calling urlretrieve function to get resource\n",
    "    img = Image.open(BytesIO(urllib.request.urlopen(url).read()))\n",
    "\n",
    "    return img"
   ]
  },
  {
   "cell_type": "code",
   "execution_count": 138,
   "metadata": {},
   "outputs": [
    {
     "data": {
      "application/vnd.jupyter.widget-view+json": {
       "model_id": "531f9d8a3bf54e55933a4cba1fadefaa",
       "version_major": 2,
       "version_minor": 0
      },
      "text/plain": [
       "HBox(children=(HTML(value=''), FloatProgress(value=0.0, max=30.0), HTML(value='')))"
      ]
     },
     "metadata": {},
     "output_type": "display_data"
    },
    {
     "name": "stdout",
     "output_type": "stream",
     "text": [
      "\n"
     ]
    },
    {
     "ename": "KeyboardInterrupt",
     "evalue": "",
     "output_type": "error",
     "traceback": [
      "\u001b[0;31m---------------------------------------------------------------------------\u001b[0m",
      "\u001b[0;31mKeyboardInterrupt\u001b[0m                         Traceback (most recent call last)",
      "\u001b[0;32m/tmp/ipykernel_131005/3330976791.py\u001b[0m in \u001b[0;36m<module>\u001b[0;34m\u001b[0m\n\u001b[1;32m      3\u001b[0m \u001b[0mq1_thumbnails_as_img_b\u001b[0m \u001b[0;34m=\u001b[0m \u001b[0;34m[\u001b[0m\u001b[0;34m]\u001b[0m\u001b[0;34m\u001b[0m\u001b[0;34m\u001b[0m\u001b[0m\n\u001b[1;32m      4\u001b[0m \u001b[0;32mfor\u001b[0m \u001b[0mi\u001b[0m \u001b[0;32min\u001b[0m \u001b[0mtqdm\u001b[0m\u001b[0;34m(\u001b[0m\u001b[0mrange\u001b[0m\u001b[0;34m(\u001b[0m\u001b[0mlen\u001b[0m\u001b[0;34m(\u001b[0m\u001b[0mq1_thumbnails_b\u001b[0m\u001b[0;34m)\u001b[0m\u001b[0;34m)\u001b[0m\u001b[0;34m)\u001b[0m\u001b[0;34m:\u001b[0m\u001b[0;34m\u001b[0m\u001b[0;34m\u001b[0m\u001b[0m\n\u001b[0;32m----> 5\u001b[0;31m     \u001b[0mq1_thumbnails_as_img_b\u001b[0m\u001b[0;34m.\u001b[0m\u001b[0mappend\u001b[0m\u001b[0;34m(\u001b[0m\u001b[0mrequest_url_image\u001b[0m\u001b[0;34m(\u001b[0m\u001b[0mq1_thumbnails_b\u001b[0m\u001b[0;34m[\u001b[0m\u001b[0mi\u001b[0m\u001b[0;34m]\u001b[0m\u001b[0;34m)\u001b[0m\u001b[0;34m)\u001b[0m\u001b[0;34m\u001b[0m\u001b[0;34m\u001b[0m\u001b[0m\n\u001b[0m\u001b[1;32m      6\u001b[0m     \u001b[0mtime\u001b[0m\u001b[0;34m.\u001b[0m\u001b[0msleep\u001b[0m\u001b[0;34m(\u001b[0m\u001b[0;36m1\u001b[0m\u001b[0;34m)\u001b[0m\u001b[0;34m\u001b[0m\u001b[0;34m\u001b[0m\u001b[0m\n",
      "\u001b[0;32m/tmp/ipykernel_131005/211478856.py\u001b[0m in \u001b[0;36mrequest_url_image\u001b[0;34m(url)\u001b[0m\n\u001b[1;32m     18\u001b[0m \u001b[0;34m\u001b[0m\u001b[0m\n\u001b[1;32m     19\u001b[0m     \u001b[0;31m# calling urlretrieve function to get resource\u001b[0m\u001b[0;34m\u001b[0m\u001b[0;34m\u001b[0m\u001b[0;34m\u001b[0m\u001b[0m\n\u001b[0;32m---> 20\u001b[0;31m     \u001b[0mimg\u001b[0m \u001b[0;34m=\u001b[0m \u001b[0mImage\u001b[0m\u001b[0;34m.\u001b[0m\u001b[0mopen\u001b[0m\u001b[0;34m(\u001b[0m\u001b[0mBytesIO\u001b[0m\u001b[0;34m(\u001b[0m\u001b[0murllib\u001b[0m\u001b[0;34m.\u001b[0m\u001b[0mrequest\u001b[0m\u001b[0;34m.\u001b[0m\u001b[0murlopen\u001b[0m\u001b[0;34m(\u001b[0m\u001b[0murl\u001b[0m\u001b[0;34m)\u001b[0m\u001b[0;34m.\u001b[0m\u001b[0mread\u001b[0m\u001b[0;34m(\u001b[0m\u001b[0;34m)\u001b[0m\u001b[0;34m)\u001b[0m\u001b[0;34m)\u001b[0m\u001b[0;34m\u001b[0m\u001b[0;34m\u001b[0m\u001b[0m\n\u001b[0m\u001b[1;32m     21\u001b[0m \u001b[0;34m\u001b[0m\u001b[0m\n\u001b[1;32m     22\u001b[0m     \u001b[0;32mreturn\u001b[0m \u001b[0mimg\u001b[0m\u001b[0;34m\u001b[0m\u001b[0;34m\u001b[0m\u001b[0m\n",
      "\u001b[0;32m~/anaconda3/lib/python3.8/urllib/request.py\u001b[0m in \u001b[0;36murlopen\u001b[0;34m(url, data, timeout, cafile, capath, cadefault, context)\u001b[0m\n\u001b[1;32m    220\u001b[0m     \u001b[0;32melse\u001b[0m\u001b[0;34m:\u001b[0m\u001b[0;34m\u001b[0m\u001b[0;34m\u001b[0m\u001b[0m\n\u001b[1;32m    221\u001b[0m         \u001b[0mopener\u001b[0m \u001b[0;34m=\u001b[0m \u001b[0m_opener\u001b[0m\u001b[0;34m\u001b[0m\u001b[0;34m\u001b[0m\u001b[0m\n\u001b[0;32m--> 222\u001b[0;31m     \u001b[0;32mreturn\u001b[0m \u001b[0mopener\u001b[0m\u001b[0;34m.\u001b[0m\u001b[0mopen\u001b[0m\u001b[0;34m(\u001b[0m\u001b[0murl\u001b[0m\u001b[0;34m,\u001b[0m \u001b[0mdata\u001b[0m\u001b[0;34m,\u001b[0m \u001b[0mtimeout\u001b[0m\u001b[0;34m)\u001b[0m\u001b[0;34m\u001b[0m\u001b[0;34m\u001b[0m\u001b[0m\n\u001b[0m\u001b[1;32m    223\u001b[0m \u001b[0;34m\u001b[0m\u001b[0m\n\u001b[1;32m    224\u001b[0m \u001b[0;32mdef\u001b[0m \u001b[0minstall_opener\u001b[0m\u001b[0;34m(\u001b[0m\u001b[0mopener\u001b[0m\u001b[0;34m)\u001b[0m\u001b[0;34m:\u001b[0m\u001b[0;34m\u001b[0m\u001b[0;34m\u001b[0m\u001b[0m\n",
      "\u001b[0;32m~/anaconda3/lib/python3.8/urllib/request.py\u001b[0m in \u001b[0;36mopen\u001b[0;34m(self, fullurl, data, timeout)\u001b[0m\n\u001b[1;32m    523\u001b[0m \u001b[0;34m\u001b[0m\u001b[0m\n\u001b[1;32m    524\u001b[0m         \u001b[0msys\u001b[0m\u001b[0;34m.\u001b[0m\u001b[0maudit\u001b[0m\u001b[0;34m(\u001b[0m\u001b[0;34m'urllib.Request'\u001b[0m\u001b[0;34m,\u001b[0m \u001b[0mreq\u001b[0m\u001b[0;34m.\u001b[0m\u001b[0mfull_url\u001b[0m\u001b[0;34m,\u001b[0m \u001b[0mreq\u001b[0m\u001b[0;34m.\u001b[0m\u001b[0mdata\u001b[0m\u001b[0;34m,\u001b[0m \u001b[0mreq\u001b[0m\u001b[0;34m.\u001b[0m\u001b[0mheaders\u001b[0m\u001b[0;34m,\u001b[0m \u001b[0mreq\u001b[0m\u001b[0;34m.\u001b[0m\u001b[0mget_method\u001b[0m\u001b[0;34m(\u001b[0m\u001b[0;34m)\u001b[0m\u001b[0;34m)\u001b[0m\u001b[0;34m\u001b[0m\u001b[0;34m\u001b[0m\u001b[0m\n\u001b[0;32m--> 525\u001b[0;31m         \u001b[0mresponse\u001b[0m \u001b[0;34m=\u001b[0m \u001b[0mself\u001b[0m\u001b[0;34m.\u001b[0m\u001b[0m_open\u001b[0m\u001b[0;34m(\u001b[0m\u001b[0mreq\u001b[0m\u001b[0;34m,\u001b[0m \u001b[0mdata\u001b[0m\u001b[0;34m)\u001b[0m\u001b[0;34m\u001b[0m\u001b[0;34m\u001b[0m\u001b[0m\n\u001b[0m\u001b[1;32m    526\u001b[0m \u001b[0;34m\u001b[0m\u001b[0m\n\u001b[1;32m    527\u001b[0m         \u001b[0;31m# post-process response\u001b[0m\u001b[0;34m\u001b[0m\u001b[0;34m\u001b[0m\u001b[0;34m\u001b[0m\u001b[0m\n",
      "\u001b[0;32m~/anaconda3/lib/python3.8/urllib/request.py\u001b[0m in \u001b[0;36m_open\u001b[0;34m(self, req, data)\u001b[0m\n\u001b[1;32m    540\u001b[0m \u001b[0;34m\u001b[0m\u001b[0m\n\u001b[1;32m    541\u001b[0m         \u001b[0mprotocol\u001b[0m \u001b[0;34m=\u001b[0m \u001b[0mreq\u001b[0m\u001b[0;34m.\u001b[0m\u001b[0mtype\u001b[0m\u001b[0;34m\u001b[0m\u001b[0;34m\u001b[0m\u001b[0m\n\u001b[0;32m--> 542\u001b[0;31m         result = self._call_chain(self.handle_open, protocol, protocol +\n\u001b[0m\u001b[1;32m    543\u001b[0m                                   '_open', req)\n\u001b[1;32m    544\u001b[0m         \u001b[0;32mif\u001b[0m \u001b[0mresult\u001b[0m\u001b[0;34m:\u001b[0m\u001b[0;34m\u001b[0m\u001b[0;34m\u001b[0m\u001b[0m\n",
      "\u001b[0;32m~/anaconda3/lib/python3.8/urllib/request.py\u001b[0m in \u001b[0;36m_call_chain\u001b[0;34m(self, chain, kind, meth_name, *args)\u001b[0m\n\u001b[1;32m    500\u001b[0m         \u001b[0;32mfor\u001b[0m \u001b[0mhandler\u001b[0m \u001b[0;32min\u001b[0m \u001b[0mhandlers\u001b[0m\u001b[0;34m:\u001b[0m\u001b[0;34m\u001b[0m\u001b[0;34m\u001b[0m\u001b[0m\n\u001b[1;32m    501\u001b[0m             \u001b[0mfunc\u001b[0m \u001b[0;34m=\u001b[0m \u001b[0mgetattr\u001b[0m\u001b[0;34m(\u001b[0m\u001b[0mhandler\u001b[0m\u001b[0;34m,\u001b[0m \u001b[0mmeth_name\u001b[0m\u001b[0;34m)\u001b[0m\u001b[0;34m\u001b[0m\u001b[0;34m\u001b[0m\u001b[0m\n\u001b[0;32m--> 502\u001b[0;31m             \u001b[0mresult\u001b[0m \u001b[0;34m=\u001b[0m \u001b[0mfunc\u001b[0m\u001b[0;34m(\u001b[0m\u001b[0;34m*\u001b[0m\u001b[0margs\u001b[0m\u001b[0;34m)\u001b[0m\u001b[0;34m\u001b[0m\u001b[0;34m\u001b[0m\u001b[0m\n\u001b[0m\u001b[1;32m    503\u001b[0m             \u001b[0;32mif\u001b[0m \u001b[0mresult\u001b[0m \u001b[0;32mis\u001b[0m \u001b[0;32mnot\u001b[0m \u001b[0;32mNone\u001b[0m\u001b[0;34m:\u001b[0m\u001b[0;34m\u001b[0m\u001b[0;34m\u001b[0m\u001b[0m\n\u001b[1;32m    504\u001b[0m                 \u001b[0;32mreturn\u001b[0m \u001b[0mresult\u001b[0m\u001b[0;34m\u001b[0m\u001b[0;34m\u001b[0m\u001b[0m\n",
      "\u001b[0;32m~/anaconda3/lib/python3.8/urllib/request.py\u001b[0m in \u001b[0;36mhttps_open\u001b[0;34m(self, req)\u001b[0m\n\u001b[1;32m   1391\u001b[0m \u001b[0;34m\u001b[0m\u001b[0m\n\u001b[1;32m   1392\u001b[0m         \u001b[0;32mdef\u001b[0m \u001b[0mhttps_open\u001b[0m\u001b[0;34m(\u001b[0m\u001b[0mself\u001b[0m\u001b[0;34m,\u001b[0m \u001b[0mreq\u001b[0m\u001b[0;34m)\u001b[0m\u001b[0;34m:\u001b[0m\u001b[0;34m\u001b[0m\u001b[0;34m\u001b[0m\u001b[0m\n\u001b[0;32m-> 1393\u001b[0;31m             return self.do_open(http.client.HTTPSConnection, req,\n\u001b[0m\u001b[1;32m   1394\u001b[0m                 context=self._context, check_hostname=self._check_hostname)\n\u001b[1;32m   1395\u001b[0m \u001b[0;34m\u001b[0m\u001b[0m\n",
      "\u001b[0;32m~/anaconda3/lib/python3.8/urllib/request.py\u001b[0m in \u001b[0;36mdo_open\u001b[0;34m(self, http_class, req, **http_conn_args)\u001b[0m\n\u001b[1;32m   1348\u001b[0m         \u001b[0;32mtry\u001b[0m\u001b[0;34m:\u001b[0m\u001b[0;34m\u001b[0m\u001b[0;34m\u001b[0m\u001b[0m\n\u001b[1;32m   1349\u001b[0m             \u001b[0;32mtry\u001b[0m\u001b[0;34m:\u001b[0m\u001b[0;34m\u001b[0m\u001b[0;34m\u001b[0m\u001b[0m\n\u001b[0;32m-> 1350\u001b[0;31m                 h.request(req.get_method(), req.selector, req.data, headers,\n\u001b[0m\u001b[1;32m   1351\u001b[0m                           encode_chunked=req.has_header('Transfer-encoding'))\n\u001b[1;32m   1352\u001b[0m             \u001b[0;32mexcept\u001b[0m \u001b[0mOSError\u001b[0m \u001b[0;32mas\u001b[0m \u001b[0merr\u001b[0m\u001b[0;34m:\u001b[0m \u001b[0;31m# timeout error\u001b[0m\u001b[0;34m\u001b[0m\u001b[0;34m\u001b[0m\u001b[0m\n",
      "\u001b[0;32m~/anaconda3/lib/python3.8/http/client.py\u001b[0m in \u001b[0;36mrequest\u001b[0;34m(self, method, url, body, headers, encode_chunked)\u001b[0m\n\u001b[1;32m   1253\u001b[0m                 encode_chunked=False):\n\u001b[1;32m   1254\u001b[0m         \u001b[0;34m\"\"\"Send a complete request to the server.\"\"\"\u001b[0m\u001b[0;34m\u001b[0m\u001b[0;34m\u001b[0m\u001b[0m\n\u001b[0;32m-> 1255\u001b[0;31m         \u001b[0mself\u001b[0m\u001b[0;34m.\u001b[0m\u001b[0m_send_request\u001b[0m\u001b[0;34m(\u001b[0m\u001b[0mmethod\u001b[0m\u001b[0;34m,\u001b[0m \u001b[0murl\u001b[0m\u001b[0;34m,\u001b[0m \u001b[0mbody\u001b[0m\u001b[0;34m,\u001b[0m \u001b[0mheaders\u001b[0m\u001b[0;34m,\u001b[0m \u001b[0mencode_chunked\u001b[0m\u001b[0;34m)\u001b[0m\u001b[0;34m\u001b[0m\u001b[0;34m\u001b[0m\u001b[0m\n\u001b[0m\u001b[1;32m   1256\u001b[0m \u001b[0;34m\u001b[0m\u001b[0m\n\u001b[1;32m   1257\u001b[0m     \u001b[0;32mdef\u001b[0m \u001b[0m_send_request\u001b[0m\u001b[0;34m(\u001b[0m\u001b[0mself\u001b[0m\u001b[0;34m,\u001b[0m \u001b[0mmethod\u001b[0m\u001b[0;34m,\u001b[0m \u001b[0murl\u001b[0m\u001b[0;34m,\u001b[0m \u001b[0mbody\u001b[0m\u001b[0;34m,\u001b[0m \u001b[0mheaders\u001b[0m\u001b[0;34m,\u001b[0m \u001b[0mencode_chunked\u001b[0m\u001b[0;34m)\u001b[0m\u001b[0;34m:\u001b[0m\u001b[0;34m\u001b[0m\u001b[0;34m\u001b[0m\u001b[0m\n",
      "\u001b[0;32m~/anaconda3/lib/python3.8/http/client.py\u001b[0m in \u001b[0;36m_send_request\u001b[0;34m(self, method, url, body, headers, encode_chunked)\u001b[0m\n\u001b[1;32m   1299\u001b[0m             \u001b[0;31m# default charset of iso-8859-1.\u001b[0m\u001b[0;34m\u001b[0m\u001b[0;34m\u001b[0m\u001b[0;34m\u001b[0m\u001b[0m\n\u001b[1;32m   1300\u001b[0m             \u001b[0mbody\u001b[0m \u001b[0;34m=\u001b[0m \u001b[0m_encode\u001b[0m\u001b[0;34m(\u001b[0m\u001b[0mbody\u001b[0m\u001b[0;34m,\u001b[0m \u001b[0;34m'body'\u001b[0m\u001b[0;34m)\u001b[0m\u001b[0;34m\u001b[0m\u001b[0;34m\u001b[0m\u001b[0m\n\u001b[0;32m-> 1301\u001b[0;31m         \u001b[0mself\u001b[0m\u001b[0;34m.\u001b[0m\u001b[0mendheaders\u001b[0m\u001b[0;34m(\u001b[0m\u001b[0mbody\u001b[0m\u001b[0;34m,\u001b[0m \u001b[0mencode_chunked\u001b[0m\u001b[0;34m=\u001b[0m\u001b[0mencode_chunked\u001b[0m\u001b[0;34m)\u001b[0m\u001b[0;34m\u001b[0m\u001b[0;34m\u001b[0m\u001b[0m\n\u001b[0m\u001b[1;32m   1302\u001b[0m \u001b[0;34m\u001b[0m\u001b[0m\n\u001b[1;32m   1303\u001b[0m     \u001b[0;32mdef\u001b[0m \u001b[0mgetresponse\u001b[0m\u001b[0;34m(\u001b[0m\u001b[0mself\u001b[0m\u001b[0;34m)\u001b[0m\u001b[0;34m:\u001b[0m\u001b[0;34m\u001b[0m\u001b[0;34m\u001b[0m\u001b[0m\n",
      "\u001b[0;32m~/anaconda3/lib/python3.8/http/client.py\u001b[0m in \u001b[0;36mendheaders\u001b[0;34m(self, message_body, encode_chunked)\u001b[0m\n\u001b[1;32m   1248\u001b[0m         \u001b[0;32melse\u001b[0m\u001b[0;34m:\u001b[0m\u001b[0;34m\u001b[0m\u001b[0;34m\u001b[0m\u001b[0m\n\u001b[1;32m   1249\u001b[0m             \u001b[0;32mraise\u001b[0m \u001b[0mCannotSendHeader\u001b[0m\u001b[0;34m(\u001b[0m\u001b[0;34m)\u001b[0m\u001b[0;34m\u001b[0m\u001b[0;34m\u001b[0m\u001b[0m\n\u001b[0;32m-> 1250\u001b[0;31m         \u001b[0mself\u001b[0m\u001b[0;34m.\u001b[0m\u001b[0m_send_output\u001b[0m\u001b[0;34m(\u001b[0m\u001b[0mmessage_body\u001b[0m\u001b[0;34m,\u001b[0m \u001b[0mencode_chunked\u001b[0m\u001b[0;34m=\u001b[0m\u001b[0mencode_chunked\u001b[0m\u001b[0;34m)\u001b[0m\u001b[0;34m\u001b[0m\u001b[0;34m\u001b[0m\u001b[0m\n\u001b[0m\u001b[1;32m   1251\u001b[0m \u001b[0;34m\u001b[0m\u001b[0m\n\u001b[1;32m   1252\u001b[0m     def request(self, method, url, body=None, headers={}, *,\n",
      "\u001b[0;32m~/anaconda3/lib/python3.8/http/client.py\u001b[0m in \u001b[0;36m_send_output\u001b[0;34m(self, message_body, encode_chunked)\u001b[0m\n\u001b[1;32m   1008\u001b[0m         \u001b[0mmsg\u001b[0m \u001b[0;34m=\u001b[0m \u001b[0;34mb\"\\r\\n\"\u001b[0m\u001b[0;34m.\u001b[0m\u001b[0mjoin\u001b[0m\u001b[0;34m(\u001b[0m\u001b[0mself\u001b[0m\u001b[0;34m.\u001b[0m\u001b[0m_buffer\u001b[0m\u001b[0;34m)\u001b[0m\u001b[0;34m\u001b[0m\u001b[0;34m\u001b[0m\u001b[0m\n\u001b[1;32m   1009\u001b[0m         \u001b[0;32mdel\u001b[0m \u001b[0mself\u001b[0m\u001b[0;34m.\u001b[0m\u001b[0m_buffer\u001b[0m\u001b[0;34m[\u001b[0m\u001b[0;34m:\u001b[0m\u001b[0;34m]\u001b[0m\u001b[0;34m\u001b[0m\u001b[0;34m\u001b[0m\u001b[0m\n\u001b[0;32m-> 1010\u001b[0;31m         \u001b[0mself\u001b[0m\u001b[0;34m.\u001b[0m\u001b[0msend\u001b[0m\u001b[0;34m(\u001b[0m\u001b[0mmsg\u001b[0m\u001b[0;34m)\u001b[0m\u001b[0;34m\u001b[0m\u001b[0;34m\u001b[0m\u001b[0m\n\u001b[0m\u001b[1;32m   1011\u001b[0m \u001b[0;34m\u001b[0m\u001b[0m\n\u001b[1;32m   1012\u001b[0m         \u001b[0;32mif\u001b[0m \u001b[0mmessage_body\u001b[0m \u001b[0;32mis\u001b[0m \u001b[0;32mnot\u001b[0m \u001b[0;32mNone\u001b[0m\u001b[0;34m:\u001b[0m\u001b[0;34m\u001b[0m\u001b[0;34m\u001b[0m\u001b[0m\n",
      "\u001b[0;32m~/anaconda3/lib/python3.8/http/client.py\u001b[0m in \u001b[0;36msend\u001b[0;34m(self, data)\u001b[0m\n\u001b[1;32m    948\u001b[0m         \u001b[0;32mif\u001b[0m \u001b[0mself\u001b[0m\u001b[0;34m.\u001b[0m\u001b[0msock\u001b[0m \u001b[0;32mis\u001b[0m \u001b[0;32mNone\u001b[0m\u001b[0;34m:\u001b[0m\u001b[0;34m\u001b[0m\u001b[0;34m\u001b[0m\u001b[0m\n\u001b[1;32m    949\u001b[0m             \u001b[0;32mif\u001b[0m \u001b[0mself\u001b[0m\u001b[0;34m.\u001b[0m\u001b[0mauto_open\u001b[0m\u001b[0;34m:\u001b[0m\u001b[0;34m\u001b[0m\u001b[0;34m\u001b[0m\u001b[0m\n\u001b[0;32m--> 950\u001b[0;31m                 \u001b[0mself\u001b[0m\u001b[0;34m.\u001b[0m\u001b[0mconnect\u001b[0m\u001b[0;34m(\u001b[0m\u001b[0;34m)\u001b[0m\u001b[0;34m\u001b[0m\u001b[0;34m\u001b[0m\u001b[0m\n\u001b[0m\u001b[1;32m    951\u001b[0m             \u001b[0;32melse\u001b[0m\u001b[0;34m:\u001b[0m\u001b[0;34m\u001b[0m\u001b[0;34m\u001b[0m\u001b[0m\n\u001b[1;32m    952\u001b[0m                 \u001b[0;32mraise\u001b[0m \u001b[0mNotConnected\u001b[0m\u001b[0;34m(\u001b[0m\u001b[0;34m)\u001b[0m\u001b[0;34m\u001b[0m\u001b[0;34m\u001b[0m\u001b[0m\n",
      "\u001b[0;32m~/anaconda3/lib/python3.8/http/client.py\u001b[0m in \u001b[0;36mconnect\u001b[0;34m(self)\u001b[0m\n\u001b[1;32m   1415\u001b[0m             \u001b[0;34m\"Connect to a host on a given (SSL) port.\"\u001b[0m\u001b[0;34m\u001b[0m\u001b[0;34m\u001b[0m\u001b[0m\n\u001b[1;32m   1416\u001b[0m \u001b[0;34m\u001b[0m\u001b[0m\n\u001b[0;32m-> 1417\u001b[0;31m             \u001b[0msuper\u001b[0m\u001b[0;34m(\u001b[0m\u001b[0;34m)\u001b[0m\u001b[0;34m.\u001b[0m\u001b[0mconnect\u001b[0m\u001b[0;34m(\u001b[0m\u001b[0;34m)\u001b[0m\u001b[0;34m\u001b[0m\u001b[0;34m\u001b[0m\u001b[0m\n\u001b[0m\u001b[1;32m   1418\u001b[0m \u001b[0;34m\u001b[0m\u001b[0m\n\u001b[1;32m   1419\u001b[0m             \u001b[0;32mif\u001b[0m \u001b[0mself\u001b[0m\u001b[0;34m.\u001b[0m\u001b[0m_tunnel_host\u001b[0m\u001b[0;34m:\u001b[0m\u001b[0;34m\u001b[0m\u001b[0;34m\u001b[0m\u001b[0m\n",
      "\u001b[0;32m~/anaconda3/lib/python3.8/http/client.py\u001b[0m in \u001b[0;36mconnect\u001b[0;34m(self)\u001b[0m\n\u001b[1;32m    919\u001b[0m     \u001b[0;32mdef\u001b[0m \u001b[0mconnect\u001b[0m\u001b[0;34m(\u001b[0m\u001b[0mself\u001b[0m\u001b[0;34m)\u001b[0m\u001b[0;34m:\u001b[0m\u001b[0;34m\u001b[0m\u001b[0;34m\u001b[0m\u001b[0m\n\u001b[1;32m    920\u001b[0m         \u001b[0;34m\"\"\"Connect to the host and port specified in __init__.\"\"\"\u001b[0m\u001b[0;34m\u001b[0m\u001b[0;34m\u001b[0m\u001b[0m\n\u001b[0;32m--> 921\u001b[0;31m         self.sock = self._create_connection(\n\u001b[0m\u001b[1;32m    922\u001b[0m             (self.host,self.port), self.timeout, self.source_address)\n\u001b[1;32m    923\u001b[0m         \u001b[0mself\u001b[0m\u001b[0;34m.\u001b[0m\u001b[0msock\u001b[0m\u001b[0;34m.\u001b[0m\u001b[0msetsockopt\u001b[0m\u001b[0;34m(\u001b[0m\u001b[0msocket\u001b[0m\u001b[0;34m.\u001b[0m\u001b[0mIPPROTO_TCP\u001b[0m\u001b[0;34m,\u001b[0m \u001b[0msocket\u001b[0m\u001b[0;34m.\u001b[0m\u001b[0mTCP_NODELAY\u001b[0m\u001b[0;34m,\u001b[0m \u001b[0;36m1\u001b[0m\u001b[0;34m)\u001b[0m\u001b[0;34m\u001b[0m\u001b[0;34m\u001b[0m\u001b[0m\n",
      "\u001b[0;32m~/anaconda3/lib/python3.8/socket.py\u001b[0m in \u001b[0;36mcreate_connection\u001b[0;34m(address, timeout, source_address)\u001b[0m\n\u001b[1;32m    794\u001b[0m             \u001b[0;32mif\u001b[0m \u001b[0msource_address\u001b[0m\u001b[0;34m:\u001b[0m\u001b[0;34m\u001b[0m\u001b[0;34m\u001b[0m\u001b[0m\n\u001b[1;32m    795\u001b[0m                 \u001b[0msock\u001b[0m\u001b[0;34m.\u001b[0m\u001b[0mbind\u001b[0m\u001b[0;34m(\u001b[0m\u001b[0msource_address\u001b[0m\u001b[0;34m)\u001b[0m\u001b[0;34m\u001b[0m\u001b[0;34m\u001b[0m\u001b[0m\n\u001b[0;32m--> 796\u001b[0;31m             \u001b[0msock\u001b[0m\u001b[0;34m.\u001b[0m\u001b[0mconnect\u001b[0m\u001b[0;34m(\u001b[0m\u001b[0msa\u001b[0m\u001b[0;34m)\u001b[0m\u001b[0;34m\u001b[0m\u001b[0;34m\u001b[0m\u001b[0m\n\u001b[0m\u001b[1;32m    797\u001b[0m             \u001b[0;31m# Break explicitly a reference cycle\u001b[0m\u001b[0;34m\u001b[0m\u001b[0;34m\u001b[0m\u001b[0;34m\u001b[0m\u001b[0m\n\u001b[1;32m    798\u001b[0m             \u001b[0merr\u001b[0m \u001b[0;34m=\u001b[0m \u001b[0;32mNone\u001b[0m\u001b[0;34m\u001b[0m\u001b[0;34m\u001b[0m\u001b[0m\n",
      "\u001b[0;31mKeyboardInterrupt\u001b[0m: "
     ]
    }
   ],
   "source": [
    "# retrieve images\n",
    "q1_video_id_b, q1_titles_b, q1_thumbnails_b = parse_q1(q1_ctr_best)\n",
    "q1_thumbnails_as_img_b = []\n",
    "for i in tqdm(range(len(q1_thumbnails_b))):\n",
    "    q1_thumbnails_as_img_b.append(request_url_image(q1_thumbnails_b[i]))"
   ]
  },
  {
   "cell_type": "code",
   "execution_count": 129,
   "metadata": {},
   "outputs": [
    {
     "data": {
      "application/vnd.jupyter.widget-view+json": {
       "model_id": "06beb518bde24749ae62c882b3a1d556",
       "version_major": 2,
       "version_minor": 0
      },
      "text/plain": [
       "HBox(children=(HTML(value=''), FloatProgress(value=0.0, max=30.0), HTML(value='')))"
      ]
     },
     "metadata": {},
     "output_type": "display_data"
    },
    {
     "name": "stdout",
     "output_type": "stream",
     "text": [
      "https://i.ytimg.com/vi/OtqQYqRNDGI/hqdefault.jpg\n",
      "https://i.ytimg.com/vi/3BEtGaz70rQ/hqdefault.jpg\n",
      "https://i.ytimg.com/vi/scSc6YSanQ0/hqdefault.jpg\n",
      "https://i.ytimg.com/vi/BlSrorP32WM/hqdefault.jpg\n",
      "https://i.ytimg.com/vi/9ZwVqXUHf6o/hqdefault.jpg\n",
      "https://i.ytimg.com/vi/a-Syoa9mPhM/hqdefault.jpg\n",
      "https://i.ytimg.com/vi/Fs_LG5Y8GIU/hqdefault.jpg\n",
      "https://i.ytimg.com/vi/742LQ38OioU/hqdefault.jpg\n",
      "https://i.ytimg.com/vi/n6MiRgxN5iA/hqdefault.jpg\n",
      "https://i.ytimg.com/vi/lUUqrRgerd8/hqdefault.jpg\n",
      "https://i.ytimg.com/vi/4qZINLzwYyk/hqdefault.jpg\n",
      "https://i.ytimg.com/vi/uic34RTaI-w/hqdefault.jpg\n",
      "https://i.ytimg.com/vi/n3vw0M5RrPU/hqdefault.jpg\n",
      "https://i.ytimg.com/vi/_K6cNdgN3CI/hqdefault.jpg\n",
      "https://i.ytimg.com/vi/ELFGsNqZrlM/hqdefault.jpg\n",
      "https://i.ytimg.com/vi/fU3DOXjwufg/hqdefault.jpg\n",
      "https://i.ytimg.com/vi/smeFkHwnM_k/hqdefault.jpg\n",
      "https://i.ytimg.com/vi/-3d1NctSv0c/hqdefault.jpg\n",
      "\n"
     ]
    },
    {
     "ename": "KeyboardInterrupt",
     "evalue": "",
     "output_type": "error",
     "traceback": [
      "\u001b[0;31m---------------------------------------------------------------------------\u001b[0m",
      "\u001b[0;31mKeyboardInterrupt\u001b[0m                         Traceback (most recent call last)",
      "\u001b[0;32m/tmp/ipykernel_131005/2377662228.py\u001b[0m in \u001b[0;36m<module>\u001b[0;34m\u001b[0m\n\u001b[1;32m      3\u001b[0m \u001b[0;32mfor\u001b[0m \u001b[0mi\u001b[0m \u001b[0;32min\u001b[0m \u001b[0mtqdm\u001b[0m\u001b[0;34m(\u001b[0m\u001b[0mrange\u001b[0m\u001b[0;34m(\u001b[0m\u001b[0mlen\u001b[0m\u001b[0;34m(\u001b[0m\u001b[0mq1_thumbnails_w\u001b[0m\u001b[0;34m)\u001b[0m\u001b[0;34m)\u001b[0m\u001b[0;34m)\u001b[0m\u001b[0;34m:\u001b[0m\u001b[0;34m\u001b[0m\u001b[0;34m\u001b[0m\u001b[0m\n\u001b[1;32m      4\u001b[0m     \u001b[0mprint\u001b[0m\u001b[0;34m(\u001b[0m\u001b[0mq1_thumbnails_w\u001b[0m\u001b[0;34m[\u001b[0m\u001b[0mi\u001b[0m\u001b[0;34m]\u001b[0m\u001b[0;34m)\u001b[0m\u001b[0;34m\u001b[0m\u001b[0;34m\u001b[0m\u001b[0m\n\u001b[0;32m----> 5\u001b[0;31m     \u001b[0mq1_thumbnails_as_img_w\u001b[0m\u001b[0;34m.\u001b[0m\u001b[0mappend\u001b[0m\u001b[0;34m(\u001b[0m\u001b[0mio\u001b[0m\u001b[0;34m.\u001b[0m\u001b[0mimread\u001b[0m\u001b[0;34m(\u001b[0m\u001b[0mq1_thumbnails_w\u001b[0m\u001b[0;34m[\u001b[0m\u001b[0mi\u001b[0m\u001b[0;34m]\u001b[0m\u001b[0;34m)\u001b[0m\u001b[0;34m)\u001b[0m\u001b[0;34m\u001b[0m\u001b[0;34m\u001b[0m\u001b[0m\n\u001b[0m",
      "\u001b[0;32m~/anaconda3/lib/python3.8/site-packages/skimage/io/_io.py\u001b[0m in \u001b[0;36mimread\u001b[0;34m(fname, as_gray, plugin, **plugin_args)\u001b[0m\n\u001b[1;32m     45\u001b[0m             \u001b[0mplugin\u001b[0m \u001b[0;34m=\u001b[0m \u001b[0;34m'tifffile'\u001b[0m\u001b[0;34m\u001b[0m\u001b[0;34m\u001b[0m\u001b[0m\n\u001b[1;32m     46\u001b[0m \u001b[0;34m\u001b[0m\u001b[0m\n\u001b[0;32m---> 47\u001b[0;31m     \u001b[0;32mwith\u001b[0m \u001b[0mfile_or_url_context\u001b[0m\u001b[0;34m(\u001b[0m\u001b[0mfname\u001b[0m\u001b[0;34m)\u001b[0m \u001b[0;32mas\u001b[0m \u001b[0mfname\u001b[0m\u001b[0;34m:\u001b[0m\u001b[0;34m\u001b[0m\u001b[0;34m\u001b[0m\u001b[0m\n\u001b[0m\u001b[1;32m     48\u001b[0m         \u001b[0mimg\u001b[0m \u001b[0;34m=\u001b[0m \u001b[0mcall_plugin\u001b[0m\u001b[0;34m(\u001b[0m\u001b[0;34m'imread'\u001b[0m\u001b[0;34m,\u001b[0m \u001b[0mfname\u001b[0m\u001b[0;34m,\u001b[0m \u001b[0mplugin\u001b[0m\u001b[0;34m=\u001b[0m\u001b[0mplugin\u001b[0m\u001b[0;34m,\u001b[0m \u001b[0;34m**\u001b[0m\u001b[0mplugin_args\u001b[0m\u001b[0;34m)\u001b[0m\u001b[0;34m\u001b[0m\u001b[0;34m\u001b[0m\u001b[0m\n\u001b[1;32m     49\u001b[0m \u001b[0;34m\u001b[0m\u001b[0m\n",
      "\u001b[0;32m~/anaconda3/lib/python3.8/contextlib.py\u001b[0m in \u001b[0;36m__enter__\u001b[0;34m(self)\u001b[0m\n\u001b[1;32m    111\u001b[0m         \u001b[0;32mdel\u001b[0m \u001b[0mself\u001b[0m\u001b[0;34m.\u001b[0m\u001b[0margs\u001b[0m\u001b[0;34m,\u001b[0m \u001b[0mself\u001b[0m\u001b[0;34m.\u001b[0m\u001b[0mkwds\u001b[0m\u001b[0;34m,\u001b[0m \u001b[0mself\u001b[0m\u001b[0;34m.\u001b[0m\u001b[0mfunc\u001b[0m\u001b[0;34m\u001b[0m\u001b[0;34m\u001b[0m\u001b[0m\n\u001b[1;32m    112\u001b[0m         \u001b[0;32mtry\u001b[0m\u001b[0;34m:\u001b[0m\u001b[0;34m\u001b[0m\u001b[0;34m\u001b[0m\u001b[0m\n\u001b[0;32m--> 113\u001b[0;31m             \u001b[0;32mreturn\u001b[0m \u001b[0mnext\u001b[0m\u001b[0;34m(\u001b[0m\u001b[0mself\u001b[0m\u001b[0;34m.\u001b[0m\u001b[0mgen\u001b[0m\u001b[0;34m)\u001b[0m\u001b[0;34m\u001b[0m\u001b[0;34m\u001b[0m\u001b[0m\n\u001b[0m\u001b[1;32m    114\u001b[0m         \u001b[0;32mexcept\u001b[0m \u001b[0mStopIteration\u001b[0m\u001b[0;34m:\u001b[0m\u001b[0;34m\u001b[0m\u001b[0;34m\u001b[0m\u001b[0m\n\u001b[1;32m    115\u001b[0m             \u001b[0;32mraise\u001b[0m \u001b[0mRuntimeError\u001b[0m\u001b[0;34m(\u001b[0m\u001b[0;34m\"generator didn't yield\"\u001b[0m\u001b[0;34m)\u001b[0m \u001b[0;32mfrom\u001b[0m \u001b[0;32mNone\u001b[0m\u001b[0;34m\u001b[0m\u001b[0;34m\u001b[0m\u001b[0m\n",
      "\u001b[0;32m~/anaconda3/lib/python3.8/site-packages/skimage/io/util.py\u001b[0m in \u001b[0;36mfile_or_url_context\u001b[0;34m(resource_name)\u001b[0m\n\u001b[1;32m     26\u001b[0m         \u001b[0;32mtry\u001b[0m\u001b[0;34m:\u001b[0m\u001b[0;34m\u001b[0m\u001b[0;34m\u001b[0m\u001b[0m\n\u001b[1;32m     27\u001b[0m             \u001b[0;32mwith\u001b[0m \u001b[0mtempfile\u001b[0m\u001b[0;34m.\u001b[0m\u001b[0mNamedTemporaryFile\u001b[0m\u001b[0;34m(\u001b[0m\u001b[0mdelete\u001b[0m\u001b[0;34m=\u001b[0m\u001b[0;32mFalse\u001b[0m\u001b[0;34m,\u001b[0m \u001b[0msuffix\u001b[0m\u001b[0;34m=\u001b[0m\u001b[0mext\u001b[0m\u001b[0;34m)\u001b[0m \u001b[0;32mas\u001b[0m \u001b[0mf\u001b[0m\u001b[0;34m:\u001b[0m\u001b[0;34m\u001b[0m\u001b[0;34m\u001b[0m\u001b[0m\n\u001b[0;32m---> 28\u001b[0;31m                 \u001b[0mu\u001b[0m \u001b[0;34m=\u001b[0m \u001b[0murllib\u001b[0m\u001b[0;34m.\u001b[0m\u001b[0mrequest\u001b[0m\u001b[0;34m.\u001b[0m\u001b[0murlopen\u001b[0m\u001b[0;34m(\u001b[0m\u001b[0mresource_name\u001b[0m\u001b[0;34m)\u001b[0m\u001b[0;34m\u001b[0m\u001b[0;34m\u001b[0m\u001b[0m\n\u001b[0m\u001b[1;32m     29\u001b[0m                 \u001b[0mf\u001b[0m\u001b[0;34m.\u001b[0m\u001b[0mwrite\u001b[0m\u001b[0;34m(\u001b[0m\u001b[0mu\u001b[0m\u001b[0;34m.\u001b[0m\u001b[0mread\u001b[0m\u001b[0;34m(\u001b[0m\u001b[0;34m)\u001b[0m\u001b[0;34m)\u001b[0m\u001b[0;34m\u001b[0m\u001b[0;34m\u001b[0m\u001b[0m\n\u001b[1;32m     30\u001b[0m             \u001b[0;31m# f must be closed before yielding\u001b[0m\u001b[0;34m\u001b[0m\u001b[0;34m\u001b[0m\u001b[0;34m\u001b[0m\u001b[0m\n",
      "\u001b[0;32m~/anaconda3/lib/python3.8/urllib/request.py\u001b[0m in \u001b[0;36murlopen\u001b[0;34m(url, data, timeout, cafile, capath, cadefault, context)\u001b[0m\n\u001b[1;32m    220\u001b[0m     \u001b[0;32melse\u001b[0m\u001b[0;34m:\u001b[0m\u001b[0;34m\u001b[0m\u001b[0;34m\u001b[0m\u001b[0m\n\u001b[1;32m    221\u001b[0m         \u001b[0mopener\u001b[0m \u001b[0;34m=\u001b[0m \u001b[0m_opener\u001b[0m\u001b[0;34m\u001b[0m\u001b[0;34m\u001b[0m\u001b[0m\n\u001b[0;32m--> 222\u001b[0;31m     \u001b[0;32mreturn\u001b[0m \u001b[0mopener\u001b[0m\u001b[0;34m.\u001b[0m\u001b[0mopen\u001b[0m\u001b[0;34m(\u001b[0m\u001b[0murl\u001b[0m\u001b[0;34m,\u001b[0m \u001b[0mdata\u001b[0m\u001b[0;34m,\u001b[0m \u001b[0mtimeout\u001b[0m\u001b[0;34m)\u001b[0m\u001b[0;34m\u001b[0m\u001b[0;34m\u001b[0m\u001b[0m\n\u001b[0m\u001b[1;32m    223\u001b[0m \u001b[0;34m\u001b[0m\u001b[0m\n\u001b[1;32m    224\u001b[0m \u001b[0;32mdef\u001b[0m \u001b[0minstall_opener\u001b[0m\u001b[0;34m(\u001b[0m\u001b[0mopener\u001b[0m\u001b[0;34m)\u001b[0m\u001b[0;34m:\u001b[0m\u001b[0;34m\u001b[0m\u001b[0;34m\u001b[0m\u001b[0m\n",
      "\u001b[0;32m~/anaconda3/lib/python3.8/urllib/request.py\u001b[0m in \u001b[0;36mopen\u001b[0;34m(self, fullurl, data, timeout)\u001b[0m\n\u001b[1;32m    523\u001b[0m \u001b[0;34m\u001b[0m\u001b[0m\n\u001b[1;32m    524\u001b[0m         \u001b[0msys\u001b[0m\u001b[0;34m.\u001b[0m\u001b[0maudit\u001b[0m\u001b[0;34m(\u001b[0m\u001b[0;34m'urllib.Request'\u001b[0m\u001b[0;34m,\u001b[0m \u001b[0mreq\u001b[0m\u001b[0;34m.\u001b[0m\u001b[0mfull_url\u001b[0m\u001b[0;34m,\u001b[0m \u001b[0mreq\u001b[0m\u001b[0;34m.\u001b[0m\u001b[0mdata\u001b[0m\u001b[0;34m,\u001b[0m \u001b[0mreq\u001b[0m\u001b[0;34m.\u001b[0m\u001b[0mheaders\u001b[0m\u001b[0;34m,\u001b[0m \u001b[0mreq\u001b[0m\u001b[0;34m.\u001b[0m\u001b[0mget_method\u001b[0m\u001b[0;34m(\u001b[0m\u001b[0;34m)\u001b[0m\u001b[0;34m)\u001b[0m\u001b[0;34m\u001b[0m\u001b[0;34m\u001b[0m\u001b[0m\n\u001b[0;32m--> 525\u001b[0;31m         \u001b[0mresponse\u001b[0m \u001b[0;34m=\u001b[0m \u001b[0mself\u001b[0m\u001b[0;34m.\u001b[0m\u001b[0m_open\u001b[0m\u001b[0;34m(\u001b[0m\u001b[0mreq\u001b[0m\u001b[0;34m,\u001b[0m \u001b[0mdata\u001b[0m\u001b[0;34m)\u001b[0m\u001b[0;34m\u001b[0m\u001b[0;34m\u001b[0m\u001b[0m\n\u001b[0m\u001b[1;32m    526\u001b[0m \u001b[0;34m\u001b[0m\u001b[0m\n\u001b[1;32m    527\u001b[0m         \u001b[0;31m# post-process response\u001b[0m\u001b[0;34m\u001b[0m\u001b[0;34m\u001b[0m\u001b[0;34m\u001b[0m\u001b[0m\n",
      "\u001b[0;32m~/anaconda3/lib/python3.8/urllib/request.py\u001b[0m in \u001b[0;36m_open\u001b[0;34m(self, req, data)\u001b[0m\n\u001b[1;32m    540\u001b[0m \u001b[0;34m\u001b[0m\u001b[0m\n\u001b[1;32m    541\u001b[0m         \u001b[0mprotocol\u001b[0m \u001b[0;34m=\u001b[0m \u001b[0mreq\u001b[0m\u001b[0;34m.\u001b[0m\u001b[0mtype\u001b[0m\u001b[0;34m\u001b[0m\u001b[0;34m\u001b[0m\u001b[0m\n\u001b[0;32m--> 542\u001b[0;31m         result = self._call_chain(self.handle_open, protocol, protocol +\n\u001b[0m\u001b[1;32m    543\u001b[0m                                   '_open', req)\n\u001b[1;32m    544\u001b[0m         \u001b[0;32mif\u001b[0m \u001b[0mresult\u001b[0m\u001b[0;34m:\u001b[0m\u001b[0;34m\u001b[0m\u001b[0;34m\u001b[0m\u001b[0m\n",
      "\u001b[0;32m~/anaconda3/lib/python3.8/urllib/request.py\u001b[0m in \u001b[0;36m_call_chain\u001b[0;34m(self, chain, kind, meth_name, *args)\u001b[0m\n\u001b[1;32m    500\u001b[0m         \u001b[0;32mfor\u001b[0m \u001b[0mhandler\u001b[0m \u001b[0;32min\u001b[0m \u001b[0mhandlers\u001b[0m\u001b[0;34m:\u001b[0m\u001b[0;34m\u001b[0m\u001b[0;34m\u001b[0m\u001b[0m\n\u001b[1;32m    501\u001b[0m             \u001b[0mfunc\u001b[0m \u001b[0;34m=\u001b[0m \u001b[0mgetattr\u001b[0m\u001b[0;34m(\u001b[0m\u001b[0mhandler\u001b[0m\u001b[0;34m,\u001b[0m \u001b[0mmeth_name\u001b[0m\u001b[0;34m)\u001b[0m\u001b[0;34m\u001b[0m\u001b[0;34m\u001b[0m\u001b[0m\n\u001b[0;32m--> 502\u001b[0;31m             \u001b[0mresult\u001b[0m \u001b[0;34m=\u001b[0m \u001b[0mfunc\u001b[0m\u001b[0;34m(\u001b[0m\u001b[0;34m*\u001b[0m\u001b[0margs\u001b[0m\u001b[0;34m)\u001b[0m\u001b[0;34m\u001b[0m\u001b[0;34m\u001b[0m\u001b[0m\n\u001b[0m\u001b[1;32m    503\u001b[0m             \u001b[0;32mif\u001b[0m \u001b[0mresult\u001b[0m \u001b[0;32mis\u001b[0m \u001b[0;32mnot\u001b[0m \u001b[0;32mNone\u001b[0m\u001b[0;34m:\u001b[0m\u001b[0;34m\u001b[0m\u001b[0;34m\u001b[0m\u001b[0m\n\u001b[1;32m    504\u001b[0m                 \u001b[0;32mreturn\u001b[0m \u001b[0mresult\u001b[0m\u001b[0;34m\u001b[0m\u001b[0;34m\u001b[0m\u001b[0m\n",
      "\u001b[0;32m~/anaconda3/lib/python3.8/urllib/request.py\u001b[0m in \u001b[0;36mhttps_open\u001b[0;34m(self, req)\u001b[0m\n\u001b[1;32m   1391\u001b[0m \u001b[0;34m\u001b[0m\u001b[0m\n\u001b[1;32m   1392\u001b[0m         \u001b[0;32mdef\u001b[0m \u001b[0mhttps_open\u001b[0m\u001b[0;34m(\u001b[0m\u001b[0mself\u001b[0m\u001b[0;34m,\u001b[0m \u001b[0mreq\u001b[0m\u001b[0;34m)\u001b[0m\u001b[0;34m:\u001b[0m\u001b[0;34m\u001b[0m\u001b[0;34m\u001b[0m\u001b[0m\n\u001b[0;32m-> 1393\u001b[0;31m             return self.do_open(http.client.HTTPSConnection, req,\n\u001b[0m\u001b[1;32m   1394\u001b[0m                 context=self._context, check_hostname=self._check_hostname)\n\u001b[1;32m   1395\u001b[0m \u001b[0;34m\u001b[0m\u001b[0m\n",
      "\u001b[0;32m~/anaconda3/lib/python3.8/urllib/request.py\u001b[0m in \u001b[0;36mdo_open\u001b[0;34m(self, http_class, req, **http_conn_args)\u001b[0m\n\u001b[1;32m   1348\u001b[0m         \u001b[0;32mtry\u001b[0m\u001b[0;34m:\u001b[0m\u001b[0;34m\u001b[0m\u001b[0;34m\u001b[0m\u001b[0m\n\u001b[1;32m   1349\u001b[0m             \u001b[0;32mtry\u001b[0m\u001b[0;34m:\u001b[0m\u001b[0;34m\u001b[0m\u001b[0;34m\u001b[0m\u001b[0m\n\u001b[0;32m-> 1350\u001b[0;31m                 h.request(req.get_method(), req.selector, req.data, headers,\n\u001b[0m\u001b[1;32m   1351\u001b[0m                           encode_chunked=req.has_header('Transfer-encoding'))\n\u001b[1;32m   1352\u001b[0m             \u001b[0;32mexcept\u001b[0m \u001b[0mOSError\u001b[0m \u001b[0;32mas\u001b[0m \u001b[0merr\u001b[0m\u001b[0;34m:\u001b[0m \u001b[0;31m# timeout error\u001b[0m\u001b[0;34m\u001b[0m\u001b[0;34m\u001b[0m\u001b[0m\n",
      "\u001b[0;32m~/anaconda3/lib/python3.8/http/client.py\u001b[0m in \u001b[0;36mrequest\u001b[0;34m(self, method, url, body, headers, encode_chunked)\u001b[0m\n\u001b[1;32m   1253\u001b[0m                 encode_chunked=False):\n\u001b[1;32m   1254\u001b[0m         \u001b[0;34m\"\"\"Send a complete request to the server.\"\"\"\u001b[0m\u001b[0;34m\u001b[0m\u001b[0;34m\u001b[0m\u001b[0m\n\u001b[0;32m-> 1255\u001b[0;31m         \u001b[0mself\u001b[0m\u001b[0;34m.\u001b[0m\u001b[0m_send_request\u001b[0m\u001b[0;34m(\u001b[0m\u001b[0mmethod\u001b[0m\u001b[0;34m,\u001b[0m \u001b[0murl\u001b[0m\u001b[0;34m,\u001b[0m \u001b[0mbody\u001b[0m\u001b[0;34m,\u001b[0m \u001b[0mheaders\u001b[0m\u001b[0;34m,\u001b[0m \u001b[0mencode_chunked\u001b[0m\u001b[0;34m)\u001b[0m\u001b[0;34m\u001b[0m\u001b[0;34m\u001b[0m\u001b[0m\n\u001b[0m\u001b[1;32m   1256\u001b[0m \u001b[0;34m\u001b[0m\u001b[0m\n\u001b[1;32m   1257\u001b[0m     \u001b[0;32mdef\u001b[0m \u001b[0m_send_request\u001b[0m\u001b[0;34m(\u001b[0m\u001b[0mself\u001b[0m\u001b[0;34m,\u001b[0m \u001b[0mmethod\u001b[0m\u001b[0;34m,\u001b[0m \u001b[0murl\u001b[0m\u001b[0;34m,\u001b[0m \u001b[0mbody\u001b[0m\u001b[0;34m,\u001b[0m \u001b[0mheaders\u001b[0m\u001b[0;34m,\u001b[0m \u001b[0mencode_chunked\u001b[0m\u001b[0;34m)\u001b[0m\u001b[0;34m:\u001b[0m\u001b[0;34m\u001b[0m\u001b[0;34m\u001b[0m\u001b[0m\n",
      "\u001b[0;32m~/anaconda3/lib/python3.8/http/client.py\u001b[0m in \u001b[0;36m_send_request\u001b[0;34m(self, method, url, body, headers, encode_chunked)\u001b[0m\n\u001b[1;32m   1299\u001b[0m             \u001b[0;31m# default charset of iso-8859-1.\u001b[0m\u001b[0;34m\u001b[0m\u001b[0;34m\u001b[0m\u001b[0;34m\u001b[0m\u001b[0m\n\u001b[1;32m   1300\u001b[0m             \u001b[0mbody\u001b[0m \u001b[0;34m=\u001b[0m \u001b[0m_encode\u001b[0m\u001b[0;34m(\u001b[0m\u001b[0mbody\u001b[0m\u001b[0;34m,\u001b[0m \u001b[0;34m'body'\u001b[0m\u001b[0;34m)\u001b[0m\u001b[0;34m\u001b[0m\u001b[0;34m\u001b[0m\u001b[0m\n\u001b[0;32m-> 1301\u001b[0;31m         \u001b[0mself\u001b[0m\u001b[0;34m.\u001b[0m\u001b[0mendheaders\u001b[0m\u001b[0;34m(\u001b[0m\u001b[0mbody\u001b[0m\u001b[0;34m,\u001b[0m \u001b[0mencode_chunked\u001b[0m\u001b[0;34m=\u001b[0m\u001b[0mencode_chunked\u001b[0m\u001b[0;34m)\u001b[0m\u001b[0;34m\u001b[0m\u001b[0;34m\u001b[0m\u001b[0m\n\u001b[0m\u001b[1;32m   1302\u001b[0m \u001b[0;34m\u001b[0m\u001b[0m\n\u001b[1;32m   1303\u001b[0m     \u001b[0;32mdef\u001b[0m \u001b[0mgetresponse\u001b[0m\u001b[0;34m(\u001b[0m\u001b[0mself\u001b[0m\u001b[0;34m)\u001b[0m\u001b[0;34m:\u001b[0m\u001b[0;34m\u001b[0m\u001b[0;34m\u001b[0m\u001b[0m\n",
      "\u001b[0;32m~/anaconda3/lib/python3.8/http/client.py\u001b[0m in \u001b[0;36mendheaders\u001b[0;34m(self, message_body, encode_chunked)\u001b[0m\n\u001b[1;32m   1248\u001b[0m         \u001b[0;32melse\u001b[0m\u001b[0;34m:\u001b[0m\u001b[0;34m\u001b[0m\u001b[0;34m\u001b[0m\u001b[0m\n\u001b[1;32m   1249\u001b[0m             \u001b[0;32mraise\u001b[0m \u001b[0mCannotSendHeader\u001b[0m\u001b[0;34m(\u001b[0m\u001b[0;34m)\u001b[0m\u001b[0;34m\u001b[0m\u001b[0;34m\u001b[0m\u001b[0m\n\u001b[0;32m-> 1250\u001b[0;31m         \u001b[0mself\u001b[0m\u001b[0;34m.\u001b[0m\u001b[0m_send_output\u001b[0m\u001b[0;34m(\u001b[0m\u001b[0mmessage_body\u001b[0m\u001b[0;34m,\u001b[0m \u001b[0mencode_chunked\u001b[0m\u001b[0;34m=\u001b[0m\u001b[0mencode_chunked\u001b[0m\u001b[0;34m)\u001b[0m\u001b[0;34m\u001b[0m\u001b[0;34m\u001b[0m\u001b[0m\n\u001b[0m\u001b[1;32m   1251\u001b[0m \u001b[0;34m\u001b[0m\u001b[0m\n\u001b[1;32m   1252\u001b[0m     def request(self, method, url, body=None, headers={}, *,\n",
      "\u001b[0;32m~/anaconda3/lib/python3.8/http/client.py\u001b[0m in \u001b[0;36m_send_output\u001b[0;34m(self, message_body, encode_chunked)\u001b[0m\n\u001b[1;32m   1008\u001b[0m         \u001b[0mmsg\u001b[0m \u001b[0;34m=\u001b[0m \u001b[0;34mb\"\\r\\n\"\u001b[0m\u001b[0;34m.\u001b[0m\u001b[0mjoin\u001b[0m\u001b[0;34m(\u001b[0m\u001b[0mself\u001b[0m\u001b[0;34m.\u001b[0m\u001b[0m_buffer\u001b[0m\u001b[0;34m)\u001b[0m\u001b[0;34m\u001b[0m\u001b[0;34m\u001b[0m\u001b[0m\n\u001b[1;32m   1009\u001b[0m         \u001b[0;32mdel\u001b[0m \u001b[0mself\u001b[0m\u001b[0;34m.\u001b[0m\u001b[0m_buffer\u001b[0m\u001b[0;34m[\u001b[0m\u001b[0;34m:\u001b[0m\u001b[0;34m]\u001b[0m\u001b[0;34m\u001b[0m\u001b[0;34m\u001b[0m\u001b[0m\n\u001b[0;32m-> 1010\u001b[0;31m         \u001b[0mself\u001b[0m\u001b[0;34m.\u001b[0m\u001b[0msend\u001b[0m\u001b[0;34m(\u001b[0m\u001b[0mmsg\u001b[0m\u001b[0;34m)\u001b[0m\u001b[0;34m\u001b[0m\u001b[0;34m\u001b[0m\u001b[0m\n\u001b[0m\u001b[1;32m   1011\u001b[0m \u001b[0;34m\u001b[0m\u001b[0m\n\u001b[1;32m   1012\u001b[0m         \u001b[0;32mif\u001b[0m \u001b[0mmessage_body\u001b[0m \u001b[0;32mis\u001b[0m \u001b[0;32mnot\u001b[0m \u001b[0;32mNone\u001b[0m\u001b[0;34m:\u001b[0m\u001b[0;34m\u001b[0m\u001b[0;34m\u001b[0m\u001b[0m\n",
      "\u001b[0;32m~/anaconda3/lib/python3.8/http/client.py\u001b[0m in \u001b[0;36msend\u001b[0;34m(self, data)\u001b[0m\n\u001b[1;32m    948\u001b[0m         \u001b[0;32mif\u001b[0m \u001b[0mself\u001b[0m\u001b[0;34m.\u001b[0m\u001b[0msock\u001b[0m \u001b[0;32mis\u001b[0m \u001b[0;32mNone\u001b[0m\u001b[0;34m:\u001b[0m\u001b[0;34m\u001b[0m\u001b[0;34m\u001b[0m\u001b[0m\n\u001b[1;32m    949\u001b[0m             \u001b[0;32mif\u001b[0m \u001b[0mself\u001b[0m\u001b[0;34m.\u001b[0m\u001b[0mauto_open\u001b[0m\u001b[0;34m:\u001b[0m\u001b[0;34m\u001b[0m\u001b[0;34m\u001b[0m\u001b[0m\n\u001b[0;32m--> 950\u001b[0;31m                 \u001b[0mself\u001b[0m\u001b[0;34m.\u001b[0m\u001b[0mconnect\u001b[0m\u001b[0;34m(\u001b[0m\u001b[0;34m)\u001b[0m\u001b[0;34m\u001b[0m\u001b[0;34m\u001b[0m\u001b[0m\n\u001b[0m\u001b[1;32m    951\u001b[0m             \u001b[0;32melse\u001b[0m\u001b[0;34m:\u001b[0m\u001b[0;34m\u001b[0m\u001b[0;34m\u001b[0m\u001b[0m\n\u001b[1;32m    952\u001b[0m                 \u001b[0;32mraise\u001b[0m \u001b[0mNotConnected\u001b[0m\u001b[0;34m(\u001b[0m\u001b[0;34m)\u001b[0m\u001b[0;34m\u001b[0m\u001b[0;34m\u001b[0m\u001b[0m\n",
      "\u001b[0;32m~/anaconda3/lib/python3.8/http/client.py\u001b[0m in \u001b[0;36mconnect\u001b[0;34m(self)\u001b[0m\n\u001b[1;32m   1415\u001b[0m             \u001b[0;34m\"Connect to a host on a given (SSL) port.\"\u001b[0m\u001b[0;34m\u001b[0m\u001b[0;34m\u001b[0m\u001b[0m\n\u001b[1;32m   1416\u001b[0m \u001b[0;34m\u001b[0m\u001b[0m\n\u001b[0;32m-> 1417\u001b[0;31m             \u001b[0msuper\u001b[0m\u001b[0;34m(\u001b[0m\u001b[0;34m)\u001b[0m\u001b[0;34m.\u001b[0m\u001b[0mconnect\u001b[0m\u001b[0;34m(\u001b[0m\u001b[0;34m)\u001b[0m\u001b[0;34m\u001b[0m\u001b[0;34m\u001b[0m\u001b[0m\n\u001b[0m\u001b[1;32m   1418\u001b[0m \u001b[0;34m\u001b[0m\u001b[0m\n\u001b[1;32m   1419\u001b[0m             \u001b[0;32mif\u001b[0m \u001b[0mself\u001b[0m\u001b[0;34m.\u001b[0m\u001b[0m_tunnel_host\u001b[0m\u001b[0;34m:\u001b[0m\u001b[0;34m\u001b[0m\u001b[0;34m\u001b[0m\u001b[0m\n",
      "\u001b[0;32m~/anaconda3/lib/python3.8/http/client.py\u001b[0m in \u001b[0;36mconnect\u001b[0;34m(self)\u001b[0m\n\u001b[1;32m    919\u001b[0m     \u001b[0;32mdef\u001b[0m \u001b[0mconnect\u001b[0m\u001b[0;34m(\u001b[0m\u001b[0mself\u001b[0m\u001b[0;34m)\u001b[0m\u001b[0;34m:\u001b[0m\u001b[0;34m\u001b[0m\u001b[0;34m\u001b[0m\u001b[0m\n\u001b[1;32m    920\u001b[0m         \u001b[0;34m\"\"\"Connect to the host and port specified in __init__.\"\"\"\u001b[0m\u001b[0;34m\u001b[0m\u001b[0;34m\u001b[0m\u001b[0m\n\u001b[0;32m--> 921\u001b[0;31m         self.sock = self._create_connection(\n\u001b[0m\u001b[1;32m    922\u001b[0m             (self.host,self.port), self.timeout, self.source_address)\n\u001b[1;32m    923\u001b[0m         \u001b[0mself\u001b[0m\u001b[0;34m.\u001b[0m\u001b[0msock\u001b[0m\u001b[0;34m.\u001b[0m\u001b[0msetsockopt\u001b[0m\u001b[0;34m(\u001b[0m\u001b[0msocket\u001b[0m\u001b[0;34m.\u001b[0m\u001b[0mIPPROTO_TCP\u001b[0m\u001b[0;34m,\u001b[0m \u001b[0msocket\u001b[0m\u001b[0;34m.\u001b[0m\u001b[0mTCP_NODELAY\u001b[0m\u001b[0;34m,\u001b[0m \u001b[0;36m1\u001b[0m\u001b[0;34m)\u001b[0m\u001b[0;34m\u001b[0m\u001b[0;34m\u001b[0m\u001b[0m\n",
      "\u001b[0;32m~/anaconda3/lib/python3.8/socket.py\u001b[0m in \u001b[0;36mcreate_connection\u001b[0;34m(address, timeout, source_address)\u001b[0m\n\u001b[1;32m    794\u001b[0m             \u001b[0;32mif\u001b[0m \u001b[0msource_address\u001b[0m\u001b[0;34m:\u001b[0m\u001b[0;34m\u001b[0m\u001b[0;34m\u001b[0m\u001b[0m\n\u001b[1;32m    795\u001b[0m                 \u001b[0msock\u001b[0m\u001b[0;34m.\u001b[0m\u001b[0mbind\u001b[0m\u001b[0;34m(\u001b[0m\u001b[0msource_address\u001b[0m\u001b[0;34m)\u001b[0m\u001b[0;34m\u001b[0m\u001b[0;34m\u001b[0m\u001b[0m\n\u001b[0;32m--> 796\u001b[0;31m             \u001b[0msock\u001b[0m\u001b[0;34m.\u001b[0m\u001b[0mconnect\u001b[0m\u001b[0;34m(\u001b[0m\u001b[0msa\u001b[0m\u001b[0;34m)\u001b[0m\u001b[0;34m\u001b[0m\u001b[0;34m\u001b[0m\u001b[0m\n\u001b[0m\u001b[1;32m    797\u001b[0m             \u001b[0;31m# Break explicitly a reference cycle\u001b[0m\u001b[0;34m\u001b[0m\u001b[0;34m\u001b[0m\u001b[0;34m\u001b[0m\u001b[0m\n\u001b[1;32m    798\u001b[0m             \u001b[0merr\u001b[0m \u001b[0;34m=\u001b[0m \u001b[0;32mNone\u001b[0m\u001b[0;34m\u001b[0m\u001b[0;34m\u001b[0m\u001b[0m\n",
      "\u001b[0;31mKeyboardInterrupt\u001b[0m: "
     ]
    }
   ],
   "source": [
    "q1_video_id_w, q1_titles_w, q1_thumbnails_w = parse_q1(q1_ctr_worst)\n",
    "q1_thumbnails_as_img_w = []\n",
    "for i in tqdm(range(len(q1_thumbnails_w))):\n",
    "    print(q1_thumbnails_w[i])\n",
    "    q1_thumbnails_as_img_w.append(request_url_image(q1_thumbnails_w[i]))"
   ]
  },
  {
   "cell_type": "code",
   "execution_count": 119,
   "metadata": {},
   "outputs": [],
   "source": [
    "def plot_imgs_grid(rows,cols,titles,images,figsize=(32,24)):\n",
    "\n",
    "    f, axarr = plt.subplots(5,6, figsize=(32,24)) # (width,height)\n",
    "\n",
    "    for i in range(rows):\n",
    "        for j in range(cols):\n",
    "            title = \"\\n\".join(wrap(titles[i+j], width=30))\n",
    "            axarr[i,j].imshow(images[i+j])\n",
    "            axarr[i,j].set_title(title,fontsize=20)"
   ]
  },
  {
   "cell_type": "code",
   "execution_count": null,
   "metadata": {},
   "outputs": [],
   "source": [
    "plot_imgs_grid(5,6,q1_titles_b,q1_thumbnails_as_img_b)"
   ]
  },
  {
   "cell_type": "code",
   "execution_count": null,
   "metadata": {},
   "outputs": [],
   "source": [
    "plot_imgs_grid(5,6,q1_titles_w,q1_thumbnails_as_img_w)"
   ]
  },
  {
   "cell_type": "code",
   "execution_count": 121,
   "metadata": {},
   "outputs": [],
   "source": [
    "def get_frequency(titles):\n",
    "    m = dict()\n",
    "    for title in titles:\n",
    "        words = title.split(\" \")\n",
    "        for word in words:\n",
    "            if word not in m:\n",
    "                m[word] = 0\n",
    "            m[word] += 1\n",
    "\n",
    "    return m\n",
    "        "
   ]
  },
  {
   "cell_type": "code",
   "execution_count": 123,
   "metadata": {},
   "outputs": [
    {
     "name": "stdout",
     "output_type": "stream",
     "text": [
      "{'Quit': 1, 'Get': 1, 'Masters': 1, 'Twitter': 1, 'with': 1, 'Twitterscraper': 1, 'Learn': 1, 'R': 1, 'Best': 1, 'Computer': 1, 'Beginners': 1, 'Does': 1, 'Actually': 1, 'Do?': 1, '2': 1, 'Collection)': 1, '7': 1, '(Documenting': 1, 'Work)': 1, 'YOU': 1, 'Can': 1, 'Land': 1, 'Collision': 1, 'Course:': 1, 'Betting': 1, '+': 1, 'Is': 1, 'Right': 1, 'For': 1, 'You?': 1, 'Math': 1, 'Needed': 1, 'Mastering': 1, 'Reviewing': 1, 'Resumes': 1, 'Episode': 1, '12': 1, '(3': 1, 'Different': 1, 'Resumes!)': 1, 'Became': 1, 'Business': 1, 'Background': 1, 'Fundamentals:': 1, 'Exploration': 1, '(Pandas)': 1, 'Predicting': 1, 'Crypto-Currency': 1, 'Price': 1, 'RNN': 1, 'lSTM': 1, '&': 1, 'GRU': 1, 'Work': 1, 'Home': 1, 'Scientist:': 1, 'Day': 1, 'Life': 1, 'nba_api': 1, '5': 1, 'Essential': 1, 'Portfolio': 1, 'Simulate': 1, 'Games': 1, 'Reasons': 1, 'NOT': 1, '1': 1, '(Project': 1, 'Planning)': 1, 'is': 1, 'Really?': 1, 'that': 1, 'Got': 1, 'Me': 1, 'Golf': 1, 'STATS:': 1, 'Strokes': 1, 'Gained': 1, 'Explained': 1, '4': 1, 'Types': 1, 'of': 1, 'Probably': 1, \"Won't\": 1, 'Go': 1, 'Analyst': 1, 'Cleaning)': 1, 'Where': 1, 'Start': 1, 'Learning': 1, 'Why': 2, 'I': 2, 'A': 2, 'Science?': 2, 'Scrape': 2, 'Module': 2, 'What': 2, '(Data': 2, 'Job': 2, 'Using': 2, 'the': 2, 'NBA': 2, '3': 2, 'Become': 2, 'Should': 3, 'The': 3, 'Your': 3, 'Analytics': 3, 'From': 3, 'Projects': 3, 'You': 4, 'Python': 4, 'for': 4, 'Project': 4, 'from': 4, 'Scratch': 4, 'Part': 4, 'Sports': 4, 'in': 5, 'Scientist': 5, '-': 5, 'How': 5, 'to': 5, 'a': 6, 'Science': 14, 'Data': 26}\n"
     ]
    }
   ],
   "source": [
    "print({k: v for k, v in sorted(get_frequency(q1_titles_b).items(), key=lambda item: item[1])})"
   ]
  },
  {
   "cell_type": "code",
   "execution_count": 124,
   "metadata": {},
   "outputs": [
    {
     "name": "stdout",
     "output_type": "stream",
     "text": [
      "{'🌶': 1, 'Hot': 1, 'Topics': 1, 'Tech:': 1, '#SHORTS': 1, 'Far': 1, 'NBA': 1, '3-Point': 1, 'Line': 1, 'Actually': 1, 'Be?': 1, 'Statistics': 1, 'Saved': 1, 'US': 1, 'SERIOUS': 1, '$$$$': 1, 'During': 1, 'WW2': 1, '#Shorts': 1, '2': 1, 'Offices': 1, 'When': 1, 'Goes': 1, 'Wrong': 1, 'Take': 1, 'Good': 1, 'Great': 1, 'Can': 1, 'Learn': 1, 'Without': 1, 'Computer?': 1, 'Productivity,': 1, 'Motivation,': 1, 'Organization': 1, '(ft.': 1, 'Codebasics)': 1, 'EVERYONE': 1, 'Start': 1, 'Podcast': 1, '(Including': 1, 'YOU)': 1, \"It's\": 1, 'Like': 1, 'be': 1, 'Socially': 1, 'Distanced': 1, 'Scientist': 1, '(A': 1, 'Day': 1, 'Life)': 1, 'State': 1, 'Krish': 1, 'Naik': 1, '[Panel': 1, 'Discussion]': 1, 'Balance': 1, '(7': 1, 'Secrets)': 1, 'Learned': 1, '4': 1, '(Resume': 1, 'Github)': 1, 'Is': 1, 'it': 1, 'Important': 1, 'Share': 1, 'Work?': 1, '(Ft.': 1, 'Eric': 1, 'Weber)': 1, 'is': 1, 'Future': 1, 'my': 1, 'Comment': 1, 'Leaderboard': 1, 'Project?': 1, 'Welcome': 1, 'To': 1, 'My': 1, 'Q': 1, 'A': 1, '(50,000': 1, 'Sub': 1, 'Special!)': 1, '(Student': 1, 'Portfolio)': 1, 'Do': 1, 'Mentor?': 1, '(@Danny': 1, 'Ma)': 1, '06': 1, 'Different': 1, 'Roles': 1, '(by': 1, 'Scientist)': 1, 'PODCAST': 1, 'you': 1, 'might': 1, 'have': 1, 'asked': 1, 'for?': 1, 'Eat': 1, 'Papaya': 1, 'on': 1, '(Plus': 1, 'Q&A': 1, '150K': 1, 'Subs!)': 1, 'Fast': 1, 'Cars': 1, 'Faster': 1, '(Alex': 1, 'Castrounis)': 1, '12': 1, '100K': 1, 'Update': 1, '+': 1, 'AMA': 1, 'Stream!': 1, '#66DaysOfData': 1, 'Round': 1, 'Event!': 1, '(feat.': 1, '@StatQuest': 1, 'Josh': 1, 'Starmer)': 1, '(Very': 1, 'Detailed': 1, 'Project)': 1, 'Sports': 1, 'Talk': 1, 'Northwestern': 1, '(Kellogg)': 1, 'MBA': 1, 'Students': 1, 'Tips': 1, 'Crushing': 1, 'Work': 1, 'Home': 1, 'Life': 1, '10000': 1, 'Subscriber': 1, '100th': 1, 'Video': 1, 'Special': 1, '(Data': 1, 'Science)': 1, 'Explained': 2, 'Should': 2, 'Why': 2, 'Have': 2, 'Content': 2, 'Creation': 2, 'From': 2, 'You': 2, 'Professor': 2, 'What': 2, 'of': 2, 'with': 2, 'Channel': 2, '|': 2, 'Ken': 2, 'Jee': 2, 'Stream': 2, '3': 2, 'KNN': 2, 'EP.': 2, '5': 2, 'in': 3, 'and': 3, 'The': 3, 'Reviewing': 3, 'Episode': 3, 'Live': 3, 'How': 4, 'I': 4, 'for': 4, 'Projects': 4, 'to': 4, 'the': 5, '&': 5, 'Your': 5, 'a': 6, '-': 6, 'Science': 17, 'Data': 22}\n"
     ]
    }
   ],
   "source": [
    "print({k: v for k, v in sorted(get_frequency(q1_titles_w).items(), key=lambda item: item[1])})"
   ]
  },
  {
   "cell_type": "markdown",
   "metadata": {},
   "source": [
    "### Conclusion"
   ]
  },
  {
   "cell_type": "markdown",
   "metadata": {},
   "source": [
    "- "
   ]
  },
  {
   "cell_type": "markdown",
   "metadata": {},
   "source": [
    "## Q2: What type of content are people engaging with the most or watching the longest? (avg watch time and avg view percentage)"
   ]
  },
  {
   "cell_type": "markdown",
   "metadata": {},
   "source": [
    "### Analysis"
   ]
  },
  {
   "cell_type": "markdown",
   "metadata": {},
   "source": [
    "### Conclusion"
   ]
  },
  {
   "cell_type": "markdown",
   "metadata": {},
   "source": [
    "## Q3: What is the SEO applied and what it's the performance?"
   ]
  },
  {
   "cell_type": "markdown",
   "metadata": {},
   "source": [
    "### Analysis"
   ]
  },
  {
   "cell_type": "markdown",
   "metadata": {},
   "source": [
    "### Conclusion"
   ]
  },
  {
   "cell_type": "markdown",
   "metadata": {},
   "source": [
    "## Q4: Who is the core audience and what are they interested in?"
   ]
  },
  {
   "cell_type": "markdown",
   "metadata": {},
   "source": [
    "### Analysis"
   ]
  },
  {
   "cell_type": "markdown",
   "metadata": {},
   "source": [
    "### Conclusion"
   ]
  },
  {
   "cell_type": "markdown",
   "metadata": {},
   "source": [
    "## Q5: What types of videos have lead to the most growth and bad growth (subs removed)? "
   ]
  },
  {
   "cell_type": "markdown",
   "metadata": {},
   "source": [
    "### Analysis"
   ]
  },
  {
   "cell_type": "markdown",
   "metadata": {},
   "source": [
    "### Conclusion"
   ]
  },
  {
   "cell_type": "markdown",
   "metadata": {},
   "source": [
    "## Q6: When the retention peaks happen? what did the youtuber for that peaks? (Important question for SEO-Frame techniques)"
   ]
  },
  {
   "cell_type": "markdown",
   "metadata": {},
   "source": [
    "### Analysis"
   ]
  },
  {
   "cell_type": "markdown",
   "metadata": {},
   "source": [
    "### Conclusion"
   ]
  },
  {
   "cell_type": "markdown",
   "metadata": {},
   "source": [
    "## Q7: What are the keywords used? These answer to search intents?"
   ]
  },
  {
   "cell_type": "markdown",
   "metadata": {},
   "source": [
    "### Analysis"
   ]
  },
  {
   "cell_type": "markdown",
   "metadata": {},
   "source": [
    "### Conclusion"
   ]
  },
  {
   "cell_type": "markdown",
   "metadata": {},
   "source": [
    "## Q8: What are the SEO techniques applied? Which give the best results?"
   ]
  },
  {
   "cell_type": "markdown",
   "metadata": {},
   "source": [
    "### Analysis"
   ]
  },
  {
   "cell_type": "markdown",
   "metadata": {},
   "source": [
    "### Conclusion"
   ]
  },
  {
   "cell_type": "markdown",
   "metadata": {},
   "source": [
    "## Q9: What are the top positive/negative words/sentences in comments?"
   ]
  },
  {
   "cell_type": "markdown",
   "metadata": {},
   "source": [
    "### Analysis"
   ]
  },
  {
   "cell_type": "markdown",
   "metadata": {},
   "source": [
    "### Conclusion"
   ]
  },
  {
   "cell_type": "markdown",
   "metadata": {},
   "source": [
    "## Q10: What videos produces more relative likes?"
   ]
  },
  {
   "cell_type": "markdown",
   "metadata": {},
   "source": [
    "### Analysis"
   ]
  },
  {
   "cell_type": "markdown",
   "metadata": {},
   "source": [
    "### Conclusion"
   ]
  },
  {
   "cell_type": "markdown",
   "metadata": {},
   "source": [
    "## Q11: What videos produces more relative dislikes?"
   ]
  },
  {
   "cell_type": "markdown",
   "metadata": {},
   "source": [
    "### Analysis"
   ]
  },
  {
   "cell_type": "markdown",
   "metadata": {},
   "source": [
    "### Conclusion"
   ]
  },
  {
   "cell_type": "markdown",
   "metadata": {},
   "source": [
    "## Q12: What videos produces more relative comments added?"
   ]
  },
  {
   "cell_type": "markdown",
   "metadata": {},
   "source": [
    "### Analysis"
   ]
  },
  {
   "cell_type": "markdown",
   "metadata": {},
   "source": [
    "### Conclusion"
   ]
  },
  {
   "cell_type": "markdown",
   "metadata": {},
   "source": [
    "## Q13: What videos generates more social value? (shares)"
   ]
  },
  {
   "cell_type": "markdown",
   "metadata": {},
   "source": [
    "### Analysis"
   ]
  },
  {
   "cell_type": "markdown",
   "metadata": {},
   "source": [
    "### Conclusion"
   ]
  },
  {
   "cell_type": "markdown",
   "metadata": {},
   "source": [
    "## Q14: What are the topics of the most liked comments? (clusters)"
   ]
  },
  {
   "cell_type": "markdown",
   "metadata": {},
   "source": [
    "### Analysis"
   ]
  },
  {
   "cell_type": "markdown",
   "metadata": {},
   "source": [
    "### Conclusion"
   ]
  },
  {
   "cell_type": "markdown",
   "metadata": {},
   "source": [
    "<a id=\"5\"></a>\n",
    "# <p style=\"background-color:#682F2F;font-family:newtimeroman;color:#FFF9ED;font-size:150%;text-align:center;border-radius:10px 10px;\">MODELING</p>"
   ]
  },
  {
   "cell_type": "code",
   "execution_count": 74,
   "metadata": {},
   "outputs": [
    {
     "data": {
      "image/png": "[encoded data removed]",
      "text/plain": [
       "<Figure size 1080x360 with 1 Axes>"
      ]
     },
     "metadata": {},
     "output_type": "display_data"
    }
   ],
   "source": [
    "distorsions = []\n",
    "\n",
    "grid_clusters = [i for i in range(2,11)]\n",
    "for k in grid_clusters:\n",
    "    kmeans = KMeans(n_clusters=k)\n",
    "    kmeans.fit(X_train)\n",
    "    distorsions.append(kmeans.inertia_)\n",
    "\n",
    "fig = plt.figure(figsize=(15, 5))\n",
    "plt.plot(grid_clusters, distorsions)\n",
    "plt.grid(True)\n",
    "plt.title('Cluster analysis')\n",
    "plt.show()\n"
   ]
  },
  {
   "cell_type": "code",
   "execution_count": 75,
   "metadata": {},
   "outputs": [
    {
     "data": {
      "image/png": "[encoded data removed]",
      "text/plain": [
       "<Figure size 720x576 with 1 Axes>"
      ]
     },
     "metadata": {},
     "output_type": "display_data"
    }
   ],
   "source": [
    "x =X_train[\"col1\"]\n",
    "y =X_train[\"col2\"]\n",
    "z =X_train[\"col3\"]\n",
    "#Initiating the Agglomerative Clustering model \n",
    "AC = AgglomerativeClustering(n_clusters=4)\n",
    "# fit model and predict clusters\n",
    "yhat_AC = AC.fit_predict(X_train)\n",
    "X_clean[\"Clusters\"] = yhat_AC\n",
    "\n",
    "#Plotting the clusters\n",
    "fig = plt.figure(figsize=(10,8))\n",
    "ax = plt.subplot(111, projection='3d', label=\"bla\")\n",
    "ax.scatter(x, y, z, s=40, c=X_clean[\"Clusters\"], marker='o', cmap = cmap )\n",
    "ax.set_title(\"The Plot Of The Clusters\")\n",
    "plt.show()"
   ]
  },
  {
   "cell_type": "markdown",
   "metadata": {},
   "source": [
    "<a id=\"6\"></a>\n",
    "# <p style=\"background-color:#682F2F;font-family:newtimeroman;color:#FFF9ED;font-size:150%;text-align:center;border-radius:10px 10px;\">EVALUATION</p>"
   ]
  },
  {
   "cell_type": "markdown",
   "metadata": {},
   "source": [
    "<a id=\"7\"></a>\n",
    "# <p style=\"background-color:#682F2F;font-family:newtimeroman;color:#FFF9ED;font-size:150%;text-align:center;border-radius:10px 10px;\">DISCUSSION</p>"
   ]
  },
  {
   "cell_type": "markdown",
   "metadata": {},
   "source": [
    "## Patterns study"
   ]
  },
  {
   "cell_type": "code",
   "execution_count": 76,
   "metadata": {},
   "outputs": [
    {
     "data": {
      "image/png": "[encoded data removed]",
      "text/plain": [
       "<Figure size 432x288 with 1 Axes>"
      ]
     },
     "metadata": {},
     "output_type": "display_data"
    }
   ],
   "source": [
    "#Plotting countplot of clusters\n",
    "pal = [\"#682F2F\",\"#B9C0C9\", \"#9F8A78\",\"#F3AB60\"]\n",
    "pl = sns.countplot(x=X_clean[\"Clusters\"], palette= pal)\n",
    "pl.set_title(\"Distribution Of The Clusters\")\n",
    "plt.show()"
   ]
  },
  {
   "cell_type": "code",
   "execution_count": 77,
   "metadata": {},
   "outputs": [
    {
     "data": {
      "image/png": "[encoded data removed]",
      "text/plain": [
       "<Figure size 432x288 with 1 Axes>"
      ]
     },
     "metadata": {},
     "output_type": "display_data"
    }
   ],
   "source": [
    "pl = sns.scatterplot(data = X_clean,x=X_clean[\"Spent\"], y=X_clean[\"Income\"],hue=X_clean[\"Clusters\"], palette= pal)\n",
    "pl.set_title(\"Cluster's Profile Based On Income And Spending\")\n",
    "plt.legend()\n",
    "plt.show()"
   ]
  },
  {
   "cell_type": "markdown",
   "metadata": {},
   "source": [
    "## Profiling"
   ]
  },
  {
   "cell_type": "markdown",
   "metadata": {},
   "source": [
    "## Conclusions\n",
    "- "
   ]
  },
  {
   "cell_type": "markdown",
   "metadata": {},
   "source": [
    "<a id=\"8\"></a>\n",
    "# <p style=\"background-color:#682F2F;font-family:newtimeroman;color:#FFF9ED;font-size:150%;text-align:center;border-radius:10px 10px;\">DEPLOYMENT AND ENSEMBLES</p>"
   ]
  },
  {
   "cell_type": "markdown",
   "metadata": {},
   "source": [
    "<a id=\"9\"></a>\n",
    "# <p style=\"background-color:#682F2F;font-family:newtimeroman;color:#FFF9ED;font-size:150%;text-align:center;border-radius:10px 10px;\">END</p>"
   ]
  },
  {
   "cell_type": "markdown",
   "metadata": {},
   "source": [
    "[Return to table of contents](#top)"
   ]
  }
 ],
 "metadata": {
  "interpreter": {
   "hash": "a3c2402a762b1da2b664ca9cbb9344946d41b73132102685c4db1aa6c02b5b44"
  },
  "kernelspec": {
   "display_name": "Python 3.8.5 64-bit ('base': conda)",
   "language": "python",
   "name": "python3"
  },
  "language_info": {
   "codemirror_mode": {
    "name": "ipython",
    "version": 3
   },
   "file_extension": ".py",
   "mimetype": "text/x-python",
   "name": "python",
   "nbconvert_exporter": "python",
   "pygments_lexer": "ipython3",
   "version": "3.8.5"
  },
  "orig_nbformat": 4
 },
 "nbformat": 4,
 "nbformat_minor": 2
}

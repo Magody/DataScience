{
 "cells": [
  {
   "cell_type": "markdown",
   "metadata": {},
   "source": [
    "# Get API data"
   ]
  },
  {
   "cell_type": "code",
   "execution_count": null,
   "metadata": {},
   "outputs": [],
   "source": [
    "from get_data import ExtractSeasonLeague\n",
    "from models.APIFootball import APIFootball\n",
    "import os\n",
    "season = 2022\n",
    "league = 34\n",
    "index_begin = 1\n",
    "index_end = -1\n",
    "time_wait = 61\n",
    "verbose_level = 1\n",
    "\n",
    "# os.environ[\"KEY_API_FOOTBALL\"] = \"asfaf\"\n",
    "api = APIFootball(\n",
    "    os.environ[\"KEY_API_FOOTBALL\"],\n",
    "    verbose_level=verbose_level\n",
    ")\n",
    "\n",
    "extractSeasonLeague:ExtractSeasonLeague = ExtractSeasonLeague(api, season, league)\n",
    "\n",
    "teamsStatistics: dict = extractSeasonLeague.extractTeamsStatistics()\n",
    "print(f\"Teams number: {len(teamsStatistics)}\")\n",
    "\n",
    "fixtures_played_total: int = 0\n",
    "for team_id, team_stats in teamsStatistics.items():\n",
    "    fixtures_played: int = team_stats[\"fixtures\"][\"played\"][\"total\"]\n",
    "    print(f\"Team:{team_id} played: {fixtures_played}\")\n",
    "    fixtures_played_total += fixtures_played\n",
    "print(f\"Total fixtures for season league: {fixtures_played_total}\")\n",
    "fixtures:dict = extractSeasonLeague.extractFixturesStatistics(index_begin, index_end, time_wait)\n",
    "print(f\"Fixtures retrieved: \", len(fixtures[\"fixtures\"]))"
   ]
  },
  {
   "cell_type": "markdown",
   "metadata": {},
   "source": [
    "# Pass to DB"
   ]
  },
  {
   "cell_type": "markdown",
   "metadata": {},
   "source": [
    "Passed to etl.py"
   ]
  },
  {
   "cell_type": "code",
   "execution_count": 17,
   "metadata": {},
   "outputs": [],
   "source": [
    "from models.MongoDatabase import MongoDatabase"
   ]
  },
  {
   "cell_type": "code",
   "execution_count": 18,
   "metadata": {},
   "outputs": [],
   "source": [
    "# MOCK\n",
    "os.environ[\"MODE\"] = \"development\"\n",
    "os.environ[\"MONGODB_USER\"] = \"developer\"\n",
    "os.environ[\"MONGODB_PASS\"] = \"developer123\"\n",
    "os.environ[\"MONGODB_HOST\"] = \"localhost\"\n",
    "os.environ[\"MONGODB_PORT\"] = \"27040\"\n",
    "os.environ[\"MONGODB_DATABASE\"] = \"ptd_development\""
   ]
  },
  {
   "cell_type": "code",
   "execution_count": 20,
   "metadata": {},
   "outputs": [],
   "source": [
    "ENV_MODE = os.environ.get(\"MODE\", \"production\")\n",
    "ENV_MONGODB_USER = os.environ.get(\"MONGODB_USER\")\n",
    "ENV_MONGODB_PASS = os.environ.get(\"MONGODB_PASS\")\n",
    "ENV_MONGODB_HOST = os.environ.get(\"MONGODB_HOST\")\n",
    "ENV_MONGODB_PORT = os.environ.get(\"MONGODB_PORT\")\n",
    "ENV_MONGODB_DATABASE = os.environ.get(\"MONGODB_DATABASE\")\n",
    "mongoDB = MongoDatabase(ENV_MONGODB_DATABASE, f\"mongodb://{ENV_MONGODB_USER}:{ENV_MONGODB_PASS}@{ENV_MONGODB_HOST}:{ENV_MONGODB_PORT}/{ENV_MONGODB_DATABASE}?retryWrites=true&w=majority\")\n"
   ]
  },
  {
   "cell_type": "code",
   "execution_count": 23,
   "metadata": {},
   "outputs": [
    {
     "data": {
      "text/plain": [
       "1"
      ]
     },
     "execution_count": 23,
     "metadata": {},
     "output_type": "execute_result"
    }
   ],
   "source": [
    "mongoDB.db.fixtures.count_documents({\"id\": 293577}, limit=1)"
   ]
  },
  {
   "cell_type": "code",
   "execution_count": null,
   "metadata": {},
   "outputs": [],
   "source": []
  }
 ],
 "metadata": {
  "interpreter": {
   "hash": "e60b5679ac94ff780277acd7dc3839e30fea03d50db722d1abf7b01728681d52"
  },
  "kernelspec": {
   "display_name": "Python 3.8.5 ('envs')",
   "language": "python",
   "name": "python3"
  },
  "language_info": {
   "codemirror_mode": {
    "name": "ipython",
    "version": 3
   },
   "file_extension": ".py",
   "mimetype": "text/x-python",
   "name": "python",
   "nbconvert_exporter": "python",
   "pygments_lexer": "ipython3",
   "version": "3.8.5"
  },
  "orig_nbformat": 4
 },
 "nbformat": 4,
 "nbformat_minor": 2
}
